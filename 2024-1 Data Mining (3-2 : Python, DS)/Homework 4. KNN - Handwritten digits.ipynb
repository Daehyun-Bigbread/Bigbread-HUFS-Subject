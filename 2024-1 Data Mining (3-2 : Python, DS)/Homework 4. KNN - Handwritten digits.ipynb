{
  "cells": [
    {
      "cell_type": "markdown",
      "metadata": {
        "id": "WknLeTbZr35O"
      },
      "source": [
        "# Homework 5. KNN - Handwritten digits"
      ]
    },
    {
      "cell_type": "markdown",
      "metadata": {
        "id": "w_qRpKqAr35S"
      },
      "source": [
        "***Double Click here to edit this cell***\n",
        "\n",
        "- Name: 김대현\n",
        "- Student ID: 202000449\n",
        "- Submission date: 24.05.23"
      ]
    },
    {
      "cell_type": "markdown",
      "metadata": {
        "id": "tlGzD8V_r35S"
      },
      "source": [
        "### We have 1797 handwritten digits of size 8x8"
      ]
    },
    {
      "cell_type": "code",
      "execution_count": null,
      "metadata": {
        "colab": {
          "base_uri": "https://localhost:8080/"
        },
        "id": "LBexLkYdr35T",
        "outputId": "aedb9c1c-4312-45d2-b6a7-8ce0c43153c4"
      },
      "outputs": [
        {
          "output_type": "stream",
          "name": "stdout",
          "text": [
            "(1797, 64)\n"
          ]
        }
      ],
      "source": [
        "from sklearn.datasets import load_digits\n",
        "digits = load_digits()\n",
        "print(digits.data.shape)"
      ]
    },
    {
      "cell_type": "code",
      "execution_count": null,
      "metadata": {
        "colab": {
          "base_uri": "https://localhost:8080/"
        },
        "id": "wYelz-btr35U",
        "outputId": "7d09490e-0883-4176-db1a-a6c16cd4b45a"
      },
      "outputs": [
        {
          "output_type": "execute_result",
          "data": {
            "text/plain": [
              "array([0, 1, 2, ..., 8, 9, 8])"
            ]
          },
          "metadata": {},
          "execution_count": 2
        }
      ],
      "source": [
        "digits.target\n"
      ]
    },
    {
      "cell_type": "code",
      "execution_count": null,
      "metadata": {
        "colab": {
          "base_uri": "https://localhost:8080/"
        },
        "id": "AkLiVfuLr35U",
        "outputId": "cd10a4a0-d23a-48f0-f38a-860222f2f606"
      },
      "outputs": [
        {
          "output_type": "stream",
          "name": "stdout",
          "text": [
            ".. _digits_dataset:\n",
            "\n",
            "Optical recognition of handwritten digits dataset\n",
            "--------------------------------------------------\n",
            "\n",
            "**Data Set Characteristics:**\n",
            "\n",
            "    :Number of Instances: 1797\n",
            "    :Number of Attributes: 64\n",
            "    :Attribute Information: 8x8 image of integer pixels in the range 0..16.\n",
            "    :Missing Attribute Values: None\n",
            "    :Creator: E. Alpaydin (alpaydin '@' boun.edu.tr)\n",
            "    :Date: July; 1998\n",
            "\n",
            "This is a copy of the test set of the UCI ML hand-written digits datasets\n",
            "https://archive.ics.uci.edu/ml/datasets/Optical+Recognition+of+Handwritten+Digits\n",
            "\n",
            "The data set contains images of hand-written digits: 10 classes where\n",
            "each class refers to a digit.\n",
            "\n",
            "Preprocessing programs made available by NIST were used to extract\n",
            "normalized bitmaps of handwritten digits from a preprinted form. From a\n",
            "total of 43 people, 30 contributed to the training set and different 13\n",
            "to the test set. 32x32 bitmaps are divided into nonoverlapping blocks of\n",
            "4x4 and the number of on pixels are counted in each block. This generates\n",
            "an input matrix of 8x8 where each element is an integer in the range\n",
            "0..16. This reduces dimensionality and gives invariance to small\n",
            "distortions.\n",
            "\n",
            "For info on NIST preprocessing routines, see M. D. Garris, J. L. Blue, G.\n",
            "T. Candela, D. L. Dimmick, J. Geist, P. J. Grother, S. A. Janet, and C.\n",
            "L. Wilson, NIST Form-Based Handprint Recognition System, NISTIR 5469,\n",
            "1994.\n",
            "\n",
            ".. topic:: References\n",
            "\n",
            "  - C. Kaynak (1995) Methods of Combining Multiple Classifiers and Their\n",
            "    Applications to Handwritten Digit Recognition, MSc Thesis, Institute of\n",
            "    Graduate Studies in Science and Engineering, Bogazici University.\n",
            "  - E. Alpaydin, C. Kaynak (1998) Cascading Classifiers, Kybernetika.\n",
            "  - Ken Tang and Ponnuthurai N. Suganthan and Xi Yao and A. Kai Qin.\n",
            "    Linear dimensionalityreduction using relevance weighted LDA. School of\n",
            "    Electrical and Electronic Engineering Nanyang Technological University.\n",
            "    2005.\n",
            "  - Claudio Gentile. A New Approximate Maximal Margin Classification\n",
            "    Algorithm. NIPS. 2000.\n",
            "\n"
          ]
        }
      ],
      "source": [
        "# Do not run this cell when you submit you homework\n",
        "\n",
        "print(digits.DESCR)"
      ]
    },
    {
      "cell_type": "markdown",
      "metadata": {
        "id": "pIFt93Mqr35V"
      },
      "source": [
        "### Try with some handwritten images"
      ]
    },
    {
      "cell_type": "code",
      "execution_count": null,
      "metadata": {
        "colab": {
          "base_uri": "https://localhost:8080/",
          "height": 651
        },
        "id": "7EuGYTkHr35V",
        "outputId": "06c9933c-cec0-4c4e-e943-12e28d756d79",
        "scrolled": true
      },
      "outputs": [
        {
          "output_type": "stream",
          "name": "stdout",
          "text": [
            "Target is 4\n",
            "Data is :\n",
            "\n",
            "[[ 0.  0.  0.  2. 13.  0.  0.  0.]\n",
            " [ 0.  0.  0.  8. 15.  0.  0.  0.]\n",
            " [ 0.  0.  5. 16.  5.  2.  0.  0.]\n",
            " [ 0.  0. 15. 12.  1. 16.  4.  0.]\n",
            " [ 0.  4. 16.  2.  9. 16.  8.  0.]\n",
            " [ 0.  0. 10. 14. 16. 16.  4.  0.]\n",
            " [ 0.  0.  0.  0. 13.  8.  0.  0.]\n",
            " [ 0.  0.  0.  0. 13.  6.  0.  0.]]\n"
          ]
        },
        {
          "output_type": "display_data",
          "data": {
            "text/plain": [
              "<Figure size 640x480 with 0 Axes>"
            ]
          },
          "metadata": {}
        },
        {
          "output_type": "display_data",
          "data": {
            "text/plain": [
              "<Figure size 480x480 with 1 Axes>"
            ],
            "image/png": "[encoded data removed]"
          },
          "metadata": {}
        }
      ],
      "source": [
        "# Do not run this cell when you submit you homework\n",
        "\n",
        "import matplotlib.pyplot as plt\n",
        "\n",
        "k = 100\n",
        "print('Target is {}'.format(digits.target[k]))\n",
        "print('Data is :\\n')\n",
        "print(digits.data[k].reshape(8,8))\n",
        "plt.gray()\n",
        "plt.matshow(digits.images[k])\n",
        "plt.show()"
      ]
    },
    {
      "cell_type": "markdown",
      "metadata": {
        "id": "KBKMsTARr35V"
      },
      "source": [
        "### 주의: `train_test_split`의 `random_state`를 0이 아닌 다른 값으로 바꾸거나, 다시 데이터셋을 split하면 0점 처리됨\n",
        "\n",
        "- you must set \"random_state=0\"\" in \"train_test_split\"\n",
        "- don't modify the random number seed (random_state)\n",
        "- Split the data into training dataset (0.67 of the total data), test dataset(0.33 of the total data)"
      ]
    },
    {
      "cell_type": "code",
      "execution_count": null,
      "metadata": {
        "id": "nzEov6v3r35W",
        "scrolled": true
      },
      "outputs": [],
      "source": [
        "from sklearn.model_selection import train_test_split\n",
        "\n",
        "X_train, X_test, y_train, y_test = train_test_split(digits.data, digits.target, test_size=0.33, \\\n",
        "                                                    random_state=0)"
      ]
    },
    {
      "cell_type": "markdown",
      "metadata": {
        "id": "TewL9Jj1r35X"
      },
      "source": [
        "# Problem 1 (10 pts) : 10\n",
        "\n",
        "- We want to classify handwritten digits using **1 nearest neighbor classifier**"
      ]
    },
    {
      "cell_type": "markdown",
      "metadata": {
        "id": "FGfLWETtr35X"
      },
      "source": [
        "- import whatever you need\n",
        "- Use sklearn 1 nearest neighbor classifier to classify digits\n",
        "- Print confusion matrix, classification report, accuracy"
      ]
    },
    {
      "cell_type": "markdown",
      "source": [
        "- 우리는 1개의 가장 가까운 이웃 분류기를 사용하여 손으로 쓴 숫자를 분류하려고 합니다\n",
        "- 필요한 것은 무엇이든 가져오기\n",
        "- sklearn 1 neighbor 분류기를 사용하여 자릿수를 분류합니다\n",
        "- 인쇄 혼동 매트릭스, 분류 보고서, 정확도"
      ],
      "metadata": {
        "id": "bE4pynHUwTqx"
      }
    },
    {
      "cell_type": "code",
      "execution_count": null,
      "metadata": {
        "id": "98Wrh3KJr35X",
        "colab": {
          "base_uri": "https://localhost:8080/"
        },
        "outputId": "f2666002-ff9d-4981-fbe5-052b05d18c2a"
      },
      "outputs": [
        {
          "output_type": "stream",
          "name": "stdout",
          "text": [
            "confusion matrix : \n",
            "\n",
            "[[49  0  0  0  0  0  0  0  0  0]\n",
            " [ 0 61  0  0  0  0  0  0  0  0]\n",
            " [ 0  0 62  0  0  0  0  0  0  0]\n",
            " [ 0  0  0 55  0  0  0  0  0  0]\n",
            " [ 0  0  0  0 50  0  0  0  0  0]\n",
            " [ 0  0  0  0  0 63  1  0  0  1]\n",
            " [ 0  0  0  0  0  0 67  0  0  0]\n",
            " [ 0  0  0  0  0  0  0 56  0  0]\n",
            " [ 0  2  0  1  0  0  0  0 64  0]\n",
            " [ 0  0  0  3  0  1  0  0  0 58]]\n",
            "\n",
            "\n",
            "classification_report : \n",
            "\n",
            "              precision    recall  f1-score   support\n",
            "\n",
            "           0       1.00      1.00      1.00        49\n",
            "           1       0.97      1.00      0.98        61\n",
            "           2       1.00      1.00      1.00        62\n",
            "           3       0.93      1.00      0.96        55\n",
            "           4       1.00      1.00      1.00        50\n",
            "           5       0.98      0.97      0.98        65\n",
            "           6       0.99      1.00      0.99        67\n",
            "           7       1.00      1.00      1.00        56\n",
            "           8       1.00      0.96      0.98        67\n",
            "           9       0.98      0.94      0.96        62\n",
            "\n",
            "    accuracy                           0.98       594\n",
            "   macro avg       0.99      0.99      0.99       594\n",
            "weighted avg       0.99      0.98      0.98       594\n",
            "\n",
            "Average accuracy = 98.48%\n"
          ]
        }
      ],
      "source": [
        "# YOUR CODE HERE\n",
        "\n",
        "import numpy as np\n",
        "from sklearn.neighbors import KNeighborsClassifier\n",
        "from sklearn.metrics import confusion_matrix\n",
        "from sklearn.metrics import classification_report\n",
        "\n",
        "model1 = KNeighborsClassifier(n_neighbors=1)\n",
        "model1.fit(X_train, y_train)\n",
        "y_predict=model1.predict(X_test)\n",
        "\n",
        "confusion_matrix = np.zeros(100).reshape(10, 10).astype(int)\n",
        "accuracy = 0\n",
        "\n",
        "for row, col in zip(y_test, y_predict):\n",
        "  confusion_matrix[row][col]+=1\n",
        "  if row == col: accuracy+=1\n",
        "\n",
        "cr = classification_report(y_test, y_predict)\n",
        "accuracy=accuracy / len(y_test)\n",
        "\n",
        "print('confusion matrix : \\n')\n",
        "print(confusion_matrix)\n",
        "print('\\n\\nclassification_report : \\n')\n",
        "print(cr)\n",
        "print('Average accuracy = {:.2f}%'.format(accuracy*100))"
      ]
    },
    {
      "cell_type": "markdown",
      "metadata": {
        "id": "pyf_yiw6r35X"
      },
      "source": [
        "My result:\n",
        "```\n",
        "confusion matrix :\n",
        "\n",
        "[[49  0  0  0  0  0  0  0  0  0]\n",
        " [ 0 61  0  0  0  0  0  0  0  0]\n",
        " [ 0  0 62  0  0  0  0  0  0  0]\n",
        " [ 0  0  0 55  0  0  0  0  0  0]\n",
        " [ 0  0  0  0 50  0  0  0  0  0]\n",
        " [ 0  0  0  0  0 63  1  0  0  1]\n",
        " [ 0  0  0  0  0  0 67  0  0  0]\n",
        " [ 0  0  0  0  0  0  0 56  0  0]\n",
        " [ 0  2  0  1  0  0  0  0 64  0]\n",
        " [ 0  0  0  3  0  1  0  0  0 58]]\n",
        "\n",
        "\n",
        "classification_report :\n",
        "\n",
        "              precision    recall  f1-score   support\n",
        "\n",
        "           0       1.00      1.00      1.00        49\n",
        "           1       0.97      1.00      0.98        61\n",
        "           2       1.00      1.00      1.00        62\n",
        "           3       0.93      1.00      0.96        55\n",
        "           4       1.00      1.00      1.00        50\n",
        "           5       0.98      0.97      0.98        65\n",
        "           6       0.99      1.00      0.99        67\n",
        "           7       1.00      1.00      1.00        56\n",
        "           8       1.00      0.96      0.98        67\n",
        "           9       0.98      0.94      0.96        62\n",
        "\n",
        "    accuracy                           0.98       594\n",
        "   macro avg       0.99      0.99      0.99       594\n",
        "weighted avg       0.99      0.98      0.98       594\n",
        "\n",
        "Average accuracy = 98.48%\n",
        "```"
      ]
    },
    {
      "cell_type": "markdown",
      "metadata": {
        "id": "NQp91cL5r35Y"
      },
      "source": [
        "# Problem 2 (30 pts) - Choose k : 15\n",
        "\n",
        "- We want to classify handwritten digits using k nearest neighbor classifier\n",
        "- Use dimensionality reduction technique like PCA or TSNE if necessary\n",
        "- If you choose any hyperparameters and you did any transformation in your data, justify your choice and transformation.\n",
        "- The justification must be code, data, or plotted images, **not your guess!!!**\n",
        "- This must be a longer code.\n",
        "- To justify your choice of hyperparameters, use visualization or plotting whenever possible.\n",
        "- You may add as many cells as you want.\n",
        "- To add a cell, insert->insert cell or click '+' button above in the notebook.\n",
        "- you must set \"random_state=0\" in \"train_test_split\", \"TSNE\" or on any functions based on random numbers\n",
        "\n",
        "### This will be evaluated based on average accuracy"
      ]
    },
    {
      "cell_type": "markdown",
      "source": [
        "- k개의 가장 가까운 이웃 분류기를 사용하여 손으로 쓴 숫자를 분류하려고 합니다\n",
        "- 필요한 경우 PCA 또는 TSNE와 같은 차원 축소 기법 사용\n",
        "- 하이퍼파라미터를 선택하고 데이터에서 변환을 수행한 경우 선택 및 변환을 정당화합니다.\n",
        "- 그 이유는 코드, 데이터 또는 도표 이미지여야 합니다. **당신의 추측이 아닙니다\n",
        "- 이 코드는 더 긴 코드여야 합니다.\n",
        "- 하이퍼파라미터를 선택한 이유를 정당화하려면 가능한 한 시각화 또는 도표화를 사용합니다.\n",
        "- 원하는 만큼 셀을 추가할 수 있습니다.\n",
        "- 셀을 추가하려면 노트북에서 셀을 삽입하거나 위의 '+' 버튼을 클릭합니다.\n",
        "- \"train_test_split\", \"TSNE\" 또는 난수를 기반으로 하는 임의의 함수에 대해 \"random_state=0\"을 설정해야 합니다\n",
        "\n",
        "### 이는 평균 정확도를 기반으로 평가됩니다"
      ],
      "metadata": {
        "id": "IbPJBBaXwxL_"
      }
    },
    {
      "cell_type": "raw",
      "metadata": {
        "id": "9PIRGKJpr35Y"
      },
      "source": [
        "# random_state must be set to 0\n",
        "\n",
        "TSNE(..., random_state=0)\n",
        "\n",
        "train_test_split(..., random_state=0)"
      ]
    },
    {
      "cell_type": "code",
      "execution_count": null,
      "metadata": {
        "id": "1oZoAIqzr35Z",
        "colab": {
          "base_uri": "https://localhost:8080/"
        },
        "outputId": "134bc325-f82e-4295-ccf8-54b8cddba762"
      },
      "outputs": [
        {
          "output_type": "execute_result",
          "data": {
            "text/plain": [
              "array([[ 1.        ,  1.        ,  0.30976431],\n",
              "       [ 1.        ,  3.        ,  0.31481481],\n",
              "       [ 1.        ,  5.        ,  0.31481481],\n",
              "       ...,\n",
              "       [64.        , 35.        ,  0.94781145],\n",
              "       [64.        , 37.        ,  0.94444444],\n",
              "       [64.        , 39.        ,  0.93602694]])"
            ]
          },
          "metadata": {},
          "execution_count": 7
        }
      ],
      "source": [
        "# ADD YOUR CELL\n",
        "from sklearn.decomposition import PCA\n",
        "\n",
        "# 정확도 계산 함수\n",
        "def Accuracy(test,predict):\n",
        "  score = 0\n",
        "  for i, j in zip(test,predict):\n",
        "    if i == j: score += 1\n",
        "  return score / len(test)\n",
        "acc_list = []\n",
        "\n",
        "# 실험해 볼 하이퍼 파라미터 : PCA의 차원, k\n",
        "for nComponent in range(1, 65):\n",
        "  # PCA 모델 생성\n",
        "  pca = PCA(n_components = nComponent,random_state = 0)\n",
        "  # train 데이터에 PCA 적용\n",
        "  trainX_PCA = pca.fit_transform(X_train)\n",
        "  transform_matrix = pca.components_\n",
        "\n",
        "  # test 데이터에도 PCA 적용\n",
        "  testX_PCA = pca.transform(X_test)\n",
        "  # testX_PCA = np.dot(transform_matrix.T,X_test)\n",
        "  meanAcc = 0\n",
        "\n",
        "  for k in range(1, 40, 2):\n",
        "    model = KNeighborsClassifier(n_neighbors = k)\n",
        "    model.fit(trainX_PCA, y_train)\n",
        "    y_predict = model.predict(testX_PCA)\n",
        "    accuracy = Accuracy(y_test, y_predict)\n",
        "    acc_list.append([nComponent, k, accuracy])\n",
        "acc_list = np.array(acc_list)\n",
        "acc_list"
      ]
    },
    {
      "cell_type": "markdown",
      "source": [
        "#### 차원별 Accuracy 최대값 계산"
      ],
      "metadata": {
        "id": "UOWNujL90Mvc"
      }
    },
    {
      "cell_type": "code",
      "source": [
        "# 각 Accuracy max값 계산후, Column화\n",
        "import pandas as pd\n",
        "import matplotlib.pyplot as plt\n",
        "\n",
        "df_acc = pd.DataFrame(acc_list,columns=['nComponent','k','Accuracy']) # acclist: 정확도를 저장한 리스트\n",
        "aveAccNcom = df_acc.groupby('nComponent')['Accuracy'].mean()\n",
        "aveAccNcom=pd.DataFrame(aveAccNcom)\n",
        "aveAccNcom"
      ],
      "metadata": {
        "id": "h3u1w_Ko_ixM",
        "colab": {
          "base_uri": "https://localhost:8080/",
          "height": 455
        },
        "outputId": "b34f21a2-47d6-4906-9796-6bc1ba25f6b1"
      },
      "execution_count": null,
      "outputs": [
        {
          "output_type": "execute_result",
          "data": {
            "text/plain": [
              "            Accuracy\n",
              "nComponent          \n",
              "1.0         0.351768\n",
              "2.0         0.614226\n",
              "3.0         0.731145\n",
              "4.0         0.834933\n",
              "5.0         0.887963\n",
              "...              ...\n",
              "60.0        0.963131\n",
              "61.0        0.962963\n",
              "62.0        0.962963\n",
              "63.0        0.962963\n",
              "64.0        0.962963\n",
              "\n",
              "[64 rows x 1 columns]"
            ],
            "text/html": [
              "\n",
              "  <div id=\"df-b5759377-4576-4b48-9526-48891b0f7a52\" class=\"colab-df-container\">\n",
              "    <div>\n",
              "<style scoped>\n",
              "    .dataframe tbody tr th:only-of-type {\n",
              "        vertical-align: middle;\n",
              "    }\n",
              "\n",
              "    .dataframe tbody tr th {\n",
              "        vertical-align: top;\n",
              "    }\n",
              "\n",
              "    .dataframe thead th {\n",
              "        text-align: right;\n",
              "    }\n",
              "</style>\n",
              "<table border=\"1\" class=\"dataframe\">\n",
              "  <thead>\n",
              "    <tr style=\"text-align: right;\">\n",
              "      <th></th>\n",
              "      <th>Accuracy</th>\n",
              "    </tr>\n",
              "    <tr>\n",
              "      <th>nComponent</th>\n",
              "      <th></th>\n",
              "    </tr>\n",
              "  </thead>\n",
              "  <tbody>\n",
              "    <tr>\n",
              "      <th>1.0</th>\n",
              "      <td>0.351768</td>\n",
              "    </tr>\n",
              "    <tr>\n",
              "      <th>2.0</th>\n",
              "      <td>0.614226</td>\n",
              "    </tr>\n",
              "    <tr>\n",
              "      <th>3.0</th>\n",
              "      <td>0.731145</td>\n",
              "    </tr>\n",
              "    <tr>\n",
              "      <th>4.0</th>\n",
              "      <td>0.834933</td>\n",
              "    </tr>\n",
              "    <tr>\n",
              "      <th>5.0</th>\n",
              "      <td>0.887963</td>\n",
              "    </tr>\n",
              "    <tr>\n",
              "      <th>...</th>\n",
              "      <td>...</td>\n",
              "    </tr>\n",
              "    <tr>\n",
              "      <th>60.0</th>\n",
              "      <td>0.963131</td>\n",
              "    </tr>\n",
              "    <tr>\n",
              "      <th>61.0</th>\n",
              "      <td>0.962963</td>\n",
              "    </tr>\n",
              "    <tr>\n",
              "      <th>62.0</th>\n",
              "      <td>0.962963</td>\n",
              "    </tr>\n",
              "    <tr>\n",
              "      <th>63.0</th>\n",
              "      <td>0.962963</td>\n",
              "    </tr>\n",
              "    <tr>\n",
              "      <th>64.0</th>\n",
              "      <td>0.962963</td>\n",
              "    </tr>\n",
              "  </tbody>\n",
              "</table>\n",
              "<p>64 rows × 1 columns</p>\n",
              "</div>\n",
              "    <div class=\"colab-df-buttons\">\n",
              "\n",
              "  <div class=\"colab-df-container\">\n",
              "    <button class=\"colab-df-convert\" onclick=\"convertToInteractive('df-b5759377-4576-4b48-9526-48891b0f7a52')\"\n",
              "            title=\"Convert this dataframe to an interactive table.\"\n",
              "            style=\"display:none;\">\n",
              "\n",
              "  <svg xmlns=\"http://www.w3.org/2000/svg\" height=\"24px\" viewBox=\"0 -960 960 960\">\n",
              "    <path d=\"M120-120v-720h720v720H120Zm60-500h600v-160H180v160Zm220 220h160v-160H400v160Zm0 220h160v-160H400v160ZM180-400h160v-160H180v160Zm440 0h160v-160H620v160ZM180-180h160v-160H180v160Zm440 0h160v-160H620v160Z\"/>\n",
              "  </svg>\n",
              "    </button>\n",
              "\n",
              "  <style>\n",
              "    .colab-df-container {\n",
              "      display:flex;\n",
              "      gap: 12px;\n",
              "    }\n",
              "\n",
              "    .colab-df-convert {\n",
              "      background-color: #E8F0FE;\n",
              "      border: none;\n",
              "      border-radius: 50%;\n",
              "      cursor: pointer;\n",
              "      display: none;\n",
              "      fill: #1967D2;\n",
              "      height: 32px;\n",
              "      padding: 0 0 0 0;\n",
              "      width: 32px;\n",
              "    }\n",
              "\n",
              "    .colab-df-convert:hover {\n",
              "      background-color: #E2EBFA;\n",
              "      box-shadow: 0px 1px 2px rgba(60, 64, 67, 0.3), 0px 1px 3px 1px rgba(60, 64, 67, 0.15);\n",
              "      fill: #174EA6;\n",
              "    }\n",
              "\n",
              "    .colab-df-buttons div {\n",
              "      margin-bottom: 4px;\n",
              "    }\n",
              "\n",
              "    [theme=dark] .colab-df-convert {\n",
              "      background-color: #3B4455;\n",
              "      fill: #D2E3FC;\n",
              "    }\n",
              "\n",
              "    [theme=dark] .colab-df-convert:hover {\n",
              "      background-color: #434B5C;\n",
              "      box-shadow: 0px 1px 3px 1px rgba(0, 0, 0, 0.15);\n",
              "      filter: drop-shadow(0px 1px 2px rgba(0, 0, 0, 0.3));\n",
              "      fill: #FFFFFF;\n",
              "    }\n",
              "  </style>\n",
              "\n",
              "    <script>\n",
              "      const buttonEl =\n",
              "        document.querySelector('#df-b5759377-4576-4b48-9526-48891b0f7a52 button.colab-df-convert');\n",
              "      buttonEl.style.display =\n",
              "        google.colab.kernel.accessAllowed ? 'block' : 'none';\n",
              "\n",
              "      async function convertToInteractive(key) {\n",
              "        const element = document.querySelector('#df-b5759377-4576-4b48-9526-48891b0f7a52');\n",
              "        const dataTable =\n",
              "          await google.colab.kernel.invokeFunction('convertToInteractive',\n",
              "                                                    [key], {});\n",
              "        if (!dataTable) return;\n",
              "\n",
              "        const docLinkHtml = 'Like what you see? Visit the ' +\n",
              "          '<a target=\"_blank\" href=https://colab.research.google.com/notebooks/data_table.ipynb>data table notebook</a>'\n",
              "          + ' to learn more about interactive tables.';\n",
              "        element.innerHTML = '';\n",
              "        dataTable['output_type'] = 'display_data';\n",
              "        await google.colab.output.renderOutput(dataTable, element);\n",
              "        const docLink = document.createElement('div');\n",
              "        docLink.innerHTML = docLinkHtml;\n",
              "        element.appendChild(docLink);\n",
              "      }\n",
              "    </script>\n",
              "  </div>\n",
              "\n",
              "\n",
              "<div id=\"df-6737d3b0-f6aa-4f88-b3d0-44ab9839e38e\">\n",
              "  <button class=\"colab-df-quickchart\" onclick=\"quickchart('df-6737d3b0-f6aa-4f88-b3d0-44ab9839e38e')\"\n",
              "            title=\"Suggest charts\"\n",
              "            style=\"display:none;\">\n",
              "\n",
              "<svg xmlns=\"http://www.w3.org/2000/svg\" height=\"24px\"viewBox=\"0 0 24 24\"\n",
              "     width=\"24px\">\n",
              "    <g>\n",
              "        <path d=\"M19 3H5c-1.1 0-2 .9-2 2v14c0 1.1.9 2 2 2h14c1.1 0 2-.9 2-2V5c0-1.1-.9-2-2-2zM9 17H7v-7h2v7zm4 0h-2V7h2v10zm4 0h-2v-4h2v4z\"/>\n",
              "    </g>\n",
              "</svg>\n",
              "  </button>\n",
              "\n",
              "<style>\n",
              "  .colab-df-quickchart {\n",
              "      --bg-color: #E8F0FE;\n",
              "      --fill-color: #1967D2;\n",
              "      --hover-bg-color: #E2EBFA;\n",
              "      --hover-fill-color: #174EA6;\n",
              "      --disabled-fill-color: #AAA;\n",
              "      --disabled-bg-color: #DDD;\n",
              "  }\n",
              "\n",
              "  [theme=dark] .colab-df-quickchart {\n",
              "      --bg-color: #3B4455;\n",
              "      --fill-color: #D2E3FC;\n",
              "      --hover-bg-color: #434B5C;\n",
              "      --hover-fill-color: #FFFFFF;\n",
              "      --disabled-bg-color: #3B4455;\n",
              "      --disabled-fill-color: #666;\n",
              "  }\n",
              "\n",
              "  .colab-df-quickchart {\n",
              "    background-color: var(--bg-color);\n",
              "    border: none;\n",
              "    border-radius: 50%;\n",
              "    cursor: pointer;\n",
              "    display: none;\n",
              "    fill: var(--fill-color);\n",
              "    height: 32px;\n",
              "    padding: 0;\n",
              "    width: 32px;\n",
              "  }\n",
              "\n",
              "  .colab-df-quickchart:hover {\n",
              "    background-color: var(--hover-bg-color);\n",
              "    box-shadow: 0 1px 2px rgba(60, 64, 67, 0.3), 0 1px 3px 1px rgba(60, 64, 67, 0.15);\n",
              "    fill: var(--button-hover-fill-color);\n",
              "  }\n",
              "\n",
              "  .colab-df-quickchart-complete:disabled,\n",
              "  .colab-df-quickchart-complete:disabled:hover {\n",
              "    background-color: var(--disabled-bg-color);\n",
              "    fill: var(--disabled-fill-color);\n",
              "    box-shadow: none;\n",
              "  }\n",
              "\n",
              "  .colab-df-spinner {\n",
              "    border: 2px solid var(--fill-color);\n",
              "    border-color: transparent;\n",
              "    border-bottom-color: var(--fill-color);\n",
              "    animation:\n",
              "      spin 1s steps(1) infinite;\n",
              "  }\n",
              "\n",
              "  @keyframes spin {\n",
              "    0% {\n",
              "      border-color: transparent;\n",
              "      border-bottom-color: var(--fill-color);\n",
              "      border-left-color: var(--fill-color);\n",
              "    }\n",
              "    20% {\n",
              "      border-color: transparent;\n",
              "      border-left-color: var(--fill-color);\n",
              "      border-top-color: var(--fill-color);\n",
              "    }\n",
              "    30% {\n",
              "      border-color: transparent;\n",
              "      border-left-color: var(--fill-color);\n",
              "      border-top-color: var(--fill-color);\n",
              "      border-right-color: var(--fill-color);\n",
              "    }\n",
              "    40% {\n",
              "      border-color: transparent;\n",
              "      border-right-color: var(--fill-color);\n",
              "      border-top-color: var(--fill-color);\n",
              "    }\n",
              "    60% {\n",
              "      border-color: transparent;\n",
              "      border-right-color: var(--fill-color);\n",
              "    }\n",
              "    80% {\n",
              "      border-color: transparent;\n",
              "      border-right-color: var(--fill-color);\n",
              "      border-bottom-color: var(--fill-color);\n",
              "    }\n",
              "    90% {\n",
              "      border-color: transparent;\n",
              "      border-bottom-color: var(--fill-color);\n",
              "    }\n",
              "  }\n",
              "</style>\n",
              "\n",
              "  <script>\n",
              "    async function quickchart(key) {\n",
              "      const quickchartButtonEl =\n",
              "        document.querySelector('#' + key + ' button');\n",
              "      quickchartButtonEl.disabled = true;  // To prevent multiple clicks.\n",
              "      quickchartButtonEl.classList.add('colab-df-spinner');\n",
              "      try {\n",
              "        const charts = await google.colab.kernel.invokeFunction(\n",
              "            'suggestCharts', [key], {});\n",
              "      } catch (error) {\n",
              "        console.error('Error during call to suggestCharts:', error);\n",
              "      }\n",
              "      quickchartButtonEl.classList.remove('colab-df-spinner');\n",
              "      quickchartButtonEl.classList.add('colab-df-quickchart-complete');\n",
              "    }\n",
              "    (() => {\n",
              "      let quickchartButtonEl =\n",
              "        document.querySelector('#df-6737d3b0-f6aa-4f88-b3d0-44ab9839e38e button');\n",
              "      quickchartButtonEl.style.display =\n",
              "        google.colab.kernel.accessAllowed ? 'block' : 'none';\n",
              "    })();\n",
              "  </script>\n",
              "</div>\n",
              "    </div>\n",
              "  </div>\n"
            ],
            "application/vnd.google.colaboratory.intrinsic+json": {
              "type": "dataframe",
              "variable_name": "aveAccNcom",
              "summary": "{\n  \"name\": \"aveAccNcom\",\n  \"rows\": 64,\n  \"fields\": [\n    {\n      \"column\": \"nComponent\",\n      \"properties\": {\n        \"dtype\": \"number\",\n        \"std\": 18.618986725025255,\n        \"min\": 1.0,\n        \"max\": 64.0,\n        \"num_unique_values\": 64,\n        \"samples\": [\n          53.0,\n          59.0,\n          1.0\n        ],\n        \"semantic_type\": \"\",\n        \"description\": \"\"\n      }\n    },\n    {\n      \"column\": \"Accuracy\",\n      \"properties\": {\n        \"dtype\": \"number\",\n        \"std\": 0.09221780149231966,\n        \"min\": 0.3517676767676768,\n        \"max\": 0.9631313131313132,\n        \"num_unique_values\": 37,\n        \"samples\": [\n          0.9588383838383839,\n          0.9566498316498316,\n          0.887962962962963\n        ],\n        \"semantic_type\": \"\",\n        \"description\": \"\"\n      }\n    }\n  ]\n}"
            }
          },
          "metadata": {},
          "execution_count": 10
        }
      ]
    },
    {
      "cell_type": "markdown",
      "source": [
        "#### nComponent Accuracy 최대값 도출"
      ],
      "metadata": {
        "id": "E-hIXTYp_kwg"
      }
    },
    {
      "cell_type": "code",
      "source": [
        "import pandas as pd\n",
        "import matplotlib.pyplot as plt\n",
        "\n",
        "# nComponent Accuracy 최대값 도출\n",
        "avg_accuracy_nCom = df_acc.groupby('nComponent')['Accuracy'].mean()\n",
        "avg_accuracy_nCom = pd.DataFrame(avg_accuracy_nCom)\n",
        "avg_accuracy_nCom"
      ],
      "metadata": {
        "colab": {
          "base_uri": "https://localhost:8080/",
          "height": 455
        },
        "id": "9T1GbUZiyUCw",
        "outputId": "714f23f6-c2cd-44cd-dff3-d0549af5fab1"
      },
      "execution_count": null,
      "outputs": [
        {
          "output_type": "execute_result",
          "data": {
            "text/plain": [
              "            Accuracy\n",
              "nComponent          \n",
              "1.0         0.351768\n",
              "2.0         0.614226\n",
              "3.0         0.731145\n",
              "4.0         0.834933\n",
              "5.0         0.887963\n",
              "...              ...\n",
              "60.0        0.963131\n",
              "61.0        0.962963\n",
              "62.0        0.962963\n",
              "63.0        0.962963\n",
              "64.0        0.962963\n",
              "\n",
              "[64 rows x 1 columns]"
            ],
            "text/html": [
              "\n",
              "  <div id=\"df-3b120dac-d3fe-4711-a04b-b7976f173222\" class=\"colab-df-container\">\n",
              "    <div>\n",
              "<style scoped>\n",
              "    .dataframe tbody tr th:only-of-type {\n",
              "        vertical-align: middle;\n",
              "    }\n",
              "\n",
              "    .dataframe tbody tr th {\n",
              "        vertical-align: top;\n",
              "    }\n",
              "\n",
              "    .dataframe thead th {\n",
              "        text-align: right;\n",
              "    }\n",
              "</style>\n",
              "<table border=\"1\" class=\"dataframe\">\n",
              "  <thead>\n",
              "    <tr style=\"text-align: right;\">\n",
              "      <th></th>\n",
              "      <th>Accuracy</th>\n",
              "    </tr>\n",
              "    <tr>\n",
              "      <th>nComponent</th>\n",
              "      <th></th>\n",
              "    </tr>\n",
              "  </thead>\n",
              "  <tbody>\n",
              "    <tr>\n",
              "      <th>1.0</th>\n",
              "      <td>0.351768</td>\n",
              "    </tr>\n",
              "    <tr>\n",
              "      <th>2.0</th>\n",
              "      <td>0.614226</td>\n",
              "    </tr>\n",
              "    <tr>\n",
              "      <th>3.0</th>\n",
              "      <td>0.731145</td>\n",
              "    </tr>\n",
              "    <tr>\n",
              "      <th>4.0</th>\n",
              "      <td>0.834933</td>\n",
              "    </tr>\n",
              "    <tr>\n",
              "      <th>5.0</th>\n",
              "      <td>0.887963</td>\n",
              "    </tr>\n",
              "    <tr>\n",
              "      <th>...</th>\n",
              "      <td>...</td>\n",
              "    </tr>\n",
              "    <tr>\n",
              "      <th>60.0</th>\n",
              "      <td>0.963131</td>\n",
              "    </tr>\n",
              "    <tr>\n",
              "      <th>61.0</th>\n",
              "      <td>0.962963</td>\n",
              "    </tr>\n",
              "    <tr>\n",
              "      <th>62.0</th>\n",
              "      <td>0.962963</td>\n",
              "    </tr>\n",
              "    <tr>\n",
              "      <th>63.0</th>\n",
              "      <td>0.962963</td>\n",
              "    </tr>\n",
              "    <tr>\n",
              "      <th>64.0</th>\n",
              "      <td>0.962963</td>\n",
              "    </tr>\n",
              "  </tbody>\n",
              "</table>\n",
              "<p>64 rows × 1 columns</p>\n",
              "</div>\n",
              "    <div class=\"colab-df-buttons\">\n",
              "\n",
              "  <div class=\"colab-df-container\">\n",
              "    <button class=\"colab-df-convert\" onclick=\"convertToInteractive('df-3b120dac-d3fe-4711-a04b-b7976f173222')\"\n",
              "            title=\"Convert this dataframe to an interactive table.\"\n",
              "            style=\"display:none;\">\n",
              "\n",
              "  <svg xmlns=\"http://www.w3.org/2000/svg\" height=\"24px\" viewBox=\"0 -960 960 960\">\n",
              "    <path d=\"M120-120v-720h720v720H120Zm60-500h600v-160H180v160Zm220 220h160v-160H400v160Zm0 220h160v-160H400v160ZM180-400h160v-160H180v160Zm440 0h160v-160H620v160ZM180-180h160v-160H180v160Zm440 0h160v-160H620v160Z\"/>\n",
              "  </svg>\n",
              "    </button>\n",
              "\n",
              "  <style>\n",
              "    .colab-df-container {\n",
              "      display:flex;\n",
              "      gap: 12px;\n",
              "    }\n",
              "\n",
              "    .colab-df-convert {\n",
              "      background-color: #E8F0FE;\n",
              "      border: none;\n",
              "      border-radius: 50%;\n",
              "      cursor: pointer;\n",
              "      display: none;\n",
              "      fill: #1967D2;\n",
              "      height: 32px;\n",
              "      padding: 0 0 0 0;\n",
              "      width: 32px;\n",
              "    }\n",
              "\n",
              "    .colab-df-convert:hover {\n",
              "      background-color: #E2EBFA;\n",
              "      box-shadow: 0px 1px 2px rgba(60, 64, 67, 0.3), 0px 1px 3px 1px rgba(60, 64, 67, 0.15);\n",
              "      fill: #174EA6;\n",
              "    }\n",
              "\n",
              "    .colab-df-buttons div {\n",
              "      margin-bottom: 4px;\n",
              "    }\n",
              "\n",
              "    [theme=dark] .colab-df-convert {\n",
              "      background-color: #3B4455;\n",
              "      fill: #D2E3FC;\n",
              "    }\n",
              "\n",
              "    [theme=dark] .colab-df-convert:hover {\n",
              "      background-color: #434B5C;\n",
              "      box-shadow: 0px 1px 3px 1px rgba(0, 0, 0, 0.15);\n",
              "      filter: drop-shadow(0px 1px 2px rgba(0, 0, 0, 0.3));\n",
              "      fill: #FFFFFF;\n",
              "    }\n",
              "  </style>\n",
              "\n",
              "    <script>\n",
              "      const buttonEl =\n",
              "        document.querySelector('#df-3b120dac-d3fe-4711-a04b-b7976f173222 button.colab-df-convert');\n",
              "      buttonEl.style.display =\n",
              "        google.colab.kernel.accessAllowed ? 'block' : 'none';\n",
              "\n",
              "      async function convertToInteractive(key) {\n",
              "        const element = document.querySelector('#df-3b120dac-d3fe-4711-a04b-b7976f173222');\n",
              "        const dataTable =\n",
              "          await google.colab.kernel.invokeFunction('convertToInteractive',\n",
              "                                                    [key], {});\n",
              "        if (!dataTable) return;\n",
              "\n",
              "        const docLinkHtml = 'Like what you see? Visit the ' +\n",
              "          '<a target=\"_blank\" href=https://colab.research.google.com/notebooks/data_table.ipynb>data table notebook</a>'\n",
              "          + ' to learn more about interactive tables.';\n",
              "        element.innerHTML = '';\n",
              "        dataTable['output_type'] = 'display_data';\n",
              "        await google.colab.output.renderOutput(dataTable, element);\n",
              "        const docLink = document.createElement('div');\n",
              "        docLink.innerHTML = docLinkHtml;\n",
              "        element.appendChild(docLink);\n",
              "      }\n",
              "    </script>\n",
              "  </div>\n",
              "\n",
              "\n",
              "<div id=\"df-f49cbc5f-f3c7-4fd5-ade0-8458d4b7a1ab\">\n",
              "  <button class=\"colab-df-quickchart\" onclick=\"quickchart('df-f49cbc5f-f3c7-4fd5-ade0-8458d4b7a1ab')\"\n",
              "            title=\"Suggest charts\"\n",
              "            style=\"display:none;\">\n",
              "\n",
              "<svg xmlns=\"http://www.w3.org/2000/svg\" height=\"24px\"viewBox=\"0 0 24 24\"\n",
              "     width=\"24px\">\n",
              "    <g>\n",
              "        <path d=\"M19 3H5c-1.1 0-2 .9-2 2v14c0 1.1.9 2 2 2h14c1.1 0 2-.9 2-2V5c0-1.1-.9-2-2-2zM9 17H7v-7h2v7zm4 0h-2V7h2v10zm4 0h-2v-4h2v4z\"/>\n",
              "    </g>\n",
              "</svg>\n",
              "  </button>\n",
              "\n",
              "<style>\n",
              "  .colab-df-quickchart {\n",
              "      --bg-color: #E8F0FE;\n",
              "      --fill-color: #1967D2;\n",
              "      --hover-bg-color: #E2EBFA;\n",
              "      --hover-fill-color: #174EA6;\n",
              "      --disabled-fill-color: #AAA;\n",
              "      --disabled-bg-color: #DDD;\n",
              "  }\n",
              "\n",
              "  [theme=dark] .colab-df-quickchart {\n",
              "      --bg-color: #3B4455;\n",
              "      --fill-color: #D2E3FC;\n",
              "      --hover-bg-color: #434B5C;\n",
              "      --hover-fill-color: #FFFFFF;\n",
              "      --disabled-bg-color: #3B4455;\n",
              "      --disabled-fill-color: #666;\n",
              "  }\n",
              "\n",
              "  .colab-df-quickchart {\n",
              "    background-color: var(--bg-color);\n",
              "    border: none;\n",
              "    border-radius: 50%;\n",
              "    cursor: pointer;\n",
              "    display: none;\n",
              "    fill: var(--fill-color);\n",
              "    height: 32px;\n",
              "    padding: 0;\n",
              "    width: 32px;\n",
              "  }\n",
              "\n",
              "  .colab-df-quickchart:hover {\n",
              "    background-color: var(--hover-bg-color);\n",
              "    box-shadow: 0 1px 2px rgba(60, 64, 67, 0.3), 0 1px 3px 1px rgba(60, 64, 67, 0.15);\n",
              "    fill: var(--button-hover-fill-color);\n",
              "  }\n",
              "\n",
              "  .colab-df-quickchart-complete:disabled,\n",
              "  .colab-df-quickchart-complete:disabled:hover {\n",
              "    background-color: var(--disabled-bg-color);\n",
              "    fill: var(--disabled-fill-color);\n",
              "    box-shadow: none;\n",
              "  }\n",
              "\n",
              "  .colab-df-spinner {\n",
              "    border: 2px solid var(--fill-color);\n",
              "    border-color: transparent;\n",
              "    border-bottom-color: var(--fill-color);\n",
              "    animation:\n",
              "      spin 1s steps(1) infinite;\n",
              "  }\n",
              "\n",
              "  @keyframes spin {\n",
              "    0% {\n",
              "      border-color: transparent;\n",
              "      border-bottom-color: var(--fill-color);\n",
              "      border-left-color: var(--fill-color);\n",
              "    }\n",
              "    20% {\n",
              "      border-color: transparent;\n",
              "      border-left-color: var(--fill-color);\n",
              "      border-top-color: var(--fill-color);\n",
              "    }\n",
              "    30% {\n",
              "      border-color: transparent;\n",
              "      border-left-color: var(--fill-color);\n",
              "      border-top-color: var(--fill-color);\n",
              "      border-right-color: var(--fill-color);\n",
              "    }\n",
              "    40% {\n",
              "      border-color: transparent;\n",
              "      border-right-color: var(--fill-color);\n",
              "      border-top-color: var(--fill-color);\n",
              "    }\n",
              "    60% {\n",
              "      border-color: transparent;\n",
              "      border-right-color: var(--fill-color);\n",
              "    }\n",
              "    80% {\n",
              "      border-color: transparent;\n",
              "      border-right-color: var(--fill-color);\n",
              "      border-bottom-color: var(--fill-color);\n",
              "    }\n",
              "    90% {\n",
              "      border-color: transparent;\n",
              "      border-bottom-color: var(--fill-color);\n",
              "    }\n",
              "  }\n",
              "</style>\n",
              "\n",
              "  <script>\n",
              "    async function quickchart(key) {\n",
              "      const quickchartButtonEl =\n",
              "        document.querySelector('#' + key + ' button');\n",
              "      quickchartButtonEl.disabled = true;  // To prevent multiple clicks.\n",
              "      quickchartButtonEl.classList.add('colab-df-spinner');\n",
              "      try {\n",
              "        const charts = await google.colab.kernel.invokeFunction(\n",
              "            'suggestCharts', [key], {});\n",
              "      } catch (error) {\n",
              "        console.error('Error during call to suggestCharts:', error);\n",
              "      }\n",
              "      quickchartButtonEl.classList.remove('colab-df-spinner');\n",
              "      quickchartButtonEl.classList.add('colab-df-quickchart-complete');\n",
              "    }\n",
              "    (() => {\n",
              "      let quickchartButtonEl =\n",
              "        document.querySelector('#df-f49cbc5f-f3c7-4fd5-ade0-8458d4b7a1ab button');\n",
              "      quickchartButtonEl.style.display =\n",
              "        google.colab.kernel.accessAllowed ? 'block' : 'none';\n",
              "    })();\n",
              "  </script>\n",
              "</div>\n",
              "    </div>\n",
              "  </div>\n"
            ],
            "application/vnd.google.colaboratory.intrinsic+json": {
              "type": "dataframe",
              "variable_name": "avg_accuracy_nCom",
              "summary": "{\n  \"name\": \"avg_accuracy_nCom\",\n  \"rows\": 64,\n  \"fields\": [\n    {\n      \"column\": \"nComponent\",\n      \"properties\": {\n        \"dtype\": \"number\",\n        \"std\": 18.618986725025255,\n        \"min\": 1.0,\n        \"max\": 64.0,\n        \"num_unique_values\": 64,\n        \"samples\": [\n          53.0,\n          59.0,\n          1.0\n        ],\n        \"semantic_type\": \"\",\n        \"description\": \"\"\n      }\n    },\n    {\n      \"column\": \"Accuracy\",\n      \"properties\": {\n        \"dtype\": \"number\",\n        \"std\": 0.09221780149231966,\n        \"min\": 0.3517676767676768,\n        \"max\": 0.9631313131313132,\n        \"num_unique_values\": 37,\n        \"samples\": [\n          0.9588383838383839,\n          0.9566498316498316,\n          0.887962962962963\n        ],\n        \"semantic_type\": \"\",\n        \"description\": \"\"\n      }\n    }\n  ]\n}"
            }
          },
          "metadata": {},
          "execution_count": 11
        }
      ]
    },
    {
      "cell_type": "markdown",
      "source": [
        "#### nComponent Accuracy plot화"
      ],
      "metadata": {
        "id": "zt6LL9rS0Wx2"
      }
    },
    {
      "cell_type": "code",
      "source": [
        "plt.plot(avg_accuracy_nCom.index,avg_accuracy_nCom['Accuracy'])\n",
        "plt.xlabel('nComponent')\n",
        "plt.ylabel('Accuracy')\n",
        "plt.title('Accuracy of nComponent')\n",
        "plt.ylim(0.9,1.0)\n",
        "plt.grid(True)\n",
        "plt.show()\n",
        "print(\"best nComponent(avg_case) : %d \"%np.argmax(avg_accuracy_nCom['Accuracy']))"
      ],
      "metadata": {
        "colab": {
          "base_uri": "https://localhost:8080/",
          "height": 490
        },
        "id": "xpFrseev0DWe",
        "outputId": "f31c699a-a5bb-42ea-e936-96e528f9123a"
      },
      "execution_count": null,
      "outputs": [
        {
          "output_type": "display_data",
          "data": {
            "text/plain": [
              "<Figure size 640x480 with 1 Axes>"
            ],
            "image/png": "[encoded data removed]"
          },
          "metadata": {}
        },
        {
          "output_type": "stream",
          "name": "stdout",
          "text": [
            "best nComponent(avg_case) : 39 \n"
          ]
        }
      ]
    },
    {
      "cell_type": "markdown",
      "source": [
        "#### k_Accuracy(n_neighbors) 최대값 도출"
      ],
      "metadata": {
        "id": "uycCPttl039S"
      }
    },
    {
      "cell_type": "code",
      "source": [
        "# k Accuracy 최대값 도출\n",
        "avg_Accuracy_K=df_acc.groupby('k')['Accuracy'].mean()\n",
        "avg_Accuracy_K=pd.DataFrame(avg_Accuracy_K)\n",
        "avg_Accuracy_K"
      ],
      "metadata": {
        "colab": {
          "base_uri": "https://localhost:8080/",
          "height": 708
        },
        "id": "x__nb5NH04VS",
        "outputId": "a387012f-455d-4c64-c3b7-c6892cc04a6a"
      },
      "execution_count": null,
      "outputs": [
        {
          "output_type": "execute_result",
          "data": {
            "text/plain": [
              "      Accuracy\n",
              "k             \n",
              "1.0   0.955598\n",
              "3.0   0.955414\n",
              "5.0   0.952415\n",
              "7.0   0.953309\n",
              "9.0   0.950153\n",
              "11.0  0.945918\n",
              "13.0  0.944707\n",
              "15.0  0.944629\n",
              "17.0  0.941472\n",
              "19.0  0.939420\n",
              "21.0  0.937263\n",
              "23.0  0.935659\n",
              "25.0  0.933318\n",
              "27.0  0.931397\n",
              "29.0  0.928004\n",
              "31.0  0.923822\n",
              "33.0  0.923190\n",
              "35.0  0.921007\n",
              "37.0  0.917929\n",
              "39.0  0.912800"
            ],
            "text/html": [
              "\n",
              "  <div id=\"df-9c4929ef-a04e-40a0-85f4-26b67ba010d1\" class=\"colab-df-container\">\n",
              "    <div>\n",
              "<style scoped>\n",
              "    .dataframe tbody tr th:only-of-type {\n",
              "        vertical-align: middle;\n",
              "    }\n",
              "\n",
              "    .dataframe tbody tr th {\n",
              "        vertical-align: top;\n",
              "    }\n",
              "\n",
              "    .dataframe thead th {\n",
              "        text-align: right;\n",
              "    }\n",
              "</style>\n",
              "<table border=\"1\" class=\"dataframe\">\n",
              "  <thead>\n",
              "    <tr style=\"text-align: right;\">\n",
              "      <th></th>\n",
              "      <th>Accuracy</th>\n",
              "    </tr>\n",
              "    <tr>\n",
              "      <th>k</th>\n",
              "      <th></th>\n",
              "    </tr>\n",
              "  </thead>\n",
              "  <tbody>\n",
              "    <tr>\n",
              "      <th>1.0</th>\n",
              "      <td>0.955598</td>\n",
              "    </tr>\n",
              "    <tr>\n",
              "      <th>3.0</th>\n",
              "      <td>0.955414</td>\n",
              "    </tr>\n",
              "    <tr>\n",
              "      <th>5.0</th>\n",
              "      <td>0.952415</td>\n",
              "    </tr>\n",
              "    <tr>\n",
              "      <th>7.0</th>\n",
              "      <td>0.953309</td>\n",
              "    </tr>\n",
              "    <tr>\n",
              "      <th>9.0</th>\n",
              "      <td>0.950153</td>\n",
              "    </tr>\n",
              "    <tr>\n",
              "      <th>11.0</th>\n",
              "      <td>0.945918</td>\n",
              "    </tr>\n",
              "    <tr>\n",
              "      <th>13.0</th>\n",
              "      <td>0.944707</td>\n",
              "    </tr>\n",
              "    <tr>\n",
              "      <th>15.0</th>\n",
              "      <td>0.944629</td>\n",
              "    </tr>\n",
              "    <tr>\n",
              "      <th>17.0</th>\n",
              "      <td>0.941472</td>\n",
              "    </tr>\n",
              "    <tr>\n",
              "      <th>19.0</th>\n",
              "      <td>0.939420</td>\n",
              "    </tr>\n",
              "    <tr>\n",
              "      <th>21.0</th>\n",
              "      <td>0.937263</td>\n",
              "    </tr>\n",
              "    <tr>\n",
              "      <th>23.0</th>\n",
              "      <td>0.935659</td>\n",
              "    </tr>\n",
              "    <tr>\n",
              "      <th>25.0</th>\n",
              "      <td>0.933318</td>\n",
              "    </tr>\n",
              "    <tr>\n",
              "      <th>27.0</th>\n",
              "      <td>0.931397</td>\n",
              "    </tr>\n",
              "    <tr>\n",
              "      <th>29.0</th>\n",
              "      <td>0.928004</td>\n",
              "    </tr>\n",
              "    <tr>\n",
              "      <th>31.0</th>\n",
              "      <td>0.923822</td>\n",
              "    </tr>\n",
              "    <tr>\n",
              "      <th>33.0</th>\n",
              "      <td>0.923190</td>\n",
              "    </tr>\n",
              "    <tr>\n",
              "      <th>35.0</th>\n",
              "      <td>0.921007</td>\n",
              "    </tr>\n",
              "    <tr>\n",
              "      <th>37.0</th>\n",
              "      <td>0.917929</td>\n",
              "    </tr>\n",
              "    <tr>\n",
              "      <th>39.0</th>\n",
              "      <td>0.912800</td>\n",
              "    </tr>\n",
              "  </tbody>\n",
              "</table>\n",
              "</div>\n",
              "    <div class=\"colab-df-buttons\">\n",
              "\n",
              "  <div class=\"colab-df-container\">\n",
              "    <button class=\"colab-df-convert\" onclick=\"convertToInteractive('df-9c4929ef-a04e-40a0-85f4-26b67ba010d1')\"\n",
              "            title=\"Convert this dataframe to an interactive table.\"\n",
              "            style=\"display:none;\">\n",
              "\n",
              "  <svg xmlns=\"http://www.w3.org/2000/svg\" height=\"24px\" viewBox=\"0 -960 960 960\">\n",
              "    <path d=\"M120-120v-720h720v720H120Zm60-500h600v-160H180v160Zm220 220h160v-160H400v160Zm0 220h160v-160H400v160ZM180-400h160v-160H180v160Zm440 0h160v-160H620v160ZM180-180h160v-160H180v160Zm440 0h160v-160H620v160Z\"/>\n",
              "  </svg>\n",
              "    </button>\n",
              "\n",
              "  <style>\n",
              "    .colab-df-container {\n",
              "      display:flex;\n",
              "      gap: 12px;\n",
              "    }\n",
              "\n",
              "    .colab-df-convert {\n",
              "      background-color: #E8F0FE;\n",
              "      border: none;\n",
              "      border-radius: 50%;\n",
              "      cursor: pointer;\n",
              "      display: none;\n",
              "      fill: #1967D2;\n",
              "      height: 32px;\n",
              "      padding: 0 0 0 0;\n",
              "      width: 32px;\n",
              "    }\n",
              "\n",
              "    .colab-df-convert:hover {\n",
              "      background-color: #E2EBFA;\n",
              "      box-shadow: 0px 1px 2px rgba(60, 64, 67, 0.3), 0px 1px 3px 1px rgba(60, 64, 67, 0.15);\n",
              "      fill: #174EA6;\n",
              "    }\n",
              "\n",
              "    .colab-df-buttons div {\n",
              "      margin-bottom: 4px;\n",
              "    }\n",
              "\n",
              "    [theme=dark] .colab-df-convert {\n",
              "      background-color: #3B4455;\n",
              "      fill: #D2E3FC;\n",
              "    }\n",
              "\n",
              "    [theme=dark] .colab-df-convert:hover {\n",
              "      background-color: #434B5C;\n",
              "      box-shadow: 0px 1px 3px 1px rgba(0, 0, 0, 0.15);\n",
              "      filter: drop-shadow(0px 1px 2px rgba(0, 0, 0, 0.3));\n",
              "      fill: #FFFFFF;\n",
              "    }\n",
              "  </style>\n",
              "\n",
              "    <script>\n",
              "      const buttonEl =\n",
              "        document.querySelector('#df-9c4929ef-a04e-40a0-85f4-26b67ba010d1 button.colab-df-convert');\n",
              "      buttonEl.style.display =\n",
              "        google.colab.kernel.accessAllowed ? 'block' : 'none';\n",
              "\n",
              "      async function convertToInteractive(key) {\n",
              "        const element = document.querySelector('#df-9c4929ef-a04e-40a0-85f4-26b67ba010d1');\n",
              "        const dataTable =\n",
              "          await google.colab.kernel.invokeFunction('convertToInteractive',\n",
              "                                                    [key], {});\n",
              "        if (!dataTable) return;\n",
              "\n",
              "        const docLinkHtml = 'Like what you see? Visit the ' +\n",
              "          '<a target=\"_blank\" href=https://colab.research.google.com/notebooks/data_table.ipynb>data table notebook</a>'\n",
              "          + ' to learn more about interactive tables.';\n",
              "        element.innerHTML = '';\n",
              "        dataTable['output_type'] = 'display_data';\n",
              "        await google.colab.output.renderOutput(dataTable, element);\n",
              "        const docLink = document.createElement('div');\n",
              "        docLink.innerHTML = docLinkHtml;\n",
              "        element.appendChild(docLink);\n",
              "      }\n",
              "    </script>\n",
              "  </div>\n",
              "\n",
              "\n",
              "<div id=\"df-143b51d8-b98e-41a7-8b88-db1aa5ddbccb\">\n",
              "  <button class=\"colab-df-quickchart\" onclick=\"quickchart('df-143b51d8-b98e-41a7-8b88-db1aa5ddbccb')\"\n",
              "            title=\"Suggest charts\"\n",
              "            style=\"display:none;\">\n",
              "\n",
              "<svg xmlns=\"http://www.w3.org/2000/svg\" height=\"24px\"viewBox=\"0 0 24 24\"\n",
              "     width=\"24px\">\n",
              "    <g>\n",
              "        <path d=\"M19 3H5c-1.1 0-2 .9-2 2v14c0 1.1.9 2 2 2h14c1.1 0 2-.9 2-2V5c0-1.1-.9-2-2-2zM9 17H7v-7h2v7zm4 0h-2V7h2v10zm4 0h-2v-4h2v4z\"/>\n",
              "    </g>\n",
              "</svg>\n",
              "  </button>\n",
              "\n",
              "<style>\n",
              "  .colab-df-quickchart {\n",
              "      --bg-color: #E8F0FE;\n",
              "      --fill-color: #1967D2;\n",
              "      --hover-bg-color: #E2EBFA;\n",
              "      --hover-fill-color: #174EA6;\n",
              "      --disabled-fill-color: #AAA;\n",
              "      --disabled-bg-color: #DDD;\n",
              "  }\n",
              "\n",
              "  [theme=dark] .colab-df-quickchart {\n",
              "      --bg-color: #3B4455;\n",
              "      --fill-color: #D2E3FC;\n",
              "      --hover-bg-color: #434B5C;\n",
              "      --hover-fill-color: #FFFFFF;\n",
              "      --disabled-bg-color: #3B4455;\n",
              "      --disabled-fill-color: #666;\n",
              "  }\n",
              "\n",
              "  .colab-df-quickchart {\n",
              "    background-color: var(--bg-color);\n",
              "    border: none;\n",
              "    border-radius: 50%;\n",
              "    cursor: pointer;\n",
              "    display: none;\n",
              "    fill: var(--fill-color);\n",
              "    height: 32px;\n",
              "    padding: 0;\n",
              "    width: 32px;\n",
              "  }\n",
              "\n",
              "  .colab-df-quickchart:hover {\n",
              "    background-color: var(--hover-bg-color);\n",
              "    box-shadow: 0 1px 2px rgba(60, 64, 67, 0.3), 0 1px 3px 1px rgba(60, 64, 67, 0.15);\n",
              "    fill: var(--button-hover-fill-color);\n",
              "  }\n",
              "\n",
              "  .colab-df-quickchart-complete:disabled,\n",
              "  .colab-df-quickchart-complete:disabled:hover {\n",
              "    background-color: var(--disabled-bg-color);\n",
              "    fill: var(--disabled-fill-color);\n",
              "    box-shadow: none;\n",
              "  }\n",
              "\n",
              "  .colab-df-spinner {\n",
              "    border: 2px solid var(--fill-color);\n",
              "    border-color: transparent;\n",
              "    border-bottom-color: var(--fill-color);\n",
              "    animation:\n",
              "      spin 1s steps(1) infinite;\n",
              "  }\n",
              "\n",
              "  @keyframes spin {\n",
              "    0% {\n",
              "      border-color: transparent;\n",
              "      border-bottom-color: var(--fill-color);\n",
              "      border-left-color: var(--fill-color);\n",
              "    }\n",
              "    20% {\n",
              "      border-color: transparent;\n",
              "      border-left-color: var(--fill-color);\n",
              "      border-top-color: var(--fill-color);\n",
              "    }\n",
              "    30% {\n",
              "      border-color: transparent;\n",
              "      border-left-color: var(--fill-color);\n",
              "      border-top-color: var(--fill-color);\n",
              "      border-right-color: var(--fill-color);\n",
              "    }\n",
              "    40% {\n",
              "      border-color: transparent;\n",
              "      border-right-color: var(--fill-color);\n",
              "      border-top-color: var(--fill-color);\n",
              "    }\n",
              "    60% {\n",
              "      border-color: transparent;\n",
              "      border-right-color: var(--fill-color);\n",
              "    }\n",
              "    80% {\n",
              "      border-color: transparent;\n",
              "      border-right-color: var(--fill-color);\n",
              "      border-bottom-color: var(--fill-color);\n",
              "    }\n",
              "    90% {\n",
              "      border-color: transparent;\n",
              "      border-bottom-color: var(--fill-color);\n",
              "    }\n",
              "  }\n",
              "</style>\n",
              "\n",
              "  <script>\n",
              "    async function quickchart(key) {\n",
              "      const quickchartButtonEl =\n",
              "        document.querySelector('#' + key + ' button');\n",
              "      quickchartButtonEl.disabled = true;  // To prevent multiple clicks.\n",
              "      quickchartButtonEl.classList.add('colab-df-spinner');\n",
              "      try {\n",
              "        const charts = await google.colab.kernel.invokeFunction(\n",
              "            'suggestCharts', [key], {});\n",
              "      } catch (error) {\n",
              "        console.error('Error during call to suggestCharts:', error);\n",
              "      }\n",
              "      quickchartButtonEl.classList.remove('colab-df-spinner');\n",
              "      quickchartButtonEl.classList.add('colab-df-quickchart-complete');\n",
              "    }\n",
              "    (() => {\n",
              "      let quickchartButtonEl =\n",
              "        document.querySelector('#df-143b51d8-b98e-41a7-8b88-db1aa5ddbccb button');\n",
              "      quickchartButtonEl.style.display =\n",
              "        google.colab.kernel.accessAllowed ? 'block' : 'none';\n",
              "    })();\n",
              "  </script>\n",
              "</div>\n",
              "    </div>\n",
              "  </div>\n"
            ],
            "application/vnd.google.colaboratory.intrinsic+json": {
              "type": "dataframe",
              "variable_name": "avg_Accuracy_K",
              "summary": "{\n  \"name\": \"avg_Accuracy_K\",\n  \"rows\": 20,\n  \"fields\": [\n    {\n      \"column\": \"k\",\n      \"properties\": {\n        \"dtype\": \"number\",\n        \"std\": 11.832159566199232,\n        \"min\": 1.0,\n        \"max\": 39.0,\n        \"num_unique_values\": 20,\n        \"samples\": [\n          1.0,\n          35.0,\n          31.0\n        ],\n        \"semantic_type\": \"\",\n        \"description\": \"\"\n      }\n    },\n    {\n      \"column\": \"Accuracy\",\n      \"properties\": {\n        \"dtype\": \"number\",\n        \"std\": 0.013136913614123238,\n        \"min\": 0.9127998737373737,\n        \"max\": 0.9555976430976431,\n        \"num_unique_values\": 20,\n        \"samples\": [\n          0.9555976430976431,\n          0.9210069444444444,\n          0.9238215488215488\n        ],\n        \"semantic_type\": \"\",\n        \"description\": \"\"\n      }\n    }\n  ]\n}"
            }
          },
          "metadata": {},
          "execution_count": 13
        }
      ]
    },
    {
      "cell_type": "markdown",
      "source": [
        "#### K Accuracy plot화"
      ],
      "metadata": {
        "id": "Ah4buBbS1ZhC"
      }
    },
    {
      "cell_type": "code",
      "source": [
        "# 그래프로 표현\n",
        "plt.plot(avg_Accuracy_K.index, avg_Accuracy_K['Accuracy'])\n",
        "plt.xlabel('K')\n",
        "plt.ylabel('Accuracy')\n",
        "plt.ylim(0.9,1.0)\n",
        "plt.xticks(range(1,40,2))\n",
        "plt.title('Average Accuracy of K')\n",
        "plt.grid(True)\n",
        "plt.show()\n",
        "print(\"best K : %d \"%(np.argmax(avg_Accuracy_K['Accuracy'])+1))"
      ],
      "metadata": {
        "colab": {
          "base_uri": "https://localhost:8080/",
          "height": 490
        },
        "id": "E-Fi3aFx1Yc1",
        "outputId": "3377ccbe-3bfb-4fd7-f7bb-639a3f853559"
      },
      "execution_count": null,
      "outputs": [
        {
          "output_type": "display_data",
          "data": {
            "text/plain": [
              "<Figure size 640x480 with 1 Axes>"
            ],
            "image/png": "[encoded data removed]"
          },
          "metadata": {}
        },
        {
          "output_type": "stream",
          "name": "stdout",
          "text": [
            "best K : 1 \n"
          ]
        }
      ]
    },
    {
      "cell_type": "code",
      "source": [
        "best_accuracy_row=df_acc.loc[df_acc['Accuracy'].idxmax()]\n",
        "print(\"Best Accuracy: %.4f\"%best_accuracy_row['Accuracy'])\n",
        "print(\"Best nComponent: %d\"%best_accuracy_row['nComponent'])\n",
        "print(\"Best k: %d\"%best_accuracy_row['k'])"
      ],
      "metadata": {
        "colab": {
          "base_uri": "https://localhost:8080/"
        },
        "id": "t5CefKaB4sxx",
        "outputId": "f48722ed-87b4-4b33-d7f9-096c1348ff87"
      },
      "execution_count": null,
      "outputs": [
        {
          "output_type": "stream",
          "name": "stdout",
          "text": [
            "Best Accuracy: 0.9848\n",
            "Best nComponent: 17\n",
            "Best k: 1\n"
          ]
        }
      ]
    },
    {
      "cell_type": "markdown",
      "metadata": {
        "id": "ku6Tg_uwr35Z"
      },
      "source": [
        "### Write your justification of your experiment\n",
        "\n",
        "Hyperparaemter가 좋은걸 어떻게 아는 방법은, 다양한 값을 넣어서 모델의 성능을 측정하고, 가장 좋은 값이 나온 모델을 선택하는것이 맞다고 생각하여, PCA로 차원 축소, KNN 알고리즘을 사용하여 모델 제작 및 성능 측정을 진행 하였습니다.\n",
        "\n",
        "이 모델에서 Hyperparameter, PCA의 차원은 1 ~ 64 까지 1씩 증가시키고, KNN은 1 ~ 40까지 2씩 증가 시키면서 관찰하였습니다. 그러면 총 64 * 20 = 1280가지 경우를 관찰했다고 볼 수 있습니다.\n",
        "\n",
        "각 경우에 데하여 평균 Accuracy를 구하고, 관찰하여 어떠한 Hyperparameter에서 좋은 Accuracy가 나오는 지를 보았습니다.\n",
        "\n",
        "실험을 해본 결과, n_neighbors를 k라고 하고, 실험에 데하여 평균적으로 가장 높은 Accuracy를 기록한 nComponent는 39가 나왔습니다. 실험을 한 모든 nComponent의 가장 높은 Accuracy의 k는 1로 나왔습니다. 그렇지만 이건 평균값이라는 점이 있으므로, 가장 좋은 parameter라고 볼수는 없을것 같습니다.\n",
        "\n",
        "실제로 가장 좋은 값은 k=1, nComponent=17, Accuracy(0.9848)이 나온걸 볼 수 있습니다.\n",
        "\n",
        "그리고 k에 데하여 1부터 2씩 증가 시켰을때 accuracy가 점점 감소하는걸 볼 수 있습니다. 이건 k의 값이 커질수록 모델이 underfitting된다고 볼 수 있을거 같습니다.\n"
      ]
    },
    {
      "cell_type": "markdown",
      "metadata": {
        "id": "Vki081DXr35Z"
      },
      "source": [
        "### Write your best accuracy in Problem 2:  (98.48%)"
      ]
    },
    {
      "cell_type": "markdown",
      "metadata": {
        "id": "ukdap7Jir35Z"
      },
      "source": [
        "# Problem 3 (30 pts) - Other Classifiers : 30\n",
        "\n",
        "- You may use the following classification technique in sklearn:\n",
        "  - Decision Trees\n",
        "  - Support Vector Machines (SVM)\n",
        "  - Perceptron\n",
        "- We want to classify handwritten digits using a classifier in sklearn\n",
        "- Use any feature selection technique\n",
        "- If you choose any hyperparameters and you did any transformation in your data, justify your choice and transformation.\n",
        "- The justification must be code, data, or plotted images, **not your guess!!!**\n",
        "- This must be a longer code.\n",
        "- To justify your choice of hyperparameters, use visualization or plotting whenever possible.\n",
        "- You may add as many cells as you want.\n",
        "- To add a cell, insert->insert cell or click '+' button above in the notebook.\n",
        "- you must set \"random_state=0\"\" in \"train_test_split\", \"TSNE\" or on any functions based on random numbers"
      ]
    },
    {
      "cell_type": "markdown",
      "source": [
        "- sklearn에서 다음 분류 기법을 사용할 수 있습니다:\n",
        "  - 의사결정 나무\n",
        "  - SVM(Support Vector Machine)\n",
        "  - 퍼셉트론\n",
        "- 우리는 sklearn에서 분류기를 사용하여 손으로 쓴 숫자를 분류하려고 합니다\n",
        "- 모든 형상 선택 기법 사용\n",
        "- 하이퍼파라미터를 선택하고 데이터에서 변환을 수행한 경우 선택 및 변환을 정당화합니다.\n",
        "- 그 이유는 코드, 데이터 또는 도표 이미지여야 합니다. **당신의 추측이 아닙니다\n",
        "- 이 코드는 더 긴 코드여야 합니다.\n",
        "- 하이퍼파라미터를 선택한 이유를 정당화하려면 가능한 한 시각화 또는 도표화를 사용합니다.\n",
        "- 원하는 만큼 셀을 추가할 수 있습니다.\n",
        "- 셀을 추가하려면 노트북에서 셀을 삽입하거나 위의 '+' 버튼을 클릭합니다.\n",
        "- \"train_test_split\", \"TSNE\" 또는 난수를 기반으로 한 함수에 \"random_state=0\"을 설정해야 합니다"
      ],
      "metadata": {
        "id": "dZK2sXanxCuG"
      }
    },
    {
      "cell_type": "markdown",
      "source": [
        "#### PCA 모델 생성 & DecisionTreeClassifier"
      ],
      "metadata": {
        "id": "zFTw7zn0zt0C"
      }
    },
    {
      "cell_type": "code",
      "execution_count": null,
      "metadata": {
        "id": "OR2hoCu1r35Z"
      },
      "outputs": [],
      "source": [
        "from sklearn.tree import DecisionTreeClassifier\n",
        "from sklearn.metrics import accuracy_score\n",
        "from sklearn.decomposition import PCA\n",
        "\n",
        "# PCA 모델 생성\n",
        "pca = PCA(n_components=17, random_state=0)\n",
        "# train 데이터에 PCA 적용\n",
        "X_train_PCA = pca.fit_transform(X_train)\n",
        "# test 데이터에도 PCA 적용\n",
        "X_test_PCA = pca.transform(X_test)\n",
        "\n",
        "acc_list_tree_PCA = []\n",
        "for max_depth in range(1, 10):\n",
        "    for min_samples_split in range(2, 10):\n",
        "        model = DecisionTreeClassifier(max_depth=max_depth, min_samples_split=min_samples_split, random_state=0)\n",
        "        model.fit(X_train_PCA, y_train)\n",
        "        y_predict = model.predict(X_test_PCA)\n",
        "        accuracy = accuracy_score(y_test, y_predict)\n",
        "        acc_list_tree_PCA.append([max_depth, min_samples_split, accuracy])\n",
        "\n",
        "acc_list_tree_PCA = np.array(acc_list_tree_PCA)"
      ]
    },
    {
      "cell_type": "markdown",
      "source": [
        "#### Decision Tree 분류기 하이퍼파라미터 튜닝"
      ],
      "metadata": {
        "id": "Bj_1l16m2SMs"
      }
    },
    {
      "cell_type": "code",
      "execution_count": null,
      "metadata": {
        "id": "DxJGgGvrr35a"
      },
      "outputs": [],
      "source": [
        "from sklearn.tree import DecisionTreeClassifier\n",
        "from sklearn.metrics import accuracy_score\n",
        "from sklearn.decomposition import PCA\n",
        "\n",
        "acc_list_tree=[]\n",
        "for max_depth in range(1, 10):\n",
        "  for min_samples_split in range(2, 10):\n",
        "    model = DecisionTreeClassifier(max_depth = max_depth, min_samples_split = min_samples_split)\n",
        "    model.fit(X_train_PCA, y_train)\n",
        "    y_predict = model.predict(X_test_PCA)\n",
        "    accuracy = accuracy_score(y_test, y_predict)\n",
        "    acc_list_tree.append([max_depth, min_samples_split, accuracy])\n",
        "\n",
        "acc_list_tree = np.array(acc_list_tree)"
      ]
    },
    {
      "cell_type": "markdown",
      "source": [
        "#### PCA 모델 생성 & SVM Classifier"
      ],
      "metadata": {
        "id": "gipZPC22z0uY"
      }
    },
    {
      "cell_type": "code",
      "source": [
        "from sklearn.svm import SVC\n",
        "from sklearn.metrics import accuracy_score\n",
        "\n",
        "# PCA 모델 생성\n",
        "pca = PCA(n_components=17, random_state=0)\n",
        "\n",
        "# train 데이터에 PCA 적용\n",
        "X_train_PCA = pca.fit_transform(X_train)\n",
        "\n",
        "# test 데이터에도 PCA 적용\n",
        "X_test_PCA = pca.transform(X_test)\n",
        "C_values = [0.001, 0.01, 0.1, 1, 10, 100, 1000]\n",
        "gamma_values = [0.0001, 0.001, 0.01, 0.1, 1, 10, 100, 1000]\n",
        "\n",
        "acc_list_SVC_PCA = []\n",
        "for C in C_values:\n",
        "  for gamma in gamma_values:\n",
        "    model = SVC(C=C, gamma=gamma, random_state=0)\n",
        "    model.fit(X_train, y_train)\n",
        "    y_predict = model.predict(X_test)\n",
        "    accuracy = accuracy_score(y_test, y_predict)\n",
        "    acc_list_SVC_PCA.append([C, gamma, accuracy])\n",
        "\n",
        "acc_list_SVC_PCA = np.array(acc_list_SVC_PCA)"
      ],
      "metadata": {
        "id": "oOCyKZ58vmQ8"
      },
      "execution_count": null,
      "outputs": []
    },
    {
      "cell_type": "markdown",
      "source": [
        "#### SVM 분류기 하이퍼파라미터 튜닝"
      ],
      "metadata": {
        "id": "eZVxm_Yf28iQ"
      }
    },
    {
      "cell_type": "code",
      "source": [
        "from sklearn.svm import SVC\n",
        "from sklearn.metrics import accuracy_score\n",
        "\n",
        "C_values = [0.001, 0.01, 0.1, 1, 10, 100, 1000]\n",
        "gamma_values = [0.0001, 0.001, 0.01, 0.1, 1, 10, 100, 1000]\n",
        "\n",
        "acc_list_SVC = []\n",
        "for C in C_values:\n",
        "  for gamma in gamma_values:\n",
        "      model = SVC(C=C, gamma=gamma, random_state=0)\n",
        "      model.fit(X_train, y_train)\n",
        "      y_predict = model.predict(X_test)\n",
        "      accuracy = accuracy_score(y_test, y_predict)\n",
        "      acc_list_SVC.append([C, gamma, accuracy])\n",
        "\n",
        "acc_list_SVC = np.array(acc_list_SVC)"
      ],
      "metadata": {
        "id": "mcRnopfkvu60"
      },
      "execution_count": null,
      "outputs": []
    },
    {
      "cell_type": "markdown",
      "source": [
        "#### 각 분류기의 하이퍼파라미터 조합,정확도를 저장한 리스트 Dataframe 변환"
      ],
      "metadata": {
        "id": "_OfZ8ePn32AM"
      }
    },
    {
      "cell_type": "code",
      "source": [
        "df_acc_tree_PCA = pd.DataFrame(acc_list_tree_PCA, columns=['max_depth', 'min_sample_split', 'Accuracy'])\n",
        "df_acc_tree = pd.DataFrame(acc_list_tree, columns=['max_depth', 'min_sample_split', 'Accuracy'])\n",
        "df_acc_SVC_PCA = pd.DataFrame(acc_list_SVC_PCA, columns=['C', 'gamma', 'Accuracy'])\n",
        "df_acc_SVC = pd.DataFrame(acc_list_SVC, columns=['C', 'gamma', 'Accuracy'])"
      ],
      "metadata": {
        "id": "kbm9fLMowC7Z"
      },
      "execution_count": null,
      "outputs": []
    },
    {
      "cell_type": "markdown",
      "source": [
        "- PCA를 적용한 데이터와 원본 데이터에 대해 Decision Tree와 SVM 분류기의 정확도를 비교하는 시각화"
      ],
      "metadata": {
        "id": "54NVGnv54HbI"
      }
    },
    {
      "cell_type": "code",
      "source": [
        "# 2번의 결과에서 알 수 있듯, 정말 17개정도의 차원이 유효한지 실험\n",
        "fig, axes = plt.subplots(1, 2, figsize=(12, 5)) # 1행 2열의 서브플롯 생성 및 크기\n",
        "\n",
        "# 첫 번째 서브플롯: Accuracy - Tree Comparison\n",
        "axes[0].plot(df_acc_tree_PCA.index, df_acc_tree_PCA['Accuracy'], label='Tree (PCA)')\n",
        "axes[0].plot(df_acc_tree.index, df_acc_tree['Accuracy'], label='Tree')\n",
        "axes[0].set_xlabel('index')\n",
        "axes[0].set_ylabel('Accuracy')\n",
        "axes[0].set_title('Accuracy - Tree Comparison')\n",
        "axes[0].legend()\n",
        "\n",
        "# 두 번째 서브플롯: Accuracy - SVC Comparison\n",
        "axes[1].plot(df_acc_SVC.index, df_acc_SVC['Accuracy'], label='SVC')\n",
        "axes[1].plot(df_acc_SVC_PCA.index, df_acc_SVC_PCA['Accuracy'], label='SVC (PCA)')\n",
        "axes[1].set_xlabel('index')\n",
        "axes[1].set_ylabel('Accuracy')\n",
        "axes[1].set_title('Accuracy - SVC Comparison')\n",
        "axes[1].legend()\n",
        "\n",
        "plt.subplots_adjust(wspace=0.3) # 서브플롯 간의 가로 간격 조정\n",
        "plt.show()"
      ],
      "metadata": {
        "colab": {
          "base_uri": "https://localhost:8080/",
          "height": 381
        },
        "id": "xalZyROsxDsn",
        "outputId": "7f9a259a-8a48-43b4-bda8-e2a1bbe2e4a8"
      },
      "execution_count": null,
      "outputs": [
        {
          "output_type": "display_data",
          "data": {
            "text/plain": [
              "<Figure size 1200x500 with 2 Axes>"
            ],
            "image/png": "[encoded data removed]"
          },
          "metadata": {}
        }
      ]
    },
    {
      "cell_type": "markdown",
      "source": [
        "#### Accuracy by max_depth"
      ],
      "metadata": {
        "id": "CzrDzp9Z0Jki"
      }
    },
    {
      "cell_type": "code",
      "source": [
        "aveAccdepth = df_acc_tree_PCA.groupby('max_depth')['Accuracy'].mean()\n",
        "aveAccdepth=pd.DataFrame(aveAccdepth)\n",
        "\n",
        "plt.plot(aveAccdepth.index,aveAccdepth['Accuracy'])\n",
        "plt.xlabel('max_depth')\n",
        "plt.ylabel('Accuracy')\n",
        "plt.title('Accuracy by max_depth')\n",
        "#plt.ylim(0.9,1.0)\n",
        "plt.grid(True)\n",
        "plt.show()\n",
        "\n",
        "best_max_depth = aveAccdepth.idxmax()['Accuracy']\n",
        "print(\"Best max_depth (average case):\", best_max_depth)"
      ],
      "metadata": {
        "colab": {
          "base_uri": "https://localhost:8080/",
          "height": 490
        },
        "id": "j_y0VnEUz84I",
        "outputId": "d5a93651-b49a-4b06-ea3e-67332ed0908c"
      },
      "execution_count": null,
      "outputs": [
        {
          "output_type": "display_data",
          "data": {
            "text/plain": [
              "<Figure size 640x480 with 1 Axes>"
            ],
            "image/png": "[encoded data removed]"
          },
          "metadata": {}
        },
        {
          "output_type": "stream",
          "name": "stdout",
          "text": [
            "Best max_depth (average case): 9.0\n"
          ]
        }
      ]
    },
    {
      "cell_type": "markdown",
      "source": [
        "#### Accuracy by min_sample_split"
      ],
      "metadata": {
        "id": "ko2MjyYK0HdZ"
      }
    },
    {
      "cell_type": "code",
      "source": [
        "aveAccSample = df_acc_tree_PCA.groupby('min_sample_split')['Accuracy'].mean()\n",
        "aveAccSample=pd.DataFrame(aveAccSample)\n",
        "\n",
        "plt.plot(aveAccSample.index,aveAccSample['Accuracy'])\n",
        "plt.xlabel('min_sample_split')\n",
        "plt.ylabel('Accuracy')\n",
        "plt.title('Accuracy by min_sample_split')\n",
        "#plt.ylim(0.9,1.0)\n",
        "plt.grid(True)\n",
        "plt.show()\n",
        "\n",
        "best_min_sample = aveAccSample.idxmax()['Accuracy']\n",
        "print(\"Best min_sample_split (average case):\", best_min_sample)"
      ],
      "metadata": {
        "colab": {
          "base_uri": "https://localhost:8080/",
          "height": 490
        },
        "id": "x6abmcMB0Bdm",
        "outputId": "2e4003b9-c71a-4099-efc2-a512f5cc3dec"
      },
      "execution_count": null,
      "outputs": [
        {
          "output_type": "display_data",
          "data": {
            "text/plain": [
              "<Figure size 640x480 with 1 Axes>"
            ],
            "image/png": "[encoded data removed]"
          },
          "metadata": {}
        },
        {
          "output_type": "stream",
          "name": "stdout",
          "text": [
            "Best min_sample_split (average case): 3.0\n"
          ]
        }
      ]
    },
    {
      "cell_type": "markdown",
      "source": [
        "#### Accuracy by C"
      ],
      "metadata": {
        "id": "idaOX6Nf0MJB"
      }
    },
    {
      "cell_type": "code",
      "source": [
        "C_values = [0.001, 0.01, 0.1, 1, 10, 100, 1000]\n",
        "\n",
        "aveAccC = df_acc_SVC_PCA.groupby('C')['Accuracy'].mean()\n",
        "aveAccC = pd.DataFrame(aveAccC)\n",
        "\n",
        "plt.grid(True)\n",
        "plt.bar(range(len(C_values)), aveAccC['Accuracy'])\n",
        "plt.xlabel('C')\n",
        "plt.ylabel('Accuracy')\n",
        "plt.title('Accuracy by C')\n",
        "plt.xticks(range(len(C_values)), C_values) # x축 눈금 위치 및 라벨 설정\n",
        "plt.ylim(0.05, 0.45)\n",
        "plt.show()\n",
        "\n",
        "best_C = aveAccC.idxmax()['Accuracy']\n",
        "print(\"Best C (average case):\", best_C)"
      ],
      "metadata": {
        "colab": {
          "base_uri": "https://localhost:8080/",
          "height": 490
        },
        "id": "B-seE8VL0M2G",
        "outputId": "90de2436-f918-4151-8f55-7a3fa70f6be4"
      },
      "execution_count": null,
      "outputs": [
        {
          "output_type": "display_data",
          "data": {
            "text/plain": [
              "<Figure size 640x480 with 1 Axes>"
            ],
            "image/png": "[encoded data removed]"
          },
          "metadata": {}
        },
        {
          "output_type": "stream",
          "name": "stdout",
          "text": [
            "Best C (average case): 10.0\n"
          ]
        }
      ]
    },
    {
      "cell_type": "markdown",
      "source": [
        "#### Accuracy by gamma_value"
      ],
      "metadata": {
        "id": "-KG8k8w90R_M"
      }
    },
    {
      "cell_type": "code",
      "source": [
        "gamma_values = [0.0001, 0.001, 0.01, 0.1, 1, 10, 100, 1000]\n",
        "\n",
        "aveAccGamma = df_acc_SVC_PCA.groupby('gamma')['Accuracy'].mean()\n",
        "aveAccGamma = pd.DataFrame(aveAccGamma)\n",
        "plt.grid(True)\n",
        "plt.bar(range(len(gamma_values)), aveAccGamma['Accuracy'])\n",
        "plt.xlabel('gamma_value')\n",
        "plt.ylabel('Accuracy')\n",
        "plt.title('Accuracy by gamma_value')\n",
        "plt.xticks(range(len(gamma_values)), gamma_values) # x축 눈금 위치 및 라벨 설정\n",
        "#plt.ylim(0.05,0.45)\n",
        "plt.show()\n",
        "\n",
        "best_gamma = aveAccGamma.idxmax()['Accuracy']\n",
        "print(\"Best gamma_value (average case):\", best_gamma)"
      ],
      "metadata": {
        "colab": {
          "base_uri": "https://localhost:8080/",
          "height": 490
        },
        "id": "sdVO0ATR0TqV",
        "outputId": "2db180fa-1177-44ab-c2c4-c86e0f4705a5"
      },
      "execution_count": null,
      "outputs": [
        {
          "output_type": "display_data",
          "data": {
            "text/plain": [
              "<Figure size 640x480 with 1 Axes>"
            ],
            "image/png": "[encoded data removed]"
          },
          "metadata": {}
        },
        {
          "output_type": "stream",
          "name": "stdout",
          "text": [
            "Best gamma_value (average case): 0.001\n"
          ]
        }
      ]
    },
    {
      "cell_type": "code",
      "source": [
        "best_accuracy_row_SVC=df_acc_SVC_PCA.loc[df_acc_SVC_PCA['Accuracy'].idxmax()]\n",
        "print(\"Best Accuracy: %.4f\"%best_accuracy_row_SVC['Accuracy'])\n",
        "print(\"Best C value: %f\"%best_accuracy_row_SVC['C'])\n",
        "print(\"Best gamma value: %f\"%best_accuracy_row_SVC['gamma'])"
      ],
      "metadata": {
        "colab": {
          "base_uri": "https://localhost:8080/"
        },
        "id": "VV6KzRM50XDQ",
        "outputId": "41cadf25-b5cb-4486-9237-11aeeb22345c"
      },
      "execution_count": null,
      "outputs": [
        {
          "output_type": "stream",
          "name": "stdout",
          "text": [
            "Best Accuracy: 0.9916\n",
            "Best C value: 1.000000\n",
            "Best gamma value: 0.001000\n"
          ]
        }
      ]
    },
    {
      "cell_type": "markdown",
      "metadata": {
        "id": "pckxofjcr35a"
      },
      "source": [
        "(To edit, double click this cell)\n",
        "\n",
        "시험해본건 Decision Tree와 SVM 입니다.\n",
        "\n",
        "Decision Tree 의 Hyper parameter\n",
        "max_depth : 트리의 최대 깊이, 1부터 9까지의 범위에서 실험\n",
        "min_split_sample : 노드를 분할하기 위해 필요한 최소 샘플 수, 2부터 9까지의 범위에 서 실험합니다.\n",
        "Support Vector Machine의 Hyper parameter\n",
        "C : [0.001, 0.01, 0.1, 1, 10, 100, 1000], 7개의 값으로\n",
        "실험했습니다.\n",
        "gamma : [0.001, 0.01, 0.1, 1, 10, 100, 1000], 7개의 값으로 실험했습니다.\n",
        "\n",
        "총 3가지의 기준에 대해서 관찰했습니다.\n",
        "PCA를 통한 차원축소를 할 때, 정말 17개의 차원이 유효한게 맞는지 (여기서 17개의 차원은 2번 실험에서 나온 최적의 값으로 했습니다.)\n",
        "각각의 하이퍼 파라미터의 값은 어떤 값에서 평균적으로 좋은 성능을 내는지\n",
        "두 모델의 최종 Accuracy는 어떤 모델이 더 좋은가? 위 세가지 기준에 대해서 관찰하기 위해 각각 그래프를 그려, 비교했습니다.\n",
        "\n",
        "PCA를 통한 차원축소를 할 때, 정말 17개 정도의 차원이 유효한게 맞는지를 판단하기 위해서 그래프를 관찰해보면, 17개로 차원을 축소한 결과와 원본 데이터의 결과가 완전히 동일합니다.\n",
        "두 모델 모두에서 Accuracy 그래프가 완전히 겹쳐짐을 관찰할 수 있었는데, 이는 즉, 17개 정도의 차원이 유효함을 의미합니다.\n",
        "\n",
        "각각의 하이퍼 파라미터의 값은 어떤 값에서 평균적으로 좋은 성능을 내는지는\n",
        "max_depth의 경우 평균적으로 9정도에서 좋은 성능을 냈음을 관찰할 수 있었고, 실험 범위 내에서는 depth가 점점 깊어질수록 더 좋은 성능을 냄을 볼 수 있었습니다.\n",
        "\n",
        "min_samle_split의 경우 평균적으로 3 정도에서 좋은 성능을 냈음을 관찰할 수 있었고, 실험 범위 내에서는 2부터 시작하여 3까지는 점점 평균 Accuracy가 증가하고, 4까지는 정체 되었다가, 이후부터는 증가할수록 평균 Accuracy가 감소하는 것을 볼 수 있었습니다.\n",
        "\n",
        "SVM의 C value의 경우, 평균적으로 10정도에서 좋은 성능을 냈음을 관찰할 수 있었고, 실험 범위 내에서는 C value가 커질수록 더 좋은 성능을 냄을 확인할 수 있었습니다.\n",
        "또한 0.01 에서 1로, 1에서 10으로 변화할 때, 크게 증가함을 관찰할 수 있었습니다.\n",
        "\n",
        "gamma value의 경우, 평균적으로 0.001정도에서 좋은 성능을 냈음을 관찰할 수 있었고, 실험 범위 내에서는 gamma의 값이 작아질수록 더 좋은 성능을 냄을 확인할 수 있었습니다.\n",
        "또한 0.0001에서 0.001로 값이 변화할 때, Accuracy 값 다소 증가, 0.001에서 0.01로 변화할 때, 0.01에서 0.1로 변화할 때 Accuracy가 크게 감소함을 관찰할 수 있었습니다.\n",
        "그러나 평균적으로 Accuracy가 좋다고 해서, 최적의 파라미터는 아니므로, 가장 Accuracy 가 좋은 hyper parameter 값을 관찰해 보았습니다.\n",
        "\n",
        "두 가지 모델 성능 비교 Decision Tree는 max_depth가 9이고, min_sample_split가 3일때, 가장 좋은 Accuracy인 0.8199를 가진걸 확인했습니다.\n",
        "\n",
        "SVM에서는 C가 1.00이고, gamma가 0.001일 때, 가장 좋은\n",
        "Accuracy인 0.9916을 가졌다고 볼 수 있습니다.\n",
        "\n"
      ]
    },
    {
      "cell_type": "markdown",
      "metadata": {
        "id": "w9f5vD57r35a"
      },
      "source": [
        "(To edit, double click this cell)\n",
        "\n",
        "### Write your best accuracy in Problem 3: (99.16%)"
      ]
    },
    {
      "cell_type": "markdown",
      "metadata": {
        "id": "my5qyuqgr35a"
      },
      "source": [
        "## State-of-the-Art of MNIST classification: 99.79%\n",
        "\n",
        "- https://rodrigob.github.io/are_we_there_yet/build/classification_datasets_results.html\n",
        "- MNIST dataset is much bigger dataset: 60,000 training images and 10,000 testing images"
      ]
    },
    {
      "cell_type": "markdown",
      "metadata": {
        "id": "pJfMBPnMr35a"
      },
      "source": [
        "## Ethics:\n",
        "If you cheat, you will get negatgive of the total points.\n",
        "If the homework total is 22 and you cheat, you get -22."
      ]
    },
    {
      "cell_type": "markdown",
      "metadata": {
        "id": "o92tB1K8r35a"
      },
      "source": [
        "## What to submit\n",
        "\n",
        "- Submit the this file in google classroom\n",
        "- No late homeworks will be accepted\n",
        "- Your homework will be graded on the basis of correctness and programming skills"
      ]
    }
  ],
  "metadata": {
    "celltoolbar": "Slideshow",
    "colab": {
      "provenance": [],
      "toc_visible": true
    },
    "hide_input": false,
    "kernelspec": {
      "display_name": "Python 3 (ipykernel)",
      "language": "python",
      "name": "python3"
    },
    "language_info": {
      "codemirror_mode": {
        "name": "ipython",
        "version": 3
      },
      "file_extension": ".py",
      "mimetype": "text/x-python",
      "name": "python",
      "nbconvert_exporter": "python",
      "pygments_lexer": "ipython3",
      "version": "3.9.7"
    }
  },
  "nbformat": 4,
  "nbformat_minor": 0
}