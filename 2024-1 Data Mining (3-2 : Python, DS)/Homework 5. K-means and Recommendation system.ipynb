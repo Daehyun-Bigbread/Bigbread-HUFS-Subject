{
  "cells": [
    {
      "cell_type": "markdown",
      "metadata": {
        "id": "8BFJt1SZsTQk"
      },
      "source": [
        "# Homework 5. K-means and Recommendation system"
      ]
    },
    {
      "cell_type": "markdown",
      "metadata": {
        "id": "LuadsZj1sTQl"
      },
      "source": [
        "#### You must run all cells in Google colab for this homework"
      ]
    },
    {
      "cell_type": "markdown",
      "metadata": {
        "id": "zwryhxXSsTQl"
      },
      "source": [
        "***Double Click here to edit this cell***\n",
        "\n",
        "- Name: 김대현\n",
        "- Student ID: 202000449\n",
        "- Submission date: 24.06.11"
      ]
    },
    {
      "cell_type": "markdown",
      "metadata": {
        "id": "0_gftJ93sTQm"
      },
      "source": [
        "## Problem 1 (10 pts): K-means : 10\n",
        "\n",
        "- We want to cluster data in sample_data_1.csv\n",
        "- Estimate the best k for sample_data_1.csv\n",
        "- You must show the process to find the best k\n",
        "- use `sklearn.cluster.KMeans`"
      ]
    },
    {
      "cell_type": "markdown",
      "source": [
        "- 우리는 `sample_data_1.csv`의 데이터를 클러스터링하고자 합니다.\n",
        "- `sample_data_1.csv`에 대한 최적의 k 값을 추정하세요.\n",
        "- 최적의 k 값을 찾는 과정을 보여주세요.\n",
        "- `sklearn.cluster.KMeans`를 사용하세요."
      ],
      "metadata": {
        "id": "ai53WldLj_gk"
      }
    },
    {
      "cell_type": "code",
      "execution_count": null,
      "metadata": {
        "id": "RmkPxmZwsTQn",
        "colab": {
          "base_uri": "https://localhost:8080/",
          "height": 579
        },
        "outputId": "94ce6fee-7c5c-4b64-da6a-be6e53786b56"
      },
      "outputs": [
        {
          "output_type": "stream",
          "name": "stdout",
          "text": [
            "     0    1    2    3\n",
            "0  5.1  3.5  1.4  0.2\n",
            "1  4.9  3.0  1.4  0.2\n",
            "2  4.7  3.2  1.3  0.2\n",
            "3  4.6  3.1  1.5  0.2\n",
            "4  5.0  3.6  1.4  0.2\n"
          ]
        },
        {
          "output_type": "display_data",
          "data": {
            "text/plain": [
              "<Figure size 640x480 with 1 Axes>"
            ],
            "image/png": "[encoded data removed]"
          },
          "metadata": {}
        }
      ],
      "source": [
        "# YOUR CODE HERE. You may use as many code cells as you want.\n",
        "import pandas as pd\n",
        "import matplotlib.pyplot as plt\n",
        "from sklearn.cluster import KMeans\n",
        "\n",
        "# 데이터 로드\n",
        "file_path = '/content/sample_data_1.csv'\n",
        "data = pd.read_csv(file_path, header=None)  # 데이터 파일에 헤더가 없다고 가정합니다\n",
        "\n",
        "# 데이터 확인\n",
        "print(data.head())\n",
        "\n",
        "# k 값의 범위 설정\n",
        "k_values = range(1, 16)\n",
        "inertia_values = []\n",
        "\n",
        "# 각 k 값에 대해 KMeans 클러스터링 수행 및 비용 함수 계산\n",
        "for k in k_values:\n",
        "    kmeans = KMeans(n_clusters=k, n_init=10, random_state=0)\n",
        "    kmeans.fit(data)\n",
        "    inertia_values.append(kmeans.inertia_)\n",
        "\n",
        "# 엘보우 방법을 사용하여 최적의 k 값 찾기\n",
        "plt.plot(k_values, inertia_values, marker='o')\n",
        "plt.xlabel('Number of clusters (k)')\n",
        "plt.ylabel('Inertia')\n",
        "plt.title('Elbow Method for Optimal k')\n",
        "plt.show()\n"
      ]
    },
    {
      "cell_type": "markdown",
      "metadata": {
        "id": "UtTjX9cqsTQn"
      },
      "source": [
        "### Your conclusion:\n",
        "```\n",
        "To edit, double-click here\n",
        "그래프에서 k=1에서 k=3으로 이동할 때 Inertia가 급격히 감소합니다.\n",
        "k=3 이후로는 Inertia의 감소 폭이 현저히 줄어들고, 그래프가 완만해집니다.\n",
        "따라서, 최적의 k 값은 3으로 추정할 수 있습니다. 이는 데이터가 3개의 클러스터로 가장 잘 나누어질 수 있음을 의미합니다.\n",
        "\n",
        "```"
      ]
    },
    {
      "cell_type": "markdown",
      "metadata": {
        "id": "5aZJeuF-sTQn"
      },
      "source": [
        "## Problem 2 (40 pts): K-means implementation : 30\n",
        "\n",
        "- Make your own implementaion of K-means algorithm\n",
        "- If the sum of distances between previous centroids and current centroids is less than or equal to `EPSILON`, K-means stops.\n",
        "- If K-means algorithm reaches the maximum number of iterations `max_iter`, it stops.\n",
        "- In `fit` method, you must run k-means in `n_init` times with different centroid seeds. Then choose the best.\n",
        "- `fit` method computes centroids and labels and stores them in `self.cluster_centers_` and `self.labels_`\n",
        "- `predict` method returns the centroids closest to each point in `X`\n",
        "- `score` method returns **the negative of** the sum of sqaured distances between each point in `X` and the centroid closest to the point."
      ]
    },
    {
      "cell_type": "markdown",
      "source": [
        "- 이전 중심점과 현재 중심점 사이의 거리 합이 `EPSILON` 이하이면 K-means가 멈춥니다.\n",
        "- K-means 알고리즘이 최대 반복 횟수 `max_iter`에 도달하면 멈춥니다.\n",
        "- `fit` 메서드에서 K-means를 `n_init` 번 다른 중심점 초기값으로 실행해야 합니다. 그런 다음 가장 좋은 결과를 선택합니다.\n",
        "- `fit` 메서드는 중심점과 레이블을 계산하고 이를 `self.cluster_centers_`와 `self.labels_`에 저장합니다.\n",
        "- `predict` 메서드는 `X`의 각 점에 가장 가까운 중심점을 반환합니다.\n",
        "- `score` 메서드는 `X`의 각 점과 해당 점에 가장 가까운 중심점 사이의 제곱 거리의 합의 **음수**를 반환합니다."
      ],
      "metadata": {
        "id": "1Hml6uJGqDsn"
      }
    },
    {
      "cell_type": "code",
      "execution_count": null,
      "metadata": {
        "id": "dD8KvqmJsTQo",
        "colab": {
          "base_uri": "https://localhost:8080/"
        },
        "outputId": "d59e22ee-0e7a-439f-814c-39910fd7ee1c"
      },
      "outputs": [
        {
          "output_type": "stream",
          "name": "stdout",
          "text": [
            "Linux ef55de56e8da 6.1.85+ #1 SMP PREEMPT_DYNAMIC Sun Apr 28 14:29:16 UTC 2024 x86_64 x86_64 x86_64 GNU/Linux\n"
          ]
        }
      ],
      "source": [
        "!uname -a\n",
        "import numpy as np\n",
        "\n",
        "class MyKMeans:\n",
        "    \"\"\"performs k-means clustering using numpy\"\"\"\n",
        "\n",
        "    def __init__(self, n_clusters=8, n_init=10, EPSILON=1e-4, max_iter=300, random_state=0):\n",
        "        self.n_clusters = n_clusters        # number of clusters\n",
        "        self.n_init = n_init                # number of time the k-means algorithm will be run with different centroid seeds.\n",
        "        self.EPSILON = EPSILON              # EPSILON; stop if the sum of centroid movements <= EPSILON\n",
        "        self.max_iter = max_iter            # maximum number of iterations\n",
        "        self.random_state = random_state    # random number seed\n",
        "        self.cluster_centers_ = None        # means of clusters\n",
        "        self.labels_ = None                 # X's assignments to clusters\n",
        "\n",
        "\n",
        "    def fit(self, X):\n",
        "        X = X.astype(float)\n",
        "        best_inertia = np.inf\n",
        "        np.random.seed(self.random_state)\n",
        "\n",
        "        for _ in range(self.n_init):\n",
        "            # 데이터셋에서 무작위로 중심점 초기화\n",
        "            centroids = X[np.random.choice(X.shape[0], self.n_clusters, replace=False)]\n",
        "            for i in range(self.max_iter):\n",
        "                # 가장 가까운 중심점을 기준으로 레이블 할당\n",
        "                distances = np.linalg.norm(X[:, np.newaxis] - centroids, axis=2)\n",
        "                labels = np.argmin(distances, axis=1)\n",
        "\n",
        "                # 새로운 중심점 계산\n",
        "                new_centroids = np.array([X[labels == j].mean(axis=0) for j in range(self.n_clusters)])\n",
        "\n",
        "                # 수렴 확인\n",
        "                if np.linalg.norm(new_centroids - centroids) <= self.EPSILON:\n",
        "                    break\n",
        "                centroids = new_centroids\n",
        "\n",
        "            # inertia 계산\n",
        "            inertia = np.sum((X - centroids[labels]) ** 2)\n",
        "\n",
        "            # 현재 inertia가 더 낮으면 최적의 중심점 업데이트\n",
        "            if inertia < best_inertia:\n",
        "                best_inertia = inertia\n",
        "                self.cluster_centers_ = centroids\n",
        "                self.labels_ = labels\n",
        "\n",
        "        return self\n",
        "\n",
        "\n",
        "    def predict(self, X):\n",
        "        X = X.astype(float)\n",
        "        distances = np.linalg.norm(X[:, np.newaxis] - self.cluster_centers_, axis=2)\n",
        "        return np.argmin(distances, axis=1)\n",
        "\n",
        "    def score(self, X):\n",
        "        X = X.astype(float)\n",
        "        labels = self.predict(X)\n",
        "        return -np.sum((X - self.cluster_centers_[labels]) ** 2)\n"
      ]
    },
    {
      "cell_type": "markdown",
      "metadata": {
        "id": "MXYSjsTgsTQo"
      },
      "source": [
        "### Run the following code:"
      ]
    },
    {
      "cell_type": "code",
      "execution_count": null,
      "metadata": {
        "id": "zzAEy91xsTQo",
        "colab": {
          "base_uri": "https://localhost:8080/"
        },
        "outputId": "468137c1-4ef3-4d2e-8d14-ef72f7215b35"
      },
      "outputs": [
        {
          "output_type": "stream",
          "name": "stdout",
          "text": [
            "[[10.  2.]\n",
            " [ 1.  2.]]\n",
            "[1 1 1 0 0 0]\n",
            "-16.0\n"
          ]
        }
      ],
      "source": [
        "# DO NOT EDIT\n",
        "import numpy as np\n",
        "X = np.array([[1, 2], [1, 4], [1, 0],\n",
        "              [10, 2], [10, 4], [10, 0]])\n",
        "\n",
        "kmeans = MyKMeans(n_clusters=2).fit(X)\n",
        "print(kmeans.cluster_centers_)\n",
        "print(kmeans.labels_)\n",
        "print(kmeans.score(X))"
      ]
    },
    {
      "cell_type": "markdown",
      "metadata": {
        "id": "_3zWvW8-sTQp"
      },
      "source": [
        "### Your output must be the following:\n",
        "```\n",
        "[[10.  2.]\n",
        " [ 1.  2.]]\n",
        "[1 1 1 0 0 0]\n",
        "-16.0\n",
        "```"
      ]
    },
    {
      "cell_type": "markdown",
      "metadata": {
        "id": "IM2MF2jHsTQp"
      },
      "source": [
        "### Run the following code:"
      ]
    },
    {
      "cell_type": "code",
      "execution_count": null,
      "metadata": {
        "id": "FuiGpI5dsTQp",
        "colab": {
          "base_uri": "https://localhost:8080/"
        },
        "outputId": "409329ab-5c99-457f-9648-ca4eea46d0c0"
      },
      "outputs": [
        {
          "output_type": "stream",
          "name": "stdout",
          "text": [
            "Linux ef55de56e8da 6.1.85+ #1 SMP PREEMPT_DYNAMIC Sun Apr 28 14:29:16 UTC 2024 x86_64 x86_64 x86_64 GNU/Linux\n",
            "CPU times: user 6.36 s, sys: 17.3 ms, total: 6.38 s\n",
            "Wall time: 10.3 s\n"
          ]
        }
      ],
      "source": [
        "!uname -a\n",
        "# DO NOT EDIT\n",
        "%matplotlib inline\n",
        "\n",
        "from sklearn.cluster import KMeans\n",
        "import numpy as np\n",
        "import matplotlib.pyplot as plt\n",
        "import csv\n",
        "\n",
        "with open('sample_data_2.csv', 'r') as rf:\n",
        "    reader = csv.reader(rf)\n",
        "    X2 = np.array(list(reader))\n",
        "\n",
        "ks3 = range(1, 21)\n",
        "%time errors3 = [-MyKMeans(n_clusters=k, n_init=10).fit(X2).score(X2) for k in ks3]"
      ]
    },
    {
      "cell_type": "markdown",
      "metadata": {
        "id": "PCMuqvP6sTQp"
      },
      "source": [
        "윈도우 시스템 with open('sample_data_2.csv', 'rb') as rf:"
      ]
    },
    {
      "cell_type": "markdown",
      "metadata": {
        "id": "_LjiQ8f2sTQp"
      },
      "source": [
        "### Your code will be graded based on the correctness and the performance\n",
        "### My implementation result:\n",
        "```\n",
        "Wall time: 2.66 s\n",
        "```"
      ]
    },
    {
      "cell_type": "code",
      "execution_count": null,
      "metadata": {
        "id": "_AyU0DBXsTQp",
        "colab": {
          "base_uri": "https://localhost:8080/",
          "height": 770
        },
        "outputId": "b1be6eb7-b773-475b-c1d0-88e2c71f00fa"
      },
      "outputs": [
        {
          "output_type": "display_data",
          "data": {
            "text/plain": [
              "<Figure size 2000x2000 with 1 Axes>"
            ],
            "image/png": "[encoded data removed]"
          },
          "metadata": {}
        }
      ],
      "source": [
        "# DO NOT EDIT\n",
        "plt.figure(figsize=(20,20))\n",
        "plt.plot(ks3, errors3, '-o')\n",
        "plt.xticks(ks3)\n",
        "plt.xlabel(\"k\")\n",
        "plt.ylabel(\"total squared error\")\n",
        "plt.show()"
      ]
    },
    {
      "cell_type": "markdown",
      "metadata": {
        "id": "tRcYmxpQsTQq"
      },
      "source": [
        "### Your output must be similar to the following:\n",
        "<img src=\"hw8_1.png\">\n",
        "\n",
        "![image.png](data:image/png;base64,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)"
      ]
    },
    {
      "cell_type": "markdown",
      "metadata": {
        "id": "LJR1cLaasTQq"
      },
      "source": [
        "## Problem 3 (40 pts): Recommender implementation : 20\n",
        "\n",
        "- Make your own implementaion of item-based recommender system\n",
        "- You may use the code in textbook, but it may be too slow for large datasets.\n",
        "- You shouldn't import and use any module implementing recommender system directly\n",
        "- Use cosine similarity for item similarity (Assume that all null values are zero)\n",
        "\n",
        "- We will use movie rating dataset"
      ]
    },
    {
      "cell_type": "markdown",
      "source": [
        "- 교재의 코드를 사용할 수 있지만, 큰 데이터셋에 대해서는 너무 느릴 수 있습니다.\n",
        "- 추천 시스템을 구현하는 모듈을 직접 가져와서 사용하면 안 됩니다.\n",
        "- 아이템 유사도는 코사인 유사도를 사용하세요 (모든 null 값은 0으로 가정합니다).\n",
        "\n",
        "- 우리는 영화 평점 데이터셋을 사용할 것입니다."
      ],
      "metadata": {
        "id": "o7g2uU8JrAVX"
      }
    },
    {
      "cell_type": "code",
      "execution_count": null,
      "metadata": {
        "scrolled": true,
        "id": "1xPgXoQWsTQq",
        "outputId": "8c57e496-4905-4d7b-baa5-f176ff7804da",
        "colab": {
          "base_uri": "https://localhost:8080/",
          "height": 206
        }
      },
      "outputs": [
        {
          "output_type": "execute_result",
          "data": {
            "text/plain": [
              "   movieId                               title  \\\n",
              "0        1                    Toy Story (1995)   \n",
              "1        2                      Jumanji (1995)   \n",
              "2        3             Grumpier Old Men (1995)   \n",
              "3        4            Waiting to Exhale (1995)   \n",
              "4        5  Father of the Bride Part II (1995)   \n",
              "\n",
              "                                        genres  \n",
              "0  Adventure|Animation|Children|Comedy|Fantasy  \n",
              "1                   Adventure|Children|Fantasy  \n",
              "2                               Comedy|Romance  \n",
              "3                         Comedy|Drama|Romance  \n",
              "4                                       Comedy  "
            ],
            "text/html": [
              "\n",
              "  <div id=\"df-fd647d8d-7486-490b-8818-d095ce37eb82\" class=\"colab-df-container\">\n",
              "    <div>\n",
              "<style scoped>\n",
              "    .dataframe tbody tr th:only-of-type {\n",
              "        vertical-align: middle;\n",
              "    }\n",
              "\n",
              "    .dataframe tbody tr th {\n",
              "        vertical-align: top;\n",
              "    }\n",
              "\n",
              "    .dataframe thead th {\n",
              "        text-align: right;\n",
              "    }\n",
              "</style>\n",
              "<table border=\"1\" class=\"dataframe\">\n",
              "  <thead>\n",
              "    <tr style=\"text-align: right;\">\n",
              "      <th></th>\n",
              "      <th>movieId</th>\n",
              "      <th>title</th>\n",
              "      <th>genres</th>\n",
              "    </tr>\n",
              "  </thead>\n",
              "  <tbody>\n",
              "    <tr>\n",
              "      <th>0</th>\n",
              "      <td>1</td>\n",
              "      <td>Toy Story (1995)</td>\n",
              "      <td>Adventure|Animation|Children|Comedy|Fantasy</td>\n",
              "    </tr>\n",
              "    <tr>\n",
              "      <th>1</th>\n",
              "      <td>2</td>\n",
              "      <td>Jumanji (1995)</td>\n",
              "      <td>Adventure|Children|Fantasy</td>\n",
              "    </tr>\n",
              "    <tr>\n",
              "      <th>2</th>\n",
              "      <td>3</td>\n",
              "      <td>Grumpier Old Men (1995)</td>\n",
              "      <td>Comedy|Romance</td>\n",
              "    </tr>\n",
              "    <tr>\n",
              "      <th>3</th>\n",
              "      <td>4</td>\n",
              "      <td>Waiting to Exhale (1995)</td>\n",
              "      <td>Comedy|Drama|Romance</td>\n",
              "    </tr>\n",
              "    <tr>\n",
              "      <th>4</th>\n",
              "      <td>5</td>\n",
              "      <td>Father of the Bride Part II (1995)</td>\n",
              "      <td>Comedy</td>\n",
              "    </tr>\n",
              "  </tbody>\n",
              "</table>\n",
              "</div>\n",
              "    <div class=\"colab-df-buttons\">\n",
              "\n",
              "  <div class=\"colab-df-container\">\n",
              "    <button class=\"colab-df-convert\" onclick=\"convertToInteractive('df-fd647d8d-7486-490b-8818-d095ce37eb82')\"\n",
              "            title=\"Convert this dataframe to an interactive table.\"\n",
              "            style=\"display:none;\">\n",
              "\n",
              "  <svg xmlns=\"http://www.w3.org/2000/svg\" height=\"24px\" viewBox=\"0 -960 960 960\">\n",
              "    <path d=\"M120-120v-720h720v720H120Zm60-500h600v-160H180v160Zm220 220h160v-160H400v160Zm0 220h160v-160H400v160ZM180-400h160v-160H180v160Zm440 0h160v-160H620v160ZM180-180h160v-160H180v160Zm440 0h160v-160H620v160Z\"/>\n",
              "  </svg>\n",
              "    </button>\n",
              "\n",
              "  <style>\n",
              "    .colab-df-container {\n",
              "      display:flex;\n",
              "      gap: 12px;\n",
              "    }\n",
              "\n",
              "    .colab-df-convert {\n",
              "      background-color: #E8F0FE;\n",
              "      border: none;\n",
              "      border-radius: 50%;\n",
              "      cursor: pointer;\n",
              "      display: none;\n",
              "      fill: #1967D2;\n",
              "      height: 32px;\n",
              "      padding: 0 0 0 0;\n",
              "      width: 32px;\n",
              "    }\n",
              "\n",
              "    .colab-df-convert:hover {\n",
              "      background-color: #E2EBFA;\n",
              "      box-shadow: 0px 1px 2px rgba(60, 64, 67, 0.3), 0px 1px 3px 1px rgba(60, 64, 67, 0.15);\n",
              "      fill: #174EA6;\n",
              "    }\n",
              "\n",
              "    .colab-df-buttons div {\n",
              "      margin-bottom: 4px;\n",
              "    }\n",
              "\n",
              "    [theme=dark] .colab-df-convert {\n",
              "      background-color: #3B4455;\n",
              "      fill: #D2E3FC;\n",
              "    }\n",
              "\n",
              "    [theme=dark] .colab-df-convert:hover {\n",
              "      background-color: #434B5C;\n",
              "      box-shadow: 0px 1px 3px 1px rgba(0, 0, 0, 0.15);\n",
              "      filter: drop-shadow(0px 1px 2px rgba(0, 0, 0, 0.3));\n",
              "      fill: #FFFFFF;\n",
              "    }\n",
              "  </style>\n",
              "\n",
              "    <script>\n",
              "      const buttonEl =\n",
              "        document.querySelector('#df-fd647d8d-7486-490b-8818-d095ce37eb82 button.colab-df-convert');\n",
              "      buttonEl.style.display =\n",
              "        google.colab.kernel.accessAllowed ? 'block' : 'none';\n",
              "\n",
              "      async function convertToInteractive(key) {\n",
              "        const element = document.querySelector('#df-fd647d8d-7486-490b-8818-d095ce37eb82');\n",
              "        const dataTable =\n",
              "          await google.colab.kernel.invokeFunction('convertToInteractive',\n",
              "                                                    [key], {});\n",
              "        if (!dataTable) return;\n",
              "\n",
              "        const docLinkHtml = 'Like what you see? Visit the ' +\n",
              "          '<a target=\"_blank\" href=https://colab.research.google.com/notebooks/data_table.ipynb>data table notebook</a>'\n",
              "          + ' to learn more about interactive tables.';\n",
              "        element.innerHTML = '';\n",
              "        dataTable['output_type'] = 'display_data';\n",
              "        await google.colab.output.renderOutput(dataTable, element);\n",
              "        const docLink = document.createElement('div');\n",
              "        docLink.innerHTML = docLinkHtml;\n",
              "        element.appendChild(docLink);\n",
              "      }\n",
              "    </script>\n",
              "  </div>\n",
              "\n",
              "\n",
              "<div id=\"df-c9762710-c57a-444b-b62e-05e0ae16ecc9\">\n",
              "  <button class=\"colab-df-quickchart\" onclick=\"quickchart('df-c9762710-c57a-444b-b62e-05e0ae16ecc9')\"\n",
              "            title=\"Suggest charts\"\n",
              "            style=\"display:none;\">\n",
              "\n",
              "<svg xmlns=\"http://www.w3.org/2000/svg\" height=\"24px\"viewBox=\"0 0 24 24\"\n",
              "     width=\"24px\">\n",
              "    <g>\n",
              "        <path d=\"M19 3H5c-1.1 0-2 .9-2 2v14c0 1.1.9 2 2 2h14c1.1 0 2-.9 2-2V5c0-1.1-.9-2-2-2zM9 17H7v-7h2v7zm4 0h-2V7h2v10zm4 0h-2v-4h2v4z\"/>\n",
              "    </g>\n",
              "</svg>\n",
              "  </button>\n",
              "\n",
              "<style>\n",
              "  .colab-df-quickchart {\n",
              "      --bg-color: #E8F0FE;\n",
              "      --fill-color: #1967D2;\n",
              "      --hover-bg-color: #E2EBFA;\n",
              "      --hover-fill-color: #174EA6;\n",
              "      --disabled-fill-color: #AAA;\n",
              "      --disabled-bg-color: #DDD;\n",
              "  }\n",
              "\n",
              "  [theme=dark] .colab-df-quickchart {\n",
              "      --bg-color: #3B4455;\n",
              "      --fill-color: #D2E3FC;\n",
              "      --hover-bg-color: #434B5C;\n",
              "      --hover-fill-color: #FFFFFF;\n",
              "      --disabled-bg-color: #3B4455;\n",
              "      --disabled-fill-color: #666;\n",
              "  }\n",
              "\n",
              "  .colab-df-quickchart {\n",
              "    background-color: var(--bg-color);\n",
              "    border: none;\n",
              "    border-radius: 50%;\n",
              "    cursor: pointer;\n",
              "    display: none;\n",
              "    fill: var(--fill-color);\n",
              "    height: 32px;\n",
              "    padding: 0;\n",
              "    width: 32px;\n",
              "  }\n",
              "\n",
              "  .colab-df-quickchart:hover {\n",
              "    background-color: var(--hover-bg-color);\n",
              "    box-shadow: 0 1px 2px rgba(60, 64, 67, 0.3), 0 1px 3px 1px rgba(60, 64, 67, 0.15);\n",
              "    fill: var(--button-hover-fill-color);\n",
              "  }\n",
              "\n",
              "  .colab-df-quickchart-complete:disabled,\n",
              "  .colab-df-quickchart-complete:disabled:hover {\n",
              "    background-color: var(--disabled-bg-color);\n",
              "    fill: var(--disabled-fill-color);\n",
              "    box-shadow: none;\n",
              "  }\n",
              "\n",
              "  .colab-df-spinner {\n",
              "    border: 2px solid var(--fill-color);\n",
              "    border-color: transparent;\n",
              "    border-bottom-color: var(--fill-color);\n",
              "    animation:\n",
              "      spin 1s steps(1) infinite;\n",
              "  }\n",
              "\n",
              "  @keyframes spin {\n",
              "    0% {\n",
              "      border-color: transparent;\n",
              "      border-bottom-color: var(--fill-color);\n",
              "      border-left-color: var(--fill-color);\n",
              "    }\n",
              "    20% {\n",
              "      border-color: transparent;\n",
              "      border-left-color: var(--fill-color);\n",
              "      border-top-color: var(--fill-color);\n",
              "    }\n",
              "    30% {\n",
              "      border-color: transparent;\n",
              "      border-left-color: var(--fill-color);\n",
              "      border-top-color: var(--fill-color);\n",
              "      border-right-color: var(--fill-color);\n",
              "    }\n",
              "    40% {\n",
              "      border-color: transparent;\n",
              "      border-right-color: var(--fill-color);\n",
              "      border-top-color: var(--fill-color);\n",
              "    }\n",
              "    60% {\n",
              "      border-color: transparent;\n",
              "      border-right-color: var(--fill-color);\n",
              "    }\n",
              "    80% {\n",
              "      border-color: transparent;\n",
              "      border-right-color: var(--fill-color);\n",
              "      border-bottom-color: var(--fill-color);\n",
              "    }\n",
              "    90% {\n",
              "      border-color: transparent;\n",
              "      border-bottom-color: var(--fill-color);\n",
              "    }\n",
              "  }\n",
              "</style>\n",
              "\n",
              "  <script>\n",
              "    async function quickchart(key) {\n",
              "      const quickchartButtonEl =\n",
              "        document.querySelector('#' + key + ' button');\n",
              "      quickchartButtonEl.disabled = true;  // To prevent multiple clicks.\n",
              "      quickchartButtonEl.classList.add('colab-df-spinner');\n",
              "      try {\n",
              "        const charts = await google.colab.kernel.invokeFunction(\n",
              "            'suggestCharts', [key], {});\n",
              "      } catch (error) {\n",
              "        console.error('Error during call to suggestCharts:', error);\n",
              "      }\n",
              "      quickchartButtonEl.classList.remove('colab-df-spinner');\n",
              "      quickchartButtonEl.classList.add('colab-df-quickchart-complete');\n",
              "    }\n",
              "    (() => {\n",
              "      let quickchartButtonEl =\n",
              "        document.querySelector('#df-c9762710-c57a-444b-b62e-05e0ae16ecc9 button');\n",
              "      quickchartButtonEl.style.display =\n",
              "        google.colab.kernel.accessAllowed ? 'block' : 'none';\n",
              "    })();\n",
              "  </script>\n",
              "</div>\n",
              "\n",
              "    </div>\n",
              "  </div>\n"
            ],
            "application/vnd.google.colaboratory.intrinsic+json": {
              "type": "dataframe",
              "variable_name": "movies",
              "summary": "{\n  \"name\": \"movies\",\n  \"rows\": 9742,\n  \"fields\": [\n    {\n      \"column\": \"movieId\",\n      \"properties\": {\n        \"dtype\": \"number\",\n        \"std\": 52160,\n        \"min\": 1,\n        \"max\": 193609,\n        \"num_unique_values\": 9742,\n        \"samples\": [\n          45635,\n          1373,\n          7325\n        ],\n        \"semantic_type\": \"\",\n        \"description\": \"\"\n      }\n    },\n    {\n      \"column\": \"title\",\n      \"properties\": {\n        \"dtype\": \"string\",\n        \"num_unique_values\": 9737,\n        \"samples\": [\n          \"Teenage Mutant Ninja Turtles (2014)\",\n          \"America's Sweethearts (2001)\",\n          \"Cast Away (2000)\"\n        ],\n        \"semantic_type\": \"\",\n        \"description\": \"\"\n      }\n    },\n    {\n      \"column\": \"genres\",\n      \"properties\": {\n        \"dtype\": \"category\",\n        \"num_unique_values\": 951,\n        \"samples\": [\n          \"Crime|Mystery|Romance|Thriller\",\n          \"Action|Adventure|Comedy|Western\",\n          \"Crime|Drama|Musical\"\n        ],\n        \"semantic_type\": \"\",\n        \"description\": \"\"\n      }\n    }\n  ]\n}"
            }
          },
          "metadata": {},
          "execution_count": 6
        }
      ],
      "source": [
        "import pandas as pd\n",
        "\n",
        "movies = pd.read_csv('/content/movies.csv')\n",
        "movies.head(5)"
      ]
    },
    {
      "cell_type": "code",
      "execution_count": null,
      "metadata": {
        "id": "D1CgXzmisTQq",
        "outputId": "b4326617-5b9b-4c9e-f9f4-4105475022ec",
        "colab": {
          "base_uri": "https://localhost:8080/"
        }
      },
      "outputs": [
        {
          "output_type": "execute_result",
          "data": {
            "text/plain": [
              "movieId    9742\n",
              "title      9742\n",
              "genres     9742\n",
              "dtype: int64"
            ]
          },
          "metadata": {},
          "execution_count": 7
        }
      ],
      "source": [
        "movies.count()"
      ]
    },
    {
      "cell_type": "code",
      "execution_count": null,
      "metadata": {
        "id": "MqHghnt5sTQq",
        "outputId": "65f556eb-c3eb-4e60-f7e3-d6803379b8af",
        "colab": {
          "base_uri": "https://localhost:8080/",
          "height": 206
        }
      },
      "outputs": [
        {
          "output_type": "execute_result",
          "data": {
            "text/plain": [
              "   userId  movieId  rating  timestamp\n",
              "0       1        1     4.0  964982703\n",
              "1       1        3     4.0  964981247\n",
              "2       1        6     4.0  964982224\n",
              "3       1       47     5.0  964983815\n",
              "4       1       50     5.0  964982931"
            ],
            "text/html": [
              "\n",
              "  <div id=\"df-8de9eff1-b6da-4778-9b44-c6a96473a469\" class=\"colab-df-container\">\n",
              "    <div>\n",
              "<style scoped>\n",
              "    .dataframe tbody tr th:only-of-type {\n",
              "        vertical-align: middle;\n",
              "    }\n",
              "\n",
              "    .dataframe tbody tr th {\n",
              "        vertical-align: top;\n",
              "    }\n",
              "\n",
              "    .dataframe thead th {\n",
              "        text-align: right;\n",
              "    }\n",
              "</style>\n",
              "<table border=\"1\" class=\"dataframe\">\n",
              "  <thead>\n",
              "    <tr style=\"text-align: right;\">\n",
              "      <th></th>\n",
              "      <th>userId</th>\n",
              "      <th>movieId</th>\n",
              "      <th>rating</th>\n",
              "      <th>timestamp</th>\n",
              "    </tr>\n",
              "  </thead>\n",
              "  <tbody>\n",
              "    <tr>\n",
              "      <th>0</th>\n",
              "      <td>1</td>\n",
              "      <td>1</td>\n",
              "      <td>4.0</td>\n",
              "      <td>964982703</td>\n",
              "    </tr>\n",
              "    <tr>\n",
              "      <th>1</th>\n",
              "      <td>1</td>\n",
              "      <td>3</td>\n",
              "      <td>4.0</td>\n",
              "      <td>964981247</td>\n",
              "    </tr>\n",
              "    <tr>\n",
              "      <th>2</th>\n",
              "      <td>1</td>\n",
              "      <td>6</td>\n",
              "      <td>4.0</td>\n",
              "      <td>964982224</td>\n",
              "    </tr>\n",
              "    <tr>\n",
              "      <th>3</th>\n",
              "      <td>1</td>\n",
              "      <td>47</td>\n",
              "      <td>5.0</td>\n",
              "      <td>964983815</td>\n",
              "    </tr>\n",
              "    <tr>\n",
              "      <th>4</th>\n",
              "      <td>1</td>\n",
              "      <td>50</td>\n",
              "      <td>5.0</td>\n",
              "      <td>964982931</td>\n",
              "    </tr>\n",
              "  </tbody>\n",
              "</table>\n",
              "</div>\n",
              "    <div class=\"colab-df-buttons\">\n",
              "\n",
              "  <div class=\"colab-df-container\">\n",
              "    <button class=\"colab-df-convert\" onclick=\"convertToInteractive('df-8de9eff1-b6da-4778-9b44-c6a96473a469')\"\n",
              "            title=\"Convert this dataframe to an interactive table.\"\n",
              "            style=\"display:none;\">\n",
              "\n",
              "  <svg xmlns=\"http://www.w3.org/2000/svg\" height=\"24px\" viewBox=\"0 -960 960 960\">\n",
              "    <path d=\"M120-120v-720h720v720H120Zm60-500h600v-160H180v160Zm220 220h160v-160H400v160Zm0 220h160v-160H400v160ZM180-400h160v-160H180v160Zm440 0h160v-160H620v160ZM180-180h160v-160H180v160Zm440 0h160v-160H620v160Z\"/>\n",
              "  </svg>\n",
              "    </button>\n",
              "\n",
              "  <style>\n",
              "    .colab-df-container {\n",
              "      display:flex;\n",
              "      gap: 12px;\n",
              "    }\n",
              "\n",
              "    .colab-df-convert {\n",
              "      background-color: #E8F0FE;\n",
              "      border: none;\n",
              "      border-radius: 50%;\n",
              "      cursor: pointer;\n",
              "      display: none;\n",
              "      fill: #1967D2;\n",
              "      height: 32px;\n",
              "      padding: 0 0 0 0;\n",
              "      width: 32px;\n",
              "    }\n",
              "\n",
              "    .colab-df-convert:hover {\n",
              "      background-color: #E2EBFA;\n",
              "      box-shadow: 0px 1px 2px rgba(60, 64, 67, 0.3), 0px 1px 3px 1px rgba(60, 64, 67, 0.15);\n",
              "      fill: #174EA6;\n",
              "    }\n",
              "\n",
              "    .colab-df-buttons div {\n",
              "      margin-bottom: 4px;\n",
              "    }\n",
              "\n",
              "    [theme=dark] .colab-df-convert {\n",
              "      background-color: #3B4455;\n",
              "      fill: #D2E3FC;\n",
              "    }\n",
              "\n",
              "    [theme=dark] .colab-df-convert:hover {\n",
              "      background-color: #434B5C;\n",
              "      box-shadow: 0px 1px 3px 1px rgba(0, 0, 0, 0.15);\n",
              "      filter: drop-shadow(0px 1px 2px rgba(0, 0, 0, 0.3));\n",
              "      fill: #FFFFFF;\n",
              "    }\n",
              "  </style>\n",
              "\n",
              "    <script>\n",
              "      const buttonEl =\n",
              "        document.querySelector('#df-8de9eff1-b6da-4778-9b44-c6a96473a469 button.colab-df-convert');\n",
              "      buttonEl.style.display =\n",
              "        google.colab.kernel.accessAllowed ? 'block' : 'none';\n",
              "\n",
              "      async function convertToInteractive(key) {\n",
              "        const element = document.querySelector('#df-8de9eff1-b6da-4778-9b44-c6a96473a469');\n",
              "        const dataTable =\n",
              "          await google.colab.kernel.invokeFunction('convertToInteractive',\n",
              "                                                    [key], {});\n",
              "        if (!dataTable) return;\n",
              "\n",
              "        const docLinkHtml = 'Like what you see? Visit the ' +\n",
              "          '<a target=\"_blank\" href=https://colab.research.google.com/notebooks/data_table.ipynb>data table notebook</a>'\n",
              "          + ' to learn more about interactive tables.';\n",
              "        element.innerHTML = '';\n",
              "        dataTable['output_type'] = 'display_data';\n",
              "        await google.colab.output.renderOutput(dataTable, element);\n",
              "        const docLink = document.createElement('div');\n",
              "        docLink.innerHTML = docLinkHtml;\n",
              "        element.appendChild(docLink);\n",
              "      }\n",
              "    </script>\n",
              "  </div>\n",
              "\n",
              "\n",
              "<div id=\"df-2ad526bc-5018-449f-9fcf-c9449cd62c71\">\n",
              "  <button class=\"colab-df-quickchart\" onclick=\"quickchart('df-2ad526bc-5018-449f-9fcf-c9449cd62c71')\"\n",
              "            title=\"Suggest charts\"\n",
              "            style=\"display:none;\">\n",
              "\n",
              "<svg xmlns=\"http://www.w3.org/2000/svg\" height=\"24px\"viewBox=\"0 0 24 24\"\n",
              "     width=\"24px\">\n",
              "    <g>\n",
              "        <path d=\"M19 3H5c-1.1 0-2 .9-2 2v14c0 1.1.9 2 2 2h14c1.1 0 2-.9 2-2V5c0-1.1-.9-2-2-2zM9 17H7v-7h2v7zm4 0h-2V7h2v10zm4 0h-2v-4h2v4z\"/>\n",
              "    </g>\n",
              "</svg>\n",
              "  </button>\n",
              "\n",
              "<style>\n",
              "  .colab-df-quickchart {\n",
              "      --bg-color: #E8F0FE;\n",
              "      --fill-color: #1967D2;\n",
              "      --hover-bg-color: #E2EBFA;\n",
              "      --hover-fill-color: #174EA6;\n",
              "      --disabled-fill-color: #AAA;\n",
              "      --disabled-bg-color: #DDD;\n",
              "  }\n",
              "\n",
              "  [theme=dark] .colab-df-quickchart {\n",
              "      --bg-color: #3B4455;\n",
              "      --fill-color: #D2E3FC;\n",
              "      --hover-bg-color: #434B5C;\n",
              "      --hover-fill-color: #FFFFFF;\n",
              "      --disabled-bg-color: #3B4455;\n",
              "      --disabled-fill-color: #666;\n",
              "  }\n",
              "\n",
              "  .colab-df-quickchart {\n",
              "    background-color: var(--bg-color);\n",
              "    border: none;\n",
              "    border-radius: 50%;\n",
              "    cursor: pointer;\n",
              "    display: none;\n",
              "    fill: var(--fill-color);\n",
              "    height: 32px;\n",
              "    padding: 0;\n",
              "    width: 32px;\n",
              "  }\n",
              "\n",
              "  .colab-df-quickchart:hover {\n",
              "    background-color: var(--hover-bg-color);\n",
              "    box-shadow: 0 1px 2px rgba(60, 64, 67, 0.3), 0 1px 3px 1px rgba(60, 64, 67, 0.15);\n",
              "    fill: var(--button-hover-fill-color);\n",
              "  }\n",
              "\n",
              "  .colab-df-quickchart-complete:disabled,\n",
              "  .colab-df-quickchart-complete:disabled:hover {\n",
              "    background-color: var(--disabled-bg-color);\n",
              "    fill: var(--disabled-fill-color);\n",
              "    box-shadow: none;\n",
              "  }\n",
              "\n",
              "  .colab-df-spinner {\n",
              "    border: 2px solid var(--fill-color);\n",
              "    border-color: transparent;\n",
              "    border-bottom-color: var(--fill-color);\n",
              "    animation:\n",
              "      spin 1s steps(1) infinite;\n",
              "  }\n",
              "\n",
              "  @keyframes spin {\n",
              "    0% {\n",
              "      border-color: transparent;\n",
              "      border-bottom-color: var(--fill-color);\n",
              "      border-left-color: var(--fill-color);\n",
              "    }\n",
              "    20% {\n",
              "      border-color: transparent;\n",
              "      border-left-color: var(--fill-color);\n",
              "      border-top-color: var(--fill-color);\n",
              "    }\n",
              "    30% {\n",
              "      border-color: transparent;\n",
              "      border-left-color: var(--fill-color);\n",
              "      border-top-color: var(--fill-color);\n",
              "      border-right-color: var(--fill-color);\n",
              "    }\n",
              "    40% {\n",
              "      border-color: transparent;\n",
              "      border-right-color: var(--fill-color);\n",
              "      border-top-color: var(--fill-color);\n",
              "    }\n",
              "    60% {\n",
              "      border-color: transparent;\n",
              "      border-right-color: var(--fill-color);\n",
              "    }\n",
              "    80% {\n",
              "      border-color: transparent;\n",
              "      border-right-color: var(--fill-color);\n",
              "      border-bottom-color: var(--fill-color);\n",
              "    }\n",
              "    90% {\n",
              "      border-color: transparent;\n",
              "      border-bottom-color: var(--fill-color);\n",
              "    }\n",
              "  }\n",
              "</style>\n",
              "\n",
              "  <script>\n",
              "    async function quickchart(key) {\n",
              "      const quickchartButtonEl =\n",
              "        document.querySelector('#' + key + ' button');\n",
              "      quickchartButtonEl.disabled = true;  // To prevent multiple clicks.\n",
              "      quickchartButtonEl.classList.add('colab-df-spinner');\n",
              "      try {\n",
              "        const charts = await google.colab.kernel.invokeFunction(\n",
              "            'suggestCharts', [key], {});\n",
              "      } catch (error) {\n",
              "        console.error('Error during call to suggestCharts:', error);\n",
              "      }\n",
              "      quickchartButtonEl.classList.remove('colab-df-spinner');\n",
              "      quickchartButtonEl.classList.add('colab-df-quickchart-complete');\n",
              "    }\n",
              "    (() => {\n",
              "      let quickchartButtonEl =\n",
              "        document.querySelector('#df-2ad526bc-5018-449f-9fcf-c9449cd62c71 button');\n",
              "      quickchartButtonEl.style.display =\n",
              "        google.colab.kernel.accessAllowed ? 'block' : 'none';\n",
              "    })();\n",
              "  </script>\n",
              "</div>\n",
              "\n",
              "    </div>\n",
              "  </div>\n"
            ],
            "application/vnd.google.colaboratory.intrinsic+json": {
              "type": "dataframe",
              "variable_name": "ratings"
            }
          },
          "metadata": {},
          "execution_count": 8
        }
      ],
      "source": [
        "ratings = pd.read_csv('/content/ratings.csv')\n",
        "ratings.head(5)"
      ]
    },
    {
      "cell_type": "code",
      "execution_count": null,
      "metadata": {
        "id": "epEpHTdQsTQr",
        "outputId": "f42d6859-4b02-4a67-fd6b-3eef13e9e281",
        "colab": {
          "base_uri": "https://localhost:8080/"
        }
      },
      "outputs": [
        {
          "output_type": "execute_result",
          "data": {
            "text/plain": [
              "userId       100836\n",
              "movieId      100836\n",
              "rating       100836\n",
              "timestamp    100836\n",
              "dtype: int64"
            ]
          },
          "metadata": {},
          "execution_count": 9
        }
      ],
      "source": [
        "ratings.count()"
      ]
    },
    {
      "cell_type": "code",
      "execution_count": null,
      "metadata": {
        "id": "rJT9dCTQsTQr",
        "outputId": "6f068aae-6957-4fdc-e2c1-b41f975e7144",
        "colab": {
          "base_uri": "https://localhost:8080/"
        }
      },
      "outputs": [
        {
          "output_type": "execute_result",
          "data": {
            "text/plain": [
              "610"
            ]
          },
          "metadata": {},
          "execution_count": 10
        }
      ],
      "source": [
        "(ratings['userId']).nunique()"
      ]
    },
    {
      "cell_type": "code",
      "execution_count": null,
      "metadata": {
        "id": "Ukf9wRbZsTQr",
        "outputId": "ca524a5f-9ace-4d0f-93af-0b7bd1b188df",
        "colab": {
          "base_uri": "https://localhost:8080/"
        }
      },
      "outputs": [
        {
          "output_type": "execute_result",
          "data": {
            "text/plain": [
              "9724"
            ]
          },
          "metadata": {},
          "execution_count": 11
        }
      ],
      "source": [
        "(ratings['movieId']).nunique()"
      ]
    },
    {
      "cell_type": "code",
      "execution_count": null,
      "metadata": {
        "id": "UJ-017dwsTQr",
        "outputId": "31163659-c4d4-45d5-a82b-e45d70ff3732",
        "colab": {
          "base_uri": "https://localhost:8080/"
        }
      },
      "outputs": [
        {
          "output_type": "stream",
          "name": "stdout",
          "text": [
            "sparsity is 98.30%\n"
          ]
        }
      ],
      "source": [
        "density = 100836/(610 * 9742)\n",
        "print('sparsity is {:.2f}%'.format((1 - density)*100))"
      ]
    },
    {
      "cell_type": "markdown",
      "metadata": {
        "id": "-ELiHuHGsTQr"
      },
      "source": [
        "## The following is top 10 recommendations of movie titles and their genres  from top 1 to top 10 for user 1\n",
        "\n",
        "- 다음은 사용자 1에게 추천된 상위 10개의 영화 제목과 해당 장르입니다.\n",
        "\n",
        "```\n",
        "Ferris Bueller's Day Off (1986)                   Comedy              \n",
        "Die Hard (1988)                                   Action|Crime|Thriller\n",
        "Breakfast Club, The (1985)                        Comedy|Drama        \n",
        "Fifth Element, The (1997)                         Action|Adventure|Comedy|Sci-Fi\n",
        "Aliens (1986)                                     Action|Adventure|Horror|Sci-Fi\n",
        "Mars Attacks! (1996)                              Action|Comedy|Sci-Fi\n",
        "Sixth Sense, The (1999)                           Drama|Horror|Mystery\n",
        "Austin Powers: The Spy Who Shagged Me (1999)      Action|Adventure|Comedy\n",
        "2001: A Space Odyssey (1968)                      Adventure|Drama|Sci-Fi\n",
        "Terminator 2: Judgment Day (1991)                 Action|Sci-Fi       \n",
        "```    "
      ]
    },
    {
      "cell_type": "markdown",
      "metadata": {
        "id": "4tVQEbXDsTQr"
      },
      "source": [
        "## Find top 10 recommendations of movie titles and their genres from top 1 to top 10 for user 2\n",
        "\n",
        "- 사용자 2를 위한 상위 10개의 영화 제목과 해당 장르 추천을 찾아보세요.\n"
      ]
    },
    {
      "cell_type": "code",
      "execution_count": null,
      "metadata": {
        "id": "UVFKl-kfsTQr",
        "colab": {
          "base_uri": "https://localhost:8080/"
        },
        "outputId": "89d63c70-fbf1-4343-826b-c49c7f856e7a"
      },
      "outputs": [
        {
          "output_type": "stream",
          "name": "stdout",
          "text": [
            "Linux ef55de56e8da 6.1.85+ #1 SMP PREEMPT_DYNAMIC Sun Apr 28 14:29:16 UTC 2024 x86_64 x86_64 x86_64 GNU/Linux\n"
          ]
        }
      ],
      "source": [
        "!uname -a\n",
        "# YOUR CODE HERE. You may use as many code cells as you want.\n",
        "import pandas as pd\n",
        "import numpy as np\n",
        "from sklearn.metrics.pairwise import cosine_similarity\n",
        "\n",
        "class MovieRecommender:\n",
        "    def __init__(self, ratings_file, movies_file):\n",
        "        # CSV 파일을 데이터프레임으로 로드\n",
        "        self.ratings_data = pd.read_csv(ratings_file)\n",
        "        self.movies_data = pd.read_csv(movies_file)\n",
        "        self.user_item_matrix = None\n",
        "        self.similarity_matrix = None\n",
        "\n",
        "    def prepare_data(self):\n",
        "        # 사용자-아이템 행렬 생성\n",
        "        self.user_item_matrix = self.ratings_data.pivot_table(index='userId', columns='movieId', values='rating').fillna(0)\n",
        "        # 아이템 간 유사도 행렬 계산 (코사인 유사도)\n",
        "        self.similarity_matrix = cosine_similarity(self.user_item_matrix.T)\n",
        "        # 자기 자신과의 유사도를 0으로 설정\n",
        "        np.fill_diagonal(self.similarity_matrix, 0)\n",
        "\n",
        "    def get_recommendations(self, user_id, top_n=10, similarity_threshold=0.3):\n",
        "        user_ratings = self.user_item_matrix.loc[user_id].values\n",
        "        movie_id_to_index = {movie_id: idx for idx, movie_id in enumerate(self.user_item_matrix.columns)}\n",
        "        watched_movies = self.ratings_data[self.ratings_data['userId'] == user_id]['movieId'].values\n",
        "\n",
        "        # 유사도 점수 계산\n",
        "        scores = np.dot(user_ratings, self.similarity_matrix)\n",
        "        ranked_movie_indices = np.argsort(scores)[::-1]\n",
        "\n",
        "        recommendations = []\n",
        "        for idx in ranked_movie_indices:\n",
        "            movie_id = self.user_item_matrix.columns[idx]\n",
        "            similarity_score = self.similarity_matrix[idx].max()\n",
        "            if similarity_score >= similarity_threshold and movie_id not in watched_movies:\n",
        "                title = self.movies_data[self.movies_data['movieId'] == movie_id]['title'].values[0]\n",
        "                genres = self.movies_data[self.movies_data['movieId'] == movie_id]['genres'].values[0]\n",
        "                recommendations.append((movie_id, title, genres, similarity_score))\n",
        "                if len(recommendations) >= top_n:\n",
        "                    break\n",
        "\n",
        "        return recommendations\n",
        "\n",
        "    def predict_rating(self, user_id, movie_id):\n",
        "        user_ratings = self.user_item_matrix.loc[user_id]\n",
        "        item_similarities = self.similarity_matrix[self.user_item_matrix.columns.get_loc(movie_id)]\n",
        "        predicted_rating = item_similarities.dot(user_ratings) / np.abs(item_similarities).sum()\n",
        "        return predicted_rating\n",
        "\n",
        "    def display_recommendations(self, recommendations):\n",
        "        for idx, (movie_id, title, genres, score) in enumerate(recommendations, start=1):\n",
        "            predicted_rating = self.predict_rating(2, movie_id)  # 예측 평점을 계산 (여기서는 user_id=2로 가정)\n",
        "            print(f\"{title:40} {genres}\")"
      ]
    },
    {
      "cell_type": "code",
      "source": [
        "# 사용 예제\n",
        "ratings_file = '/content/ratings.csv'\n",
        "movies_file = '/content/movies.csv'"
      ],
      "metadata": {
        "id": "o-4pcxl1r95q"
      },
      "execution_count": null,
      "outputs": []
    },
    {
      "cell_type": "code",
      "source": [
        "# 추천 시스템 학습\n",
        "recommender = MovieRecommender(ratings_file, movies_file)\n",
        "recommender.prepare_data()"
      ],
      "metadata": {
        "id": "Ffwh0psCsEdZ"
      },
      "execution_count": null,
      "outputs": []
    },
    {
      "cell_type": "code",
      "source": [
        "# 사용자 2를 위한 추천 생성\n",
        "recommendations = recommender.get_recommendations(user_id=1, top_n=10)\n",
        "\n",
        "# 추천된 영화 제목과 장르를 출력\n",
        "recommender.display_recommendations(recommendations)"
      ],
      "metadata": {
        "id": "Cw9tWZRTsGJs",
        "colab": {
          "base_uri": "https://localhost:8080/"
        },
        "outputId": "89c48924-28e9-48d8-f9f3-a1ad183fc276"
      },
      "execution_count": null,
      "outputs": [
        {
          "output_type": "stream",
          "name": "stdout",
          "text": [
            "Ferris Bueller's Day Off (1986)          Comedy\n",
            "Die Hard (1988)                          Action|Crime|Thriller\n",
            "Breakfast Club, The (1985)               Comedy|Drama\n",
            "Fifth Element, The (1997)                Action|Adventure|Comedy|Sci-Fi\n",
            "Aliens (1986)                            Action|Adventure|Horror|Sci-Fi\n",
            "Mars Attacks! (1996)                     Action|Comedy|Sci-Fi\n",
            "Sixth Sense, The (1999)                  Drama|Horror|Mystery\n",
            "Austin Powers: The Spy Who Shagged Me (1999) Action|Adventure|Comedy\n",
            "2001: A Space Odyssey (1968)             Adventure|Drama|Sci-Fi\n",
            "Terminator 2: Judgment Day (1991)        Action|Sci-Fi\n"
          ]
        }
      ]
    },
    {
      "cell_type": "markdown",
      "metadata": {
        "id": "G8NpPAYEsTQr"
      },
      "source": [
        "## Ethics:\n",
        "If you cheat, you will get negatgive of the total points.\n",
        "If the homework total is 22 and you cheat, you get -22."
      ]
    },
    {
      "cell_type": "markdown",
      "metadata": {
        "id": "UessbB1ZsTQr"
      },
      "source": [
        "## What to submit\n",
        "\n",
        "- Run **all cells** after restarting the kernel\n",
        "- No late homeworks will be accepted (Google classroom will not accept late homework automatically\n",
        "- Your homework will be graded on the basis of correctness, performance, and programming skills"
      ]
    }
  ],
  "metadata": {
    "celltoolbar": "Slideshow",
    "hide_input": false,
    "kernelspec": {
      "display_name": "Python 3",
      "language": "python",
      "name": "python3"
    },
    "language_info": {
      "codemirror_mode": {
        "name": "ipython",
        "version": 3
      },
      "file_extension": ".py",
      "mimetype": "text/x-python",
      "name": "python",
      "nbconvert_exporter": "python",
      "pygments_lexer": "ipython3",
      "version": "3.8.8"
    },
    "varInspector": {
      "cols": {
        "lenName": 16,
        "lenType": 16,
        "lenVar": 40
      },
      "kernels_config": {
        "python": {
          "delete_cmd_postfix": "",
          "delete_cmd_prefix": "del ",
          "library": "var_list.py",
          "varRefreshCmd": "print(var_dic_list())"
        },
        "r": {
          "delete_cmd_postfix": ") ",
          "delete_cmd_prefix": "rm(",
          "library": "var_list.r",
          "varRefreshCmd": "cat(var_dic_list()) "
        }
      },
      "types_to_exclude": [
        "module",
        "function",
        "builtin_function_or_method",
        "instance",
        "_Feature"
      ],
      "window_display": false
    },
    "colab": {
      "provenance": [],
      "toc_visible": true
    }
  },
  "nbformat": 4,
  "nbformat_minor": 0
}