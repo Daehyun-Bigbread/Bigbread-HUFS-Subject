{
  "cells": [
    {
      "cell_type": "markdown",
      "metadata": {
        "id": "AgrdU1A7wnVO"
      },
      "source": [
        "# Homework 1. Frequent itemset"
      ]
    },
    {
      "cell_type": "markdown",
      "metadata": {
        "id": "Lcr9zFFLwnVR"
      },
      "source": [
        "***Double Click here to edit this cell***\n",
        "\n",
        "- Name: 김대현\n",
        "- Student ID: 202000449\n",
        "- Submission date: 24.03.20"
      ]
    },
    {
      "cell_type": "markdown",
      "metadata": {
        "id": "22MbpyfvwnVR"
      },
      "source": [
        "\n",
        "#### We want to practice the python skills in Chap 2 Crash course\n",
        "#### *Remark. Do not use numpy, pandas, sklearn, or any module implementing the solution directly. If you use them, you get 0 point*"
      ]
    },
    {
      "cell_type": "markdown",
      "metadata": {
        "id": "OVAqEHnI2xt-"
      },
      "source": [
        "**You must run all cells in Google colab for this homework**"
      ]
    },
    {
      "cell_type": "markdown",
      "metadata": {
        "id": "hUXM9_EMwnVR"
      },
      "source": [
        "## Frequent itemset\n",
        "- ***Support*** is an indication of how frequently the itemset $X$ appears in the dataset $T$.\n",
        "- The support of X with respect to T is defined as the proportion of transactions t in the dataset which contains the itemset X.\n",
        "\n",
        "- ***Support***는 항목 집합 $X$가 데이터 집합 $T$에 표시되는 빈도를 나타냅니다.\n",
        "- T에 대한 X의 지원은 항목 집합 X를 포함하는 데이터 집합 내 트랜잭션 t의 비율로 정의됩니다.\n",
        "\n",
        "$$\n",
        "{\\displaystyle \\mathrm {supp} (X)={\\frac {|\\{t\\in T;X\\subseteq t\\}|}{|T|}}}\n",
        "$$\n",
        "\n",
        "- Frequent itemset is an itemset whose support $\\ge$ ***min_sup***.\n",
        "\n",
        "- - 빈발 항목 집합은 $\\ge$ ***min_sup***를 지원하는 항목 집합입니다."
      ]
    },
    {
      "cell_type": "markdown",
      "metadata": {
        "id": "vC08NclzwnVS"
      },
      "source": [
        "## Data set\n",
        "\n",
        "- Each line in the following can be imagined as a market basket, which contains items you buy."
      ]
    },
    {
      "cell_type": "code",
      "execution_count": null,
      "metadata": {
        "id": "Pz45w2XOwnVS"
      },
      "outputs": [],
      "source": [
        "# DO NOT EDIT THIS CELL\n",
        "data_str = 'apple,beer,rice,chicken\\n'\n",
        "data_str += 'apple,beer,rice\\n'\n",
        "data_str += 'apple,beer\\n'\n",
        "data_str += 'apple,mango\\n'\n",
        "data_str += 'milk,beer,rice,chicken\\n'\n",
        "data_str += 'milk,beer,rice\\n'\n",
        "data_str += 'milk,beer\\n'\n",
        "data_str += 'milk,mango'"
      ]
    },
    {
      "cell_type": "markdown",
      "metadata": {
        "id": "P_-cB5ljwnVT"
      },
      "source": [
        "## Problem 1 (5 pts)\n",
        "\n",
        "- Define a function ***record_gen*** generating a list of items each ***next***.\n",
        "- It must be a generator.\n",
        "- Use ***yield*** instead of ***return***\n",
        "\n",
        "- 함수 ***record_gen***를 정의하여 각 ***next*** 항목 목록을 생성합니다.\n",
        "- 발전기인가 보다.\n",
        "- ***수익률*** 대신 ***수익률***을 사용합니다"
      ]
    },
    {
      "cell_type": "code",
      "execution_count": null,
      "metadata": {
        "hide_input": false,
        "id": "oncki3USwnVT"
      },
      "outputs": [],
      "source": [
        "# YOUR CODE MUST BE HERE\n",
        "\n",
        "def gen_record(data_str):\n",
        "  item = data_str.strip().split('\\n')\n",
        "  for words in item:\n",
        "    yield words.split(',')"
      ]
    },
    {
      "cell_type": "code",
      "execution_count": null,
      "metadata": {
        "id": "kTco0OnMwnVT",
        "colab": {
          "base_uri": "https://localhost:8080/"
        },
        "outputId": "dddf3e24-802a-4453-f0f3-f4d08e5f2d6c"
      },
      "outputs": [
        {
          "output_type": "stream",
          "name": "stdout",
          "text": [
            "['apple', 'beer', 'chicken', 'rice']\n",
            "My output is correct\n"
          ]
        }
      ],
      "source": [
        "# DO NOT EDIT THIS CELL\n",
        "# RUN THIS CELL\n",
        "test = gen_record(data_str)\n",
        "result = sorted(next(test))\n",
        "print(result)\n",
        "expected = ['apple', 'beer', 'chicken', 'rice']\n",
        "if expected == result:\n",
        "    print('My output is correct')\n",
        "else:\n",
        "    print('My output is wrong')"
      ]
    },
    {
      "cell_type": "code",
      "execution_count": null,
      "metadata": {
        "id": "5ObjvsLIwnVT",
        "colab": {
          "base_uri": "https://localhost:8080/"
        },
        "outputId": "ef0069d4-8c89-4168-e45c-16062b902676"
      },
      "outputs": [
        {
          "output_type": "stream",
          "name": "stdout",
          "text": [
            "['apple', 'beer', 'rice']\n",
            "My output is correct\n"
          ]
        }
      ],
      "source": [
        "# DO NOT EDIT THIS CELL\n",
        "# RUN THIS CELL\n",
        "result = sorted(next(test))\n",
        "expected = ['apple', 'beer', 'rice']\n",
        "print(result)\n",
        "if expected == result:\n",
        "    print('My output is correct')\n",
        "else:\n",
        "    print('My output is wrong')"
      ]
    },
    {
      "cell_type": "markdown",
      "metadata": {
        "id": "uB9WNHQlwnVU"
      },
      "source": [
        "## Problem 2 (10 pts)\n",
        "\n",
        "- Define a function ***gen_frequent_1_itemset*** generating 1-itemset.\n",
        "- It must be a generator.\n",
        "- We want to find frequent 1-itemset (itemset containing only 1 item)\n",
        "- Use \"set, reduce, or map\" at least once\n",
        "- Your output must be a sorted list of items\n",
        "\n",
        "- 1-아이템 집합을 생성하는 함수 ***gen_frequent_1_itemset***를 정의합니다.\n",
        "- 발전기인가 보다.\n",
        "- 자주 사용하는 1개 품목 세트(1개 품목만 포함된 품목 세트)를 찾고 싶습니다\n",
        "- \"설정, 축소 또는 지도\"를 한 번 이상 사용합니다\n",
        "- 출력은 정렬된 항목 목록이어야 합니다"
      ]
    },
    {
      "cell_type": "code",
      "execution_count": null,
      "metadata": {
        "id": "SRp7nuJmwnVU"
      },
      "outputs": [],
      "source": [
        "# YOUR CODE MUST BE HERE\n",
        "from functools import reduce\n",
        "\n",
        "def gen_frequent_1_itemset(dataset, min_sup):\n",
        "    items = reduce(lambda x, y: x + y, dataset) # 하나의 리스트로 병합\n",
        "\n",
        "    # 빈도 계산\n",
        "    count = {}\n",
        "    for item in items:\n",
        "      if item in count:\n",
        "        count[item] += 1 # 같은 항목이 안에 있으면 count + 1\n",
        "      else:\n",
        "        count[item] = 1 # 같은 항목이 아니면 그냥 count는 1\n",
        "\n",
        "    # count dictionary 에서 지지도 값을 충족하는 항목만 필터링, 여기서 최소 지지도를 가진 항목만 포함시킴\n",
        "    threshold_item = set(filter(lambda x: count[x] / len(dataset) >= min_sup, count))\n",
        "\n",
        "    # 1-itemset 항목 정렬 및 하나하나씩 yield를 통해 반환\n",
        "    for item in sorted(threshold_item):\n",
        "        yield item"
      ]
    },
    {
      "cell_type": "markdown",
      "source": [
        "- reduce 함수를 사용하여 데이터셋(dataset)의 모든 항목을 하나의 리스트로 병합\n",
        "- count: 각 항목에 대한 빈도를 계산 및 병합한 리스트를 순회하면서 각 항목이 count 딕셔너리에 이미 존재하면 그 값에 1을 더하고, 존재하지 않으면 새 항목으로 추가 및 1로 설정\n",
        "\n",
        "- count1: 각 항목의 빈도, 데이터셋의 길이로 나누어 지지도 계산, 만약 이 값이 min_support 이상인 항목만 필터링하여 threshold_item 집합을 생성\n",
        "\n",
        "- threshold_item 집합에 포함된 항목을 정렬하여, 각 항목을 순차적으로 반환"
      ],
      "metadata": {
        "id": "uD3c7XDkeV72"
      }
    },
    {
      "cell_type": "markdown",
      "source": [],
      "metadata": {
        "id": "Hlfm-38cbwJ9"
      }
    },
    {
      "cell_type": "code",
      "execution_count": null,
      "metadata": {
        "id": "iMyGgd3YwnVU",
        "scrolled": true,
        "colab": {
          "base_uri": "https://localhost:8080/"
        },
        "outputId": "57d533e3-96af-4c75-c419-3118316636b8"
      },
      "outputs": [
        {
          "output_type": "stream",
          "name": "stdout",
          "text": [
            "['apple', 'beer', 'milk', 'rice']\n",
            "My output is correct\n"
          ]
        }
      ],
      "source": [
        "# DO NOT EDIT THIS CELL\n",
        "# RUN THIS CELL\n",
        "\n",
        "dataset = list(gen_record(data_str))\n",
        "expected = ['apple', 'beer', 'milk', 'rice']\n",
        "result = sorted(list(gen_frequent_1_itemset(dataset, 0.5)))\n",
        "print(result)\n",
        "if expected == result:\n",
        "    print('My output is correct')\n",
        "else:\n",
        "    print('My output is wrong')"
      ]
    },
    {
      "cell_type": "code",
      "execution_count": null,
      "metadata": {
        "id": "W8Wu7HQ-wnVU",
        "colab": {
          "base_uri": "https://localhost:8080/"
        },
        "outputId": "b81022ad-e54a-437d-d639-ed1a6d63cb01"
      },
      "outputs": [
        {
          "output_type": "stream",
          "name": "stdout",
          "text": [
            "['beer']\n",
            "My output is correct\n"
          ]
        }
      ],
      "source": [
        "# DO NOT EDIT THIS CELL\n",
        "# RUN THIS CELL\n",
        "\n",
        "dataset = list(gen_record(data_str))\n",
        "expected = ['beer']\n",
        "result = sorted(list(gen_frequent_1_itemset(dataset, 0.7)))\n",
        "print(result)\n",
        "if expected == result:\n",
        "    print('My output is correct')\n",
        "else:\n",
        "    print('My output is wrong')"
      ]
    },
    {
      "cell_type": "code",
      "execution_count": null,
      "metadata": {
        "id": "iMCFexsNwnVU",
        "colab": {
          "base_uri": "https://localhost:8080/"
        },
        "outputId": "0ac05b04-66af-48d8-fbf2-d48b864d33f8"
      },
      "outputs": [
        {
          "output_type": "stream",
          "name": "stdout",
          "text": [
            "['apple', 'beer', 'chicken', 'mango', 'milk', 'rice']\n",
            "My output is correct\n"
          ]
        }
      ],
      "source": [
        "# DO NOT EDIT THIS CELL\n",
        "# RUN THIS CELL\n",
        "\n",
        "dataset = list(gen_record(data_str))\n",
        "expected = ['apple', 'beer', 'chicken', 'mango', 'milk', 'rice']\n",
        "result = sorted(list(gen_frequent_1_itemset(dataset, 0.2)))\n",
        "print(result)\n",
        "if expected == result:\n",
        "    print('My output is correct')\n",
        "else:\n",
        "    print('My output is wrong')"
      ]
    },
    {
      "cell_type": "markdown",
      "metadata": {
        "id": "sA31D598wnVU"
      },
      "source": [
        "## Problem 3 (10 pts)\n",
        "\n",
        "- Define a function ***gen_frequent_2_itemset*** generating 2-itemset.\n",
        "- It must be a generator.\n",
        "- We want to find frequent 2-itemset (itemset containing only 2 items)\n",
        "- Use \"set, reduce, or map\" at least once\n",
        "- Your output must be a sorted list of sorted 2-tuple\n",
        "\n",
        "- 2개의 항목 집합을 생성하는 함수 ***gen_frequent_2_itemset***를 정의합니다.\n",
        "- 발전기인가 보다.\n",
        "- 우리는 자주 2개의 아이템 세트를 찾고 싶습니다 (2개의 아이템만 포함된 아이템 세트)\n",
        "- \"설정, 축소 또는 지도\"를 한 번 이상 사용합니다\n",
        "- 출력은 정렬된 2-튜플의 정렬된 목록이어야 합니다"
      ]
    },
    {
      "cell_type": "code",
      "execution_count": null,
      "metadata": {
        "id": "XkTcG_mnwnVV"
      },
      "outputs": [],
      "source": [
        "# YOUR CODE MUST BE HERE\n",
        "from functools import reduce\n",
        "\n",
        "def gen_frequent_2_itemset(dataset, min_sup):\n",
        "    items = reduce(lambda x, y: x + y, dataset) # 하나의 리스트로 병합\n",
        "\n",
        "    # 1-itemset 빈도 계산\n",
        "    count1 = {}\n",
        "    for item1 in items:\n",
        "      if item1 in count1:\n",
        "        count1[item1] += 1 # 같은 항목이 안에 있으면 count + 1\n",
        "      else:\n",
        "        count1[item1] = 1 # 같은 항목이 아니면 그냥 count는 1\n",
        "\n",
        "    # count1 dictionary 에서 지지도 값을 충족하는 항목만 필터링, 최소 지지도를 가진 항목만 포함시킴\n",
        "    threshold_item = set(filter(lambda x: count1[x] / len(dataset) >= min_sup, count1))\n",
        "\n",
        "    # 2-itemset 빈도 계산\n",
        "    count2 = {}\n",
        "    for transaction in dataset:\n",
        "\n",
        "      # 여기서 transaction에서 지지도값을 충족하는 항목만 필터링\n",
        "      threshold_filter = sorted(set(transaction) & threshold_item)\n",
        "\n",
        "      # 2-itemset 빈도 계산\n",
        "      for i in range(len(threshold_filter)):\n",
        "        for j in range(i+1, len(threshold_filter)):\n",
        "          item2 = (threshold_filter[i],threshold_filter[j])\n",
        "          if item2 in count2:\n",
        "            count2[item2] += 1 # 같은 항목이 안에 있으면 count + 1\n",
        "          else:\n",
        "            count2[item2] = 1 # 같은 항목이 아니면 그냥 count는 1\n",
        "\n",
        "\n",
        "    # 2-itemset 빈도가 최소 지지도를 충족 하는지 확인하고 반환\n",
        "    for item2, count in count2.items():\n",
        "        if count / len(dataset) >= min_sup:\n",
        "            yield item2"
      ]
    },
    {
      "cell_type": "markdown",
      "source": [
        "- reduce를 사용하여 dataset의 항목들을 list로 병합\n",
        "- items 리스트를 순회하여 각 항목 빈도 계산, dictionary를 사용해서 항목(데이터셋의 단어)을 Key, 항목의 빈도를 value로 저장\n",
        "- count1: 각 항목의 빈도, 데이터셋의 길이로 나누어 지지도 계산, 만약 이 값이 min_support 이상인 항목만 필터링하여 threshold_item 집합을 생성\n",
        "- 2-itemset: dataset의 트랜잭션(transaction)에 대해 최소 지지도를 충족하는 항목만을 포함하는 threshold_filter 리스트 생성\n",
        "- count2: 각 항목의 빈도, 데이터셋의 길이로 나누어 지지도 계산, 만약 이 값이 min_support 이상인 2-itemset에 해당하는 항목 출력"
      ],
      "metadata": {
        "id": "9Y5fYTuSbxZW"
      }
    },
    {
      "cell_type": "code",
      "execution_count": null,
      "metadata": {
        "id": "91vd5pC8wnVV",
        "colab": {
          "base_uri": "https://localhost:8080/"
        },
        "outputId": "fc908c8f-4636-4085-e78e-857abe31335b"
      },
      "outputs": [
        {
          "output_type": "stream",
          "name": "stdout",
          "text": [
            "[('beer', 'rice')]\n",
            "My output is correct\n"
          ]
        }
      ],
      "source": [
        "# DO NOT EDIT THIS CELL\n",
        "# RUN THIS CELL\n",
        "\n",
        "dataset = list(gen_record(data_str))\n",
        "expected = [('beer', 'rice')]\n",
        "result = sorted(list(gen_frequent_2_itemset(dataset, 0.5)))\n",
        "print(result)\n",
        "if expected == result:\n",
        "    print('My output is correct')\n",
        "else:\n",
        "    print('My output is wrong')"
      ]
    },
    {
      "cell_type": "code",
      "execution_count": null,
      "metadata": {
        "id": "5G5GfgX4wnVV",
        "colab": {
          "base_uri": "https://localhost:8080/"
        },
        "outputId": "38f6b055-51e4-413d-d917-e62323d201e9"
      },
      "outputs": [
        {
          "output_type": "stream",
          "name": "stdout",
          "text": [
            "[('apple', 'beer'), ('beer', 'milk'), ('beer', 'rice')]\n",
            "My output is correct\n"
          ]
        }
      ],
      "source": [
        "# DO NOT EDIT THIS CELL\n",
        "# RUN THIS CELL\n",
        "\n",
        "dataset = list(gen_record(data_str))\n",
        "expected = [('apple', 'beer'),\n",
        "            ('beer', 'milk'),\n",
        "            ('beer', 'rice')]\n",
        "result = sorted(list(gen_frequent_2_itemset(dataset, 0.3)))\n",
        "print(result)\n",
        "if expected == result:\n",
        "    print('My output is correct')\n",
        "else:\n",
        "    print('My output is wrong')"
      ]
    },
    {
      "cell_type": "code",
      "execution_count": null,
      "metadata": {
        "id": "72y0jtoXwnVV",
        "colab": {
          "base_uri": "https://localhost:8080/"
        },
        "outputId": "b1a6230c-05bb-4a6d-c203-0f8ff02d8456"
      },
      "outputs": [
        {
          "output_type": "stream",
          "name": "stdout",
          "text": [
            "[('apple', 'beer'), ('apple', 'rice'), ('beer', 'chicken'), ('beer', 'milk'), ('beer', 'rice'), ('chicken', 'rice'), ('milk', 'rice')]\n",
            "My output is correct\n"
          ]
        }
      ],
      "source": [
        "# DO NOT EDIT THIS CELL\n",
        "# RUN THIS CELL\n",
        "\n",
        "dataset = list(gen_record(data_str))\n",
        "expected = [('apple', 'beer'),\n",
        "            ('apple', 'rice'),\n",
        "            ('beer', 'chicken'),\n",
        "            ('beer', 'milk'),\n",
        "            ('beer', 'rice'),\n",
        "            ('chicken', 'rice'),\n",
        "            ('milk', 'rice')]\n",
        "result = sorted(list(gen_frequent_2_itemset(dataset, 0.2)))\n",
        "print(result)\n",
        "if expected == result:\n",
        "    print('My output is correct')\n",
        "else:\n",
        "    print('My output is wrong')"
      ]
    },
    {
      "cell_type": "markdown",
      "metadata": {
        "id": "NNsR-bCXwnVV"
      },
      "source": [
        "## Problem 4 (10 pts)\n",
        "\n",
        "- Define a function ***gen_frequent_3_itemset*** generating 3-itemset.\n",
        "- It must be a generator.\n",
        "- We want to find frequent 3-itemset (itemset containing only 3 items)\n",
        "- Use \"set, reduce, or map\" at least once\n",
        "- Your output must be a sorted list of sorted 3-tuple\n",
        "\n",
        "- 발전기인가 보다.\n",
        "- 자주 사용하는 3품목 세트(3품목만 포함된 품목 세트)를 찾고 싶습니다\n",
        "- \"설정, 축소 또는 지도\"를 한 번 이상 사용합니다\n",
        "- 출력은 정렬된 3-튜플의 정렬된 목록이어야 합니다"
      ]
    },
    {
      "cell_type": "code",
      "execution_count": null,
      "metadata": {
        "id": "lapkUo1mwnVV"
      },
      "outputs": [],
      "source": [
        "# YOUR CODE MUST BE HERE\n",
        "from functools import reduce\n",
        "\n",
        "def gen_frequent_3_itemset(dataset, min_sup):\n",
        "    items = reduce(lambda x, y: x + y, dataset) # 하나의 리스트로 병합\n",
        "\n",
        "    # 1-itemset 빈도 계산\n",
        "    count1 = {}\n",
        "    for item1 in items:\n",
        "      if item1 in count1:\n",
        "        count1[item1] += 1 # 같은 항목이 안에 있으면 count + 1\n",
        "      else:\n",
        "        count1[item1] = 1 # 같은 항목이 아니면 그냥 count는 1\n",
        "\n",
        "    # count1 dictionary 에서 지지도 값을 충족하는 항목만 필터링, 최소 지지도를 가진 항목만 포함시킴\n",
        "    threshold_item = set(filter(lambda x: count1[x] / len(dataset) >= min_sup, count1))\n",
        "\n",
        "    # 3-itemset 빈도 계산\n",
        "    count3 = {}\n",
        "    for transaction in dataset:\n",
        "\n",
        "      # 여기서 transaction에서 지지도값을 충족하는 항목만 필터링\n",
        "      threshold_filter = sorted(set(transaction) & threshold_item)\n",
        "\n",
        "      # 3-itemset 빈도 계산\n",
        "      for i in range(len(threshold_filter)):\n",
        "        for j in range(i+1, len(threshold_filter)):\n",
        "          for k in range(j+1, len(threshold_filter)):\n",
        "            item3 = (threshold_filter[i],threshold_filter[j],threshold_filter[k])\n",
        "            if item3 in count3:\n",
        "              count3[item3] += 1 # 같은 항목이 안에 있으면 count + 1\n",
        "            else:\n",
        "              count3[item3] = 1 # 같은 항목이 아니면 그냥 count는 1\n",
        "\n",
        "\n",
        "    # 3-itemset 빈도가 최소 지지도를 충족 하는지 확인하고 반환\n",
        "    for item3, count in count3.items():\n",
        "        if count / len(dataset) >= min_sup:\n",
        "            yield item3"
      ]
    },
    {
      "cell_type": "markdown",
      "source": [
        "- reduce를 사용하여 dataset의 항목들을 list로 병합\n",
        "- items 리스트를 순회하여 각 항목 빈도 계산, dictionary를 사용해서 항목(데이터셋의 단어)을 Key, 항목의 빈도를 value로 저장\n",
        "- count1: 각 항목의 빈도, 데이터셋의 길이로 나누어 지지도 계산, 만약 이 값이 min_support 이상인 항목만 필터링하여 threshold_item 집합을 생성\n",
        "- 3-itemset: dataset의 트랜잭션(transaction)에 대해 최소 지지도를 충족하는 항목만을 포함하는 threshold_filter 리스트 생성\n",
        "- count3: 각 항목의 빈도, 데이터셋의 길이로 나누어 지지도 계산, 만약 이 값이 min_support 이상인 3-itemset에 해당하는 항목 출력"
      ],
      "metadata": {
        "id": "0362tbmvhtYq"
      }
    },
    {
      "cell_type": "code",
      "execution_count": null,
      "metadata": {
        "id": "4CKV2llDwnVV",
        "colab": {
          "base_uri": "https://localhost:8080/"
        },
        "outputId": "914a29ec-e165-4168-98f1-f32eb72cdf6a"
      },
      "outputs": [
        {
          "output_type": "stream",
          "name": "stdout",
          "text": [
            "[('apple', 'beer', 'rice'), ('beer', 'chicken', 'rice'), ('beer', 'milk', 'rice')]\n",
            "My output is correct\n"
          ]
        }
      ],
      "source": [
        "# DO NOT EDIT THIS CELL\n",
        "# RUN THIS CELL\n",
        "\n",
        "dataset = list(gen_record(data_str))\n",
        "expected = [('apple', 'beer', 'rice'),\n",
        "            ('beer', 'chicken', 'rice'),\n",
        "            ('beer', 'milk', 'rice')]\n",
        "result = sorted(list(gen_frequent_3_itemset(dataset, 0.25)))\n",
        "print(result)\n",
        "if expected == result:\n",
        "    print('My output is correct')\n",
        "else:\n",
        "    print('My output is wrong')"
      ]
    },
    {
      "cell_type": "code",
      "execution_count": null,
      "metadata": {
        "id": "x9vW_BpywnVV",
        "colab": {
          "base_uri": "https://localhost:8080/"
        },
        "outputId": "d1bc24ed-b5fd-4e9d-9495-25fb4f8b027a"
      },
      "outputs": [
        {
          "output_type": "stream",
          "name": "stdout",
          "text": [
            "[('apple', 'beer', 'rice'), ('beer', 'chicken', 'rice'), ('beer', 'milk', 'rice')]\n",
            "My output is correct\n"
          ]
        }
      ],
      "source": [
        "# DO NOT EDIT THIS CELL\n",
        "# RUN THIS CELL\n",
        "\n",
        "dataset = list(gen_record(data_str))\n",
        "expected = [('apple', 'beer', 'chicken'),\n",
        "            ('apple', 'beer', 'rice'),\n",
        "            ('apple', 'chicken', 'rice'),\n",
        "            ('beer', 'chicken', 'milk'),\n",
        "            ('beer', 'chicken', 'rice'),\n",
        "            ('beer', 'milk', 'rice'),\n",
        "            ('chicken', 'milk', 'rice')]\n",
        "print(result)\n",
        "result = sorted(list(gen_frequent_3_itemset(dataset, 0.1)))\n",
        "if expected == result:\n",
        "    print('My output is correct')\n",
        "else:\n",
        "    print('My output is wrong')"
      ]
    },
    {
      "cell_type": "code",
      "execution_count": null,
      "metadata": {
        "id": "JaffNmXcwnVV",
        "colab": {
          "base_uri": "https://localhost:8080/"
        },
        "outputId": "e3287fe0-82be-4dff-bff6-ccf3231fe175"
      },
      "outputs": [
        {
          "output_type": "stream",
          "name": "stdout",
          "text": [
            "[]\n",
            "My output is correct\n"
          ]
        }
      ],
      "source": [
        "# DO NOT EDIT THIS CELL\n",
        "# RUN THIS CELL\n",
        "\n",
        "dataset = list(gen_record(data_str))\n",
        "expected = []\n",
        "result = sorted(list(gen_frequent_3_itemset(dataset, 0.3)))\n",
        "print(result)\n",
        "if expected == result:\n",
        "    print('My output is correct')\n",
        "else:\n",
        "    print('My output is wrong')"
      ]
    },
    {
      "cell_type": "markdown",
      "metadata": {
        "id": "cpsf_fzhwnVW"
      },
      "source": [
        "## Problem 5 (30 pts)\n",
        "\n",
        "- We want to check the performance of your implementation\n",
        "- groceries_basket.csv must be in the folder of this notebook"
      ]
    },
    {
      "cell_type": "code",
      "execution_count": null,
      "metadata": {
        "id": "0rsI40e3wnVW"
      },
      "outputs": [],
      "source": [
        "import pandas as pd\n",
        "groceries = pd.read_csv('groceries_dataset.csv')"
      ]
    },
    {
      "cell_type": "code",
      "execution_count": null,
      "metadata": {
        "id": "hygPGjlgwnVW",
        "scrolled": false,
        "colab": {
          "base_uri": "https://localhost:8080/",
          "height": 206
        },
        "outputId": "eefa5811-0e20-4085-9e60-2cabd5377fd1"
      },
      "outputs": [
        {
          "output_type": "execute_result",
          "data": {
            "text/plain": [
              "   Member_number        Date   itemDescription\n",
              "0           1808  21-07-2015    tropical fruit\n",
              "1           2552  05-01-2015        whole milk\n",
              "2           2300  19-09-2015         pip fruit\n",
              "3           1187  12-12-2015  other vegetables\n",
              "4           3037  01-02-2015        whole milk"
            ],
            "text/html": [
              "\n",
              "  <div id=\"df-45c74fec-9a7d-4a4b-8d25-29c733aa14bd\" class=\"colab-df-container\">\n",
              "    <div>\n",
              "<style scoped>\n",
              "    .dataframe tbody tr th:only-of-type {\n",
              "        vertical-align: middle;\n",
              "    }\n",
              "\n",
              "    .dataframe tbody tr th {\n",
              "        vertical-align: top;\n",
              "    }\n",
              "\n",
              "    .dataframe thead th {\n",
              "        text-align: right;\n",
              "    }\n",
              "</style>\n",
              "<table border=\"1\" class=\"dataframe\">\n",
              "  <thead>\n",
              "    <tr style=\"text-align: right;\">\n",
              "      <th></th>\n",
              "      <th>Member_number</th>\n",
              "      <th>Date</th>\n",
              "      <th>itemDescription</th>\n",
              "    </tr>\n",
              "  </thead>\n",
              "  <tbody>\n",
              "    <tr>\n",
              "      <th>0</th>\n",
              "      <td>1808</td>\n",
              "      <td>21-07-2015</td>\n",
              "      <td>tropical fruit</td>\n",
              "    </tr>\n",
              "    <tr>\n",
              "      <th>1</th>\n",
              "      <td>2552</td>\n",
              "      <td>05-01-2015</td>\n",
              "      <td>whole milk</td>\n",
              "    </tr>\n",
              "    <tr>\n",
              "      <th>2</th>\n",
              "      <td>2300</td>\n",
              "      <td>19-09-2015</td>\n",
              "      <td>pip fruit</td>\n",
              "    </tr>\n",
              "    <tr>\n",
              "      <th>3</th>\n",
              "      <td>1187</td>\n",
              "      <td>12-12-2015</td>\n",
              "      <td>other vegetables</td>\n",
              "    </tr>\n",
              "    <tr>\n",
              "      <th>4</th>\n",
              "      <td>3037</td>\n",
              "      <td>01-02-2015</td>\n",
              "      <td>whole milk</td>\n",
              "    </tr>\n",
              "  </tbody>\n",
              "</table>\n",
              "</div>\n",
              "    <div class=\"colab-df-buttons\">\n",
              "\n",
              "  <div class=\"colab-df-container\">\n",
              "    <button class=\"colab-df-convert\" onclick=\"convertToInteractive('df-45c74fec-9a7d-4a4b-8d25-29c733aa14bd')\"\n",
              "            title=\"Convert this dataframe to an interactive table.\"\n",
              "            style=\"display:none;\">\n",
              "\n",
              "  <svg xmlns=\"http://www.w3.org/2000/svg\" height=\"24px\" viewBox=\"0 -960 960 960\">\n",
              "    <path d=\"M120-120v-720h720v720H120Zm60-500h600v-160H180v160Zm220 220h160v-160H400v160Zm0 220h160v-160H400v160ZM180-400h160v-160H180v160Zm440 0h160v-160H620v160ZM180-180h160v-160H180v160Zm440 0h160v-160H620v160Z\"/>\n",
              "  </svg>\n",
              "    </button>\n",
              "\n",
              "  <style>\n",
              "    .colab-df-container {\n",
              "      display:flex;\n",
              "      gap: 12px;\n",
              "    }\n",
              "\n",
              "    .colab-df-convert {\n",
              "      background-color: #E8F0FE;\n",
              "      border: none;\n",
              "      border-radius: 50%;\n",
              "      cursor: pointer;\n",
              "      display: none;\n",
              "      fill: #1967D2;\n",
              "      height: 32px;\n",
              "      padding: 0 0 0 0;\n",
              "      width: 32px;\n",
              "    }\n",
              "\n",
              "    .colab-df-convert:hover {\n",
              "      background-color: #E2EBFA;\n",
              "      box-shadow: 0px 1px 2px rgba(60, 64, 67, 0.3), 0px 1px 3px 1px rgba(60, 64, 67, 0.15);\n",
              "      fill: #174EA6;\n",
              "    }\n",
              "\n",
              "    .colab-df-buttons div {\n",
              "      margin-bottom: 4px;\n",
              "    }\n",
              "\n",
              "    [theme=dark] .colab-df-convert {\n",
              "      background-color: #3B4455;\n",
              "      fill: #D2E3FC;\n",
              "    }\n",
              "\n",
              "    [theme=dark] .colab-df-convert:hover {\n",
              "      background-color: #434B5C;\n",
              "      box-shadow: 0px 1px 3px 1px rgba(0, 0, 0, 0.15);\n",
              "      filter: drop-shadow(0px 1px 2px rgba(0, 0, 0, 0.3));\n",
              "      fill: #FFFFFF;\n",
              "    }\n",
              "  </style>\n",
              "\n",
              "    <script>\n",
              "      const buttonEl =\n",
              "        document.querySelector('#df-45c74fec-9a7d-4a4b-8d25-29c733aa14bd button.colab-df-convert');\n",
              "      buttonEl.style.display =\n",
              "        google.colab.kernel.accessAllowed ? 'block' : 'none';\n",
              "\n",
              "      async function convertToInteractive(key) {\n",
              "        const element = document.querySelector('#df-45c74fec-9a7d-4a4b-8d25-29c733aa14bd');\n",
              "        const dataTable =\n",
              "          await google.colab.kernel.invokeFunction('convertToInteractive',\n",
              "                                                    [key], {});\n",
              "        if (!dataTable) return;\n",
              "\n",
              "        const docLinkHtml = 'Like what you see? Visit the ' +\n",
              "          '<a target=\"_blank\" href=https://colab.research.google.com/notebooks/data_table.ipynb>data table notebook</a>'\n",
              "          + ' to learn more about interactive tables.';\n",
              "        element.innerHTML = '';\n",
              "        dataTable['output_type'] = 'display_data';\n",
              "        await google.colab.output.renderOutput(dataTable, element);\n",
              "        const docLink = document.createElement('div');\n",
              "        docLink.innerHTML = docLinkHtml;\n",
              "        element.appendChild(docLink);\n",
              "      }\n",
              "    </script>\n",
              "  </div>\n",
              "\n",
              "\n",
              "<div id=\"df-58b5fd04-c50c-41c8-9f09-4d25a9d360bd\">\n",
              "  <button class=\"colab-df-quickchart\" onclick=\"quickchart('df-58b5fd04-c50c-41c8-9f09-4d25a9d360bd')\"\n",
              "            title=\"Suggest charts\"\n",
              "            style=\"display:none;\">\n",
              "\n",
              "<svg xmlns=\"http://www.w3.org/2000/svg\" height=\"24px\"viewBox=\"0 0 24 24\"\n",
              "     width=\"24px\">\n",
              "    <g>\n",
              "        <path d=\"M19 3H5c-1.1 0-2 .9-2 2v14c0 1.1.9 2 2 2h14c1.1 0 2-.9 2-2V5c0-1.1-.9-2-2-2zM9 17H7v-7h2v7zm4 0h-2V7h2v10zm4 0h-2v-4h2v4z\"/>\n",
              "    </g>\n",
              "</svg>\n",
              "  </button>\n",
              "\n",
              "<style>\n",
              "  .colab-df-quickchart {\n",
              "      --bg-color: #E8F0FE;\n",
              "      --fill-color: #1967D2;\n",
              "      --hover-bg-color: #E2EBFA;\n",
              "      --hover-fill-color: #174EA6;\n",
              "      --disabled-fill-color: #AAA;\n",
              "      --disabled-bg-color: #DDD;\n",
              "  }\n",
              "\n",
              "  [theme=dark] .colab-df-quickchart {\n",
              "      --bg-color: #3B4455;\n",
              "      --fill-color: #D2E3FC;\n",
              "      --hover-bg-color: #434B5C;\n",
              "      --hover-fill-color: #FFFFFF;\n",
              "      --disabled-bg-color: #3B4455;\n",
              "      --disabled-fill-color: #666;\n",
              "  }\n",
              "\n",
              "  .colab-df-quickchart {\n",
              "    background-color: var(--bg-color);\n",
              "    border: none;\n",
              "    border-radius: 50%;\n",
              "    cursor: pointer;\n",
              "    display: none;\n",
              "    fill: var(--fill-color);\n",
              "    height: 32px;\n",
              "    padding: 0;\n",
              "    width: 32px;\n",
              "  }\n",
              "\n",
              "  .colab-df-quickchart:hover {\n",
              "    background-color: var(--hover-bg-color);\n",
              "    box-shadow: 0 1px 2px rgba(60, 64, 67, 0.3), 0 1px 3px 1px rgba(60, 64, 67, 0.15);\n",
              "    fill: var(--button-hover-fill-color);\n",
              "  }\n",
              "\n",
              "  .colab-df-quickchart-complete:disabled,\n",
              "  .colab-df-quickchart-complete:disabled:hover {\n",
              "    background-color: var(--disabled-bg-color);\n",
              "    fill: var(--disabled-fill-color);\n",
              "    box-shadow: none;\n",
              "  }\n",
              "\n",
              "  .colab-df-spinner {\n",
              "    border: 2px solid var(--fill-color);\n",
              "    border-color: transparent;\n",
              "    border-bottom-color: var(--fill-color);\n",
              "    animation:\n",
              "      spin 1s steps(1) infinite;\n",
              "  }\n",
              "\n",
              "  @keyframes spin {\n",
              "    0% {\n",
              "      border-color: transparent;\n",
              "      border-bottom-color: var(--fill-color);\n",
              "      border-left-color: var(--fill-color);\n",
              "    }\n",
              "    20% {\n",
              "      border-color: transparent;\n",
              "      border-left-color: var(--fill-color);\n",
              "      border-top-color: var(--fill-color);\n",
              "    }\n",
              "    30% {\n",
              "      border-color: transparent;\n",
              "      border-left-color: var(--fill-color);\n",
              "      border-top-color: var(--fill-color);\n",
              "      border-right-color: var(--fill-color);\n",
              "    }\n",
              "    40% {\n",
              "      border-color: transparent;\n",
              "      border-right-color: var(--fill-color);\n",
              "      border-top-color: var(--fill-color);\n",
              "    }\n",
              "    60% {\n",
              "      border-color: transparent;\n",
              "      border-right-color: var(--fill-color);\n",
              "    }\n",
              "    80% {\n",
              "      border-color: transparent;\n",
              "      border-right-color: var(--fill-color);\n",
              "      border-bottom-color: var(--fill-color);\n",
              "    }\n",
              "    90% {\n",
              "      border-color: transparent;\n",
              "      border-bottom-color: var(--fill-color);\n",
              "    }\n",
              "  }\n",
              "</style>\n",
              "\n",
              "  <script>\n",
              "    async function quickchart(key) {\n",
              "      const quickchartButtonEl =\n",
              "        document.querySelector('#' + key + ' button');\n",
              "      quickchartButtonEl.disabled = true;  // To prevent multiple clicks.\n",
              "      quickchartButtonEl.classList.add('colab-df-spinner');\n",
              "      try {\n",
              "        const charts = await google.colab.kernel.invokeFunction(\n",
              "            'suggestCharts', [key], {});\n",
              "      } catch (error) {\n",
              "        console.error('Error during call to suggestCharts:', error);\n",
              "      }\n",
              "      quickchartButtonEl.classList.remove('colab-df-spinner');\n",
              "      quickchartButtonEl.classList.add('colab-df-quickchart-complete');\n",
              "    }\n",
              "    (() => {\n",
              "      let quickchartButtonEl =\n",
              "        document.querySelector('#df-58b5fd04-c50c-41c8-9f09-4d25a9d360bd button');\n",
              "      quickchartButtonEl.style.display =\n",
              "        google.colab.kernel.accessAllowed ? 'block' : 'none';\n",
              "    })();\n",
              "  </script>\n",
              "</div>\n",
              "    </div>\n",
              "  </div>\n"
            ],
            "application/vnd.google.colaboratory.intrinsic+json": {
              "type": "dataframe",
              "variable_name": "groceries",
              "summary": "{\n  \"name\": \"groceries\",\n  \"rows\": 38765,\n  \"fields\": [\n    {\n      \"column\": \"Member_number\",\n      \"properties\": {\n        \"dtype\": \"number\",\n        \"std\": 1153,\n        \"min\": 1000,\n        \"max\": 5000,\n        \"num_unique_values\": 3898,\n        \"samples\": [\n          3785,\n          1384,\n          3330\n        ],\n        \"semantic_type\": \"\",\n        \"description\": \"\"\n      }\n    },\n    {\n      \"column\": \"Date\",\n      \"properties\": {\n        \"dtype\": \"object\",\n        \"num_unique_values\": 728,\n        \"samples\": [\n          \"19-07-2015\",\n          \"28-03-2015\",\n          \"29-07-2015\"\n        ],\n        \"semantic_type\": \"\",\n        \"description\": \"\"\n      }\n    },\n    {\n      \"column\": \"itemDescription\",\n      \"properties\": {\n        \"dtype\": \"category\",\n        \"num_unique_values\": 167,\n        \"samples\": [\n          \"cookware\",\n          \"canned fruit\",\n          \"specialty cheese\"\n        ],\n        \"semantic_type\": \"\",\n        \"description\": \"\"\n      }\n    }\n  ]\n}"
            }
          },
          "metadata": {},
          "execution_count": 18
        }
      ],
      "source": [
        "groceries.head()"
      ]
    },
    {
      "cell_type": "code",
      "execution_count": null,
      "metadata": {
        "id": "QSr6ig8bwnVW",
        "colab": {
          "base_uri": "https://localhost:8080/"
        },
        "outputId": "3e06cfa3-bb7b-46a6-da37-6c2c35c66300"
      },
      "outputs": [
        {
          "output_type": "execute_result",
          "data": {
            "text/plain": [
              "(38765, 3)"
            ]
          },
          "metadata": {},
          "execution_count": 19
        }
      ],
      "source": [
        "groceries.shape"
      ]
    },
    {
      "cell_type": "code",
      "execution_count": null,
      "metadata": {
        "id": "Nx6_4xvAwnVW",
        "colab": {
          "base_uri": "https://localhost:8080/",
          "height": 363
        },
        "outputId": "1a9bd6ba-1dc5-4622-87e0-06684936ca46"
      },
      "outputs": [
        {
          "output_type": "execute_result",
          "data": {
            "text/plain": [
              "   Transaction              Item\n",
              "0         1808    tropical fruit\n",
              "1         2552        whole milk\n",
              "2         2300         pip fruit\n",
              "3         1187  other vegetables\n",
              "4         3037        whole milk\n",
              "5         4941        rolls/buns\n",
              "6         4501  other vegetables\n",
              "7         3803        pot plants\n",
              "8         2762        whole milk\n",
              "9         4119    tropical fruit"
            ],
            "text/html": [
              "\n",
              "  <div id=\"df-3f398011-5c94-4052-9688-7b4396ddc65b\" class=\"colab-df-container\">\n",
              "    <div>\n",
              "<style scoped>\n",
              "    .dataframe tbody tr th:only-of-type {\n",
              "        vertical-align: middle;\n",
              "    }\n",
              "\n",
              "    .dataframe tbody tr th {\n",
              "        vertical-align: top;\n",
              "    }\n",
              "\n",
              "    .dataframe thead th {\n",
              "        text-align: right;\n",
              "    }\n",
              "</style>\n",
              "<table border=\"1\" class=\"dataframe\">\n",
              "  <thead>\n",
              "    <tr style=\"text-align: right;\">\n",
              "      <th></th>\n",
              "      <th>Transaction</th>\n",
              "      <th>Item</th>\n",
              "    </tr>\n",
              "  </thead>\n",
              "  <tbody>\n",
              "    <tr>\n",
              "      <th>0</th>\n",
              "      <td>1808</td>\n",
              "      <td>tropical fruit</td>\n",
              "    </tr>\n",
              "    <tr>\n",
              "      <th>1</th>\n",
              "      <td>2552</td>\n",
              "      <td>whole milk</td>\n",
              "    </tr>\n",
              "    <tr>\n",
              "      <th>2</th>\n",
              "      <td>2300</td>\n",
              "      <td>pip fruit</td>\n",
              "    </tr>\n",
              "    <tr>\n",
              "      <th>3</th>\n",
              "      <td>1187</td>\n",
              "      <td>other vegetables</td>\n",
              "    </tr>\n",
              "    <tr>\n",
              "      <th>4</th>\n",
              "      <td>3037</td>\n",
              "      <td>whole milk</td>\n",
              "    </tr>\n",
              "    <tr>\n",
              "      <th>5</th>\n",
              "      <td>4941</td>\n",
              "      <td>rolls/buns</td>\n",
              "    </tr>\n",
              "    <tr>\n",
              "      <th>6</th>\n",
              "      <td>4501</td>\n",
              "      <td>other vegetables</td>\n",
              "    </tr>\n",
              "    <tr>\n",
              "      <th>7</th>\n",
              "      <td>3803</td>\n",
              "      <td>pot plants</td>\n",
              "    </tr>\n",
              "    <tr>\n",
              "      <th>8</th>\n",
              "      <td>2762</td>\n",
              "      <td>whole milk</td>\n",
              "    </tr>\n",
              "    <tr>\n",
              "      <th>9</th>\n",
              "      <td>4119</td>\n",
              "      <td>tropical fruit</td>\n",
              "    </tr>\n",
              "  </tbody>\n",
              "</table>\n",
              "</div>\n",
              "    <div class=\"colab-df-buttons\">\n",
              "\n",
              "  <div class=\"colab-df-container\">\n",
              "    <button class=\"colab-df-convert\" onclick=\"convertToInteractive('df-3f398011-5c94-4052-9688-7b4396ddc65b')\"\n",
              "            title=\"Convert this dataframe to an interactive table.\"\n",
              "            style=\"display:none;\">\n",
              "\n",
              "  <svg xmlns=\"http://www.w3.org/2000/svg\" height=\"24px\" viewBox=\"0 -960 960 960\">\n",
              "    <path d=\"M120-120v-720h720v720H120Zm60-500h600v-160H180v160Zm220 220h160v-160H400v160Zm0 220h160v-160H400v160ZM180-400h160v-160H180v160Zm440 0h160v-160H620v160ZM180-180h160v-160H180v160Zm440 0h160v-160H620v160Z\"/>\n",
              "  </svg>\n",
              "    </button>\n",
              "\n",
              "  <style>\n",
              "    .colab-df-container {\n",
              "      display:flex;\n",
              "      gap: 12px;\n",
              "    }\n",
              "\n",
              "    .colab-df-convert {\n",
              "      background-color: #E8F0FE;\n",
              "      border: none;\n",
              "      border-radius: 50%;\n",
              "      cursor: pointer;\n",
              "      display: none;\n",
              "      fill: #1967D2;\n",
              "      height: 32px;\n",
              "      padding: 0 0 0 0;\n",
              "      width: 32px;\n",
              "    }\n",
              "\n",
              "    .colab-df-convert:hover {\n",
              "      background-color: #E2EBFA;\n",
              "      box-shadow: 0px 1px 2px rgba(60, 64, 67, 0.3), 0px 1px 3px 1px rgba(60, 64, 67, 0.15);\n",
              "      fill: #174EA6;\n",
              "    }\n",
              "\n",
              "    .colab-df-buttons div {\n",
              "      margin-bottom: 4px;\n",
              "    }\n",
              "\n",
              "    [theme=dark] .colab-df-convert {\n",
              "      background-color: #3B4455;\n",
              "      fill: #D2E3FC;\n",
              "    }\n",
              "\n",
              "    [theme=dark] .colab-df-convert:hover {\n",
              "      background-color: #434B5C;\n",
              "      box-shadow: 0px 1px 3px 1px rgba(0, 0, 0, 0.15);\n",
              "      filter: drop-shadow(0px 1px 2px rgba(0, 0, 0, 0.3));\n",
              "      fill: #FFFFFF;\n",
              "    }\n",
              "  </style>\n",
              "\n",
              "    <script>\n",
              "      const buttonEl =\n",
              "        document.querySelector('#df-3f398011-5c94-4052-9688-7b4396ddc65b button.colab-df-convert');\n",
              "      buttonEl.style.display =\n",
              "        google.colab.kernel.accessAllowed ? 'block' : 'none';\n",
              "\n",
              "      async function convertToInteractive(key) {\n",
              "        const element = document.querySelector('#df-3f398011-5c94-4052-9688-7b4396ddc65b');\n",
              "        const dataTable =\n",
              "          await google.colab.kernel.invokeFunction('convertToInteractive',\n",
              "                                                    [key], {});\n",
              "        if (!dataTable) return;\n",
              "\n",
              "        const docLinkHtml = 'Like what you see? Visit the ' +\n",
              "          '<a target=\"_blank\" href=https://colab.research.google.com/notebooks/data_table.ipynb>data table notebook</a>'\n",
              "          + ' to learn more about interactive tables.';\n",
              "        element.innerHTML = '';\n",
              "        dataTable['output_type'] = 'display_data';\n",
              "        await google.colab.output.renderOutput(dataTable, element);\n",
              "        const docLink = document.createElement('div');\n",
              "        docLink.innerHTML = docLinkHtml;\n",
              "        element.appendChild(docLink);\n",
              "      }\n",
              "    </script>\n",
              "  </div>\n",
              "\n",
              "\n",
              "<div id=\"df-4c007736-bd90-4968-9542-b2e75e841e56\">\n",
              "  <button class=\"colab-df-quickchart\" onclick=\"quickchart('df-4c007736-bd90-4968-9542-b2e75e841e56')\"\n",
              "            title=\"Suggest charts\"\n",
              "            style=\"display:none;\">\n",
              "\n",
              "<svg xmlns=\"http://www.w3.org/2000/svg\" height=\"24px\"viewBox=\"0 0 24 24\"\n",
              "     width=\"24px\">\n",
              "    <g>\n",
              "        <path d=\"M19 3H5c-1.1 0-2 .9-2 2v14c0 1.1.9 2 2 2h14c1.1 0 2-.9 2-2V5c0-1.1-.9-2-2-2zM9 17H7v-7h2v7zm4 0h-2V7h2v10zm4 0h-2v-4h2v4z\"/>\n",
              "    </g>\n",
              "</svg>\n",
              "  </button>\n",
              "\n",
              "<style>\n",
              "  .colab-df-quickchart {\n",
              "      --bg-color: #E8F0FE;\n",
              "      --fill-color: #1967D2;\n",
              "      --hover-bg-color: #E2EBFA;\n",
              "      --hover-fill-color: #174EA6;\n",
              "      --disabled-fill-color: #AAA;\n",
              "      --disabled-bg-color: #DDD;\n",
              "  }\n",
              "\n",
              "  [theme=dark] .colab-df-quickchart {\n",
              "      --bg-color: #3B4455;\n",
              "      --fill-color: #D2E3FC;\n",
              "      --hover-bg-color: #434B5C;\n",
              "      --hover-fill-color: #FFFFFF;\n",
              "      --disabled-bg-color: #3B4455;\n",
              "      --disabled-fill-color: #666;\n",
              "  }\n",
              "\n",
              "  .colab-df-quickchart {\n",
              "    background-color: var(--bg-color);\n",
              "    border: none;\n",
              "    border-radius: 50%;\n",
              "    cursor: pointer;\n",
              "    display: none;\n",
              "    fill: var(--fill-color);\n",
              "    height: 32px;\n",
              "    padding: 0;\n",
              "    width: 32px;\n",
              "  }\n",
              "\n",
              "  .colab-df-quickchart:hover {\n",
              "    background-color: var(--hover-bg-color);\n",
              "    box-shadow: 0 1px 2px rgba(60, 64, 67, 0.3), 0 1px 3px 1px rgba(60, 64, 67, 0.15);\n",
              "    fill: var(--button-hover-fill-color);\n",
              "  }\n",
              "\n",
              "  .colab-df-quickchart-complete:disabled,\n",
              "  .colab-df-quickchart-complete:disabled:hover {\n",
              "    background-color: var(--disabled-bg-color);\n",
              "    fill: var(--disabled-fill-color);\n",
              "    box-shadow: none;\n",
              "  }\n",
              "\n",
              "  .colab-df-spinner {\n",
              "    border: 2px solid var(--fill-color);\n",
              "    border-color: transparent;\n",
              "    border-bottom-color: var(--fill-color);\n",
              "    animation:\n",
              "      spin 1s steps(1) infinite;\n",
              "  }\n",
              "\n",
              "  @keyframes spin {\n",
              "    0% {\n",
              "      border-color: transparent;\n",
              "      border-bottom-color: var(--fill-color);\n",
              "      border-left-color: var(--fill-color);\n",
              "    }\n",
              "    20% {\n",
              "      border-color: transparent;\n",
              "      border-left-color: var(--fill-color);\n",
              "      border-top-color: var(--fill-color);\n",
              "    }\n",
              "    30% {\n",
              "      border-color: transparent;\n",
              "      border-left-color: var(--fill-color);\n",
              "      border-top-color: var(--fill-color);\n",
              "      border-right-color: var(--fill-color);\n",
              "    }\n",
              "    40% {\n",
              "      border-color: transparent;\n",
              "      border-right-color: var(--fill-color);\n",
              "      border-top-color: var(--fill-color);\n",
              "    }\n",
              "    60% {\n",
              "      border-color: transparent;\n",
              "      border-right-color: var(--fill-color);\n",
              "    }\n",
              "    80% {\n",
              "      border-color: transparent;\n",
              "      border-right-color: var(--fill-color);\n",
              "      border-bottom-color: var(--fill-color);\n",
              "    }\n",
              "    90% {\n",
              "      border-color: transparent;\n",
              "      border-bottom-color: var(--fill-color);\n",
              "    }\n",
              "  }\n",
              "</style>\n",
              "\n",
              "  <script>\n",
              "    async function quickchart(key) {\n",
              "      const quickchartButtonEl =\n",
              "        document.querySelector('#' + key + ' button');\n",
              "      quickchartButtonEl.disabled = true;  // To prevent multiple clicks.\n",
              "      quickchartButtonEl.classList.add('colab-df-spinner');\n",
              "      try {\n",
              "        const charts = await google.colab.kernel.invokeFunction(\n",
              "            'suggestCharts', [key], {});\n",
              "      } catch (error) {\n",
              "        console.error('Error during call to suggestCharts:', error);\n",
              "      }\n",
              "      quickchartButtonEl.classList.remove('colab-df-spinner');\n",
              "      quickchartButtonEl.classList.add('colab-df-quickchart-complete');\n",
              "    }\n",
              "    (() => {\n",
              "      let quickchartButtonEl =\n",
              "        document.querySelector('#df-4c007736-bd90-4968-9542-b2e75e841e56 button');\n",
              "      quickchartButtonEl.style.display =\n",
              "        google.colab.kernel.accessAllowed ? 'block' : 'none';\n",
              "    })();\n",
              "  </script>\n",
              "</div>\n",
              "    </div>\n",
              "  </div>\n"
            ],
            "application/vnd.google.colaboratory.intrinsic+json": {
              "type": "dataframe",
              "variable_name": "groceries_transactions",
              "summary": "{\n  \"name\": \"groceries_transactions\",\n  \"rows\": 38765,\n  \"fields\": [\n    {\n      \"column\": \"Transaction\",\n      \"properties\": {\n        \"dtype\": \"number\",\n        \"std\": 1153,\n        \"min\": 1000,\n        \"max\": 5000,\n        \"num_unique_values\": 3898,\n        \"samples\": [\n          3785,\n          1384,\n          3330\n        ],\n        \"semantic_type\": \"\",\n        \"description\": \"\"\n      }\n    },\n    {\n      \"column\": \"Item\",\n      \"properties\": {\n        \"dtype\": \"category\",\n        \"num_unique_values\": 167,\n        \"samples\": [\n          \"cookware\",\n          \"canned fruit\",\n          \"specialty cheese\"\n        ],\n        \"semantic_type\": \"\",\n        \"description\": \"\"\n      }\n    }\n  ]\n}"
            }
          },
          "metadata": {},
          "execution_count": 20
        }
      ],
      "source": [
        "groceries_transactions = groceries[[\"Member_number\", \"itemDescription\"]]\n",
        "groceries_transactions = groceries_transactions.rename(columns={'Member_number': 'Transaction', 'itemDescription': 'Item'})\n",
        "groceries_transactions.head(10)"
      ]
    },
    {
      "cell_type": "code",
      "execution_count": null,
      "metadata": {
        "id": "dZV94XQ8wnVW",
        "scrolled": true,
        "colab": {
          "base_uri": "https://localhost:8080/"
        },
        "outputId": "6ff98d3c-2b51-486c-e6aa-853f3a19ea0d"
      },
      "outputs": [
        {
          "output_type": "execute_result",
          "data": {
            "text/plain": [
              "[[1808, 'tropical fruit'],\n",
              " [2552, 'whole milk'],\n",
              " [2300, 'pip fruit'],\n",
              " [1187, 'other vegetables'],\n",
              " [3037, 'whole milk'],\n",
              " [4941, 'rolls/buns'],\n",
              " [4501, 'other vegetables'],\n",
              " [3803, 'pot plants'],\n",
              " [2762, 'whole milk'],\n",
              " [4119, 'tropical fruit']]"
            ]
          },
          "metadata": {},
          "execution_count": 21
        }
      ],
      "source": [
        "groceries_transactions_list = groceries_transactions.values.tolist()\n",
        "groceries_transactions_list[:10]"
      ]
    },
    {
      "cell_type": "code",
      "execution_count": null,
      "metadata": {
        "id": "CpsQ83vOwnVW",
        "colab": {
          "base_uri": "https://localhost:8080/"
        },
        "outputId": "793976e8-ef63-4ae0-a79d-ab14a4c9f1ea"
      },
      "outputs": [
        {
          "output_type": "execute_result",
          "data": {
            "text/plain": [
              "[[3995, 'other vegetables'],\n",
              " [4787, 'frozen vegetables'],\n",
              " [4115, 'other vegetables'],\n",
              " [1740, 'tropical fruit'],\n",
              " [3140, 'pasta'],\n",
              " [3753, 'rolls/buns'],\n",
              " [1346, 'sweet spreads'],\n",
              " [3495, 'pastry'],\n",
              " [4682, 'other vegetables'],\n",
              " [3181, 'pastry']]"
            ]
          },
          "metadata": {},
          "execution_count": 22
        }
      ],
      "source": [
        "import random\n",
        "random.shuffle(groceries_transactions_list)\n",
        "groceries_transactions_list[:10]"
      ]
    },
    {
      "cell_type": "markdown",
      "metadata": {
        "id": "wMTou2R1wnVW"
      },
      "source": [
        "### Transform groceries_transactions_list to groceries_dataset, which is a list of lists of items\n",
        "- grooty_transactions_list를 항목 목록인 grooty_dataset으로 변환합니다"
      ]
    },
    {
      "cell_type": "code",
      "execution_count": null,
      "metadata": {
        "id": "G67rSQX5wnVW"
      },
      "outputs": [],
      "source": [
        "# YOUR CODE MUST BE HERE\n",
        "from collections import defaultdict\n",
        "\n",
        "groceries_dataset = defaultdict(list)\n",
        "for tid, item in groceries_transactions_list:\n",
        "    groceries_dataset[tid].append(item)\n",
        "\n",
        "groceries_dataset = list(groceries_dataset.values())"
      ]
    },
    {
      "cell_type": "code",
      "execution_count": null,
      "metadata": {
        "id": "h0gfVFULwnVW",
        "colab": {
          "base_uri": "https://localhost:8080/"
        },
        "outputId": "063ba913-ad4a-4acc-8440-c8cc0a5cdae1"
      },
      "outputs": [
        {
          "output_type": "stream",
          "name": "stdout",
          "text": [
            "Linux 98bdc6c38579 6.1.58+ #1 SMP PREEMPT_DYNAMIC Sat Nov 18 15:31:17 UTC 2023 x86_64 x86_64 x86_64 GNU/Linux\n",
            "# of frequent_3_items in case of minsup = 0.05: 11\n",
            "[('bottled water', 'other vegetables', 'whole milk'), ('other vegetables', 'rolls/buns', 'soda'), ('other vegetables', 'rolls/buns', 'whole milk'), ('other vegetables', 'rolls/buns', 'yogurt'), ('other vegetables', 'sausage', 'whole milk'), ('other vegetables', 'soda', 'whole milk'), ('other vegetables', 'tropical fruit', 'whole milk'), ('other vegetables', 'whole milk', 'yogurt'), ('rolls/buns', 'soda', 'whole milk'), ('rolls/buns', 'whole milk', 'yogurt'), ('soda', 'whole milk', 'yogurt')]\n",
            "My output is correct\n",
            "Total time taken : 0.4217524528503418 seconds\n",
            "My point is 10\n"
          ]
        }
      ],
      "source": [
        "!uname -a\n",
        "# DO NOT EDIT THIS CELL\n",
        "# RUN THIS CELL\n",
        "\n",
        "import time\n",
        "min_sup=0.05\n",
        "start = time.time()\n",
        "result = sorted(list(gen_frequent_3_itemset(groceries_dataset, min_sup=min_sup)))\n",
        "end = time.time()\n",
        "\n",
        "print(f'# of frequent_3_items in case of minsup = {min_sup}: {len(result)}')\n",
        "\n",
        "expected = [('bottled water', 'other vegetables', 'whole milk'),\n",
        "            ('other vegetables', 'rolls/buns', 'soda'),\n",
        "            ('other vegetables', 'rolls/buns', 'whole milk'),\n",
        "            ('other vegetables', 'rolls/buns', 'yogurt'),\n",
        "            ('other vegetables', 'sausage', 'whole milk'),\n",
        "            ('other vegetables', 'soda', 'whole milk'),\n",
        "            ('other vegetables', 'tropical fruit', 'whole milk'),\n",
        "            ('other vegetables', 'whole milk', 'yogurt'),\n",
        "            ('rolls/buns', 'soda', 'whole milk'),\n",
        "            ('rolls/buns', 'whole milk', 'yogurt'),\n",
        "            ('soda', 'whole milk', 'yogurt')]\n",
        "\n",
        "print(result[:30])\n",
        "if expected == result[:30]:\n",
        "    print('My output is correct')\n",
        "else:\n",
        "    print('My output is wrong')\n",
        "\n",
        "lapse = end - start\n",
        "total = 10\n",
        "weight = 1.5\n",
        "grace = 12.0\n",
        "my_point = int(total / (weight ** (lapse // grace)))\n",
        "print(f'Total time taken : {lapse} seconds')\n",
        "print(f'My point is {my_point}')"
      ]
    },
    {
      "cell_type": "markdown",
      "metadata": {
        "id": "8ep6HWq_wnVW"
      },
      "source": [
        "**Your output must be like:**\n",
        "```\n",
        "# of frequent_3_items in case of minsup = 0.05: 11\n",
        "[('bottled water', 'other vegetables', 'whole milk'), ('other vegetables', 'rolls/buns', 'soda'), ('other vegetables', 'rolls/buns', 'whole milk'), ('other vegetables', 'rolls/buns', 'yogurt'), ('other vegetables', 'sausage', 'whole milk'), ('other vegetables', 'soda', 'whole milk'), ('other vegetables', 'tropical fruit', 'whole milk'), ('other vegetables', 'whole milk', 'yogurt'), ('rolls/buns', 'soda', 'whole milk'), ('rolls/buns', 'whole milk', 'yogurt'), ('soda', 'whole milk', 'yogurt')]\n",
        "My output is correct\n",
        "Total time taken : 9.17750859260559 seconds\n",
        "My point is 10\n",
        "```"
      ]
    },
    {
      "cell_type": "code",
      "execution_count": null,
      "metadata": {
        "id": "dCtuXhsSwnVX",
        "colab": {
          "base_uri": "https://localhost:8080/"
        },
        "outputId": "13dae648-f3a1-47c3-9dee-87c5d2c66b93"
      },
      "outputs": [
        {
          "output_type": "stream",
          "name": "stdout",
          "text": [
            "Linux 98bdc6c38579 6.1.58+ #1 SMP PREEMPT_DYNAMIC Sat Nov 18 15:31:17 UTC 2023 x86_64 x86_64 x86_64 GNU/Linux\n",
            "# of frequent_3_items in case of minsup = 0.02: 290\n",
            "[('UHT-milk', 'other vegetables', 'whole milk'), ('beef', 'other vegetables', 'rolls/buns'), ('beef', 'other vegetables', 'soda'), ('beef', 'other vegetables', 'whole milk'), ('beef', 'rolls/buns', 'whole milk'), ('beef', 'root vegetables', 'whole milk'), ('beef', 'soda', 'whole milk'), ('beef', 'whole milk', 'yogurt'), ('bottled beer', 'bottled water', 'whole milk'), ('bottled beer', 'other vegetables', 'rolls/buns'), ('bottled beer', 'other vegetables', 'root vegetables'), ('bottled beer', 'other vegetables', 'sausage'), ('bottled beer', 'other vegetables', 'soda'), ('bottled beer', 'other vegetables', 'whole milk'), ('bottled beer', 'other vegetables', 'yogurt'), ('bottled beer', 'pastry', 'whole milk'), ('bottled beer', 'rolls/buns', 'soda'), ('bottled beer', 'rolls/buns', 'whole milk'), ('bottled beer', 'root vegetables', 'whole milk'), ('bottled beer', 'sausage', 'whole milk'), ('bottled beer', 'shopping bags', 'whole milk'), ('bottled beer', 'soda', 'whole milk'), ('bottled beer', 'tropical fruit', 'whole milk'), ('bottled beer', 'whole milk', 'yogurt'), ('bottled water', 'brown bread', 'whole milk'), ('bottled water', 'canned beer', 'whole milk'), ('bottled water', 'citrus fruit', 'other vegetables'), ('bottled water', 'citrus fruit', 'whole milk'), ('bottled water', 'curd', 'whole milk'), ('bottled water', 'frankfurter', 'whole milk')]\n",
            "My output is correct\n",
            "Total time taken : 0.7164084911346436 seconds\n",
            "My point is 10\n"
          ]
        }
      ],
      "source": [
        "!uname -a\n",
        "# DO NOT EDIT THIS CELL\n",
        "# RUN THIS CELL\n",
        "\n",
        "import time\n",
        "min_sup=0.02\n",
        "start = time.time()\n",
        "result = sorted(list(gen_frequent_3_itemset(groceries_dataset, min_sup=min_sup)))\n",
        "end = time.time()\n",
        "\n",
        "print(f'# of frequent_3_items in case of minsup = {min_sup}: {len(result)}')\n",
        "\n",
        "expected = [('UHT-milk', 'other vegetables', 'whole milk'),\n",
        "            ('beef', 'other vegetables', 'rolls/buns'),\n",
        "            ('beef', 'other vegetables', 'soda'),\n",
        "            ('beef', 'other vegetables', 'whole milk'),\n",
        "            ('beef', 'rolls/buns', 'whole milk'),\n",
        "            ('beef', 'root vegetables', 'whole milk'),\n",
        "            ('beef', 'soda', 'whole milk'),\n",
        "            ('beef', 'whole milk', 'yogurt'),\n",
        "            ('bottled beer', 'bottled water', 'whole milk'),\n",
        "            ('bottled beer', 'other vegetables', 'rolls/buns'),\n",
        "            ('bottled beer', 'other vegetables', 'root vegetables'),\n",
        "            ('bottled beer', 'other vegetables', 'sausage'),\n",
        "            ('bottled beer', 'other vegetables', 'soda'),\n",
        "            ('bottled beer', 'other vegetables', 'whole milk'),\n",
        "            ('bottled beer', 'other vegetables', 'yogurt'),\n",
        "            ('bottled beer', 'pastry', 'whole milk'),\n",
        "            ('bottled beer', 'rolls/buns', 'soda'),\n",
        "            ('bottled beer', 'rolls/buns', 'whole milk'),\n",
        "            ('bottled beer', 'root vegetables', 'whole milk'),\n",
        "            ('bottled beer', 'sausage', 'whole milk'),\n",
        "            ('bottled beer', 'shopping bags', 'whole milk'),\n",
        "            ('bottled beer', 'soda', 'whole milk'),\n",
        "            ('bottled beer', 'tropical fruit', 'whole milk'),\n",
        "            ('bottled beer', 'whole milk', 'yogurt'),\n",
        "            ('bottled water', 'brown bread', 'whole milk'),\n",
        "            ('bottled water', 'canned beer', 'whole milk'),\n",
        "            ('bottled water', 'citrus fruit', 'other vegetables'),\n",
        "            ('bottled water', 'citrus fruit', 'whole milk'),\n",
        "            ('bottled water', 'curd', 'whole milk'),\n",
        "            ('bottled water', 'frankfurter', 'whole milk')]\n",
        "\n",
        "print(result[:30])\n",
        "if expected == result[:30]:\n",
        "    print('My output is correct')\n",
        "else:\n",
        "    print('My output is wrong')\n",
        "\n",
        "lapse = end - start\n",
        "total = 10\n",
        "weight = 1.5\n",
        "grace = 60.0\n",
        "my_point = int(total / (weight ** (lapse // grace)))\n",
        "print(f'Total time taken : {lapse} seconds')\n",
        "print(f'My point is {my_point}')"
      ]
    },
    {
      "cell_type": "markdown",
      "metadata": {
        "id": "0AjfA2X8wnVa"
      },
      "source": [
        "**Your output must be like:**\n",
        "```\n",
        "# of frequent_3_items in case of minsup = 0.02: 290\n",
        "[('UHT-milk', 'other vegetables', 'whole milk'), ('beef', 'other vegetables', 'rolls/buns'), ('beef', 'other vegetables', 'soda'), ('beef', 'other vegetables', 'whole milk'), ('beef', 'rolls/buns', 'whole milk'), ('beef', 'root vegetables', 'whole milk'), ('beef', 'soda', 'whole milk'), ('beef', 'whole milk', 'yogurt'), ('bottled beer', 'bottled water', 'whole milk'), ('bottled beer', 'other vegetables', 'rolls/buns'), ('bottled beer', 'other vegetables', 'root vegetables'), ('bottled beer', 'other vegetables', 'sausage'), ('bottled beer', 'other vegetables', 'soda'), ('bottled beer', 'other vegetables', 'whole milk'), ('bottled beer', 'other vegetables', 'yogurt'), ('bottled beer', 'pastry', 'whole milk'), ('bottled beer', 'rolls/buns', 'soda'), ('bottled beer', 'rolls/buns', 'whole milk'), ('bottled beer', 'root vegetables', 'whole milk'), ('bottled beer', 'sausage', 'whole milk'), ('bottled beer', 'shopping bags', 'whole milk'), ('bottled beer', 'soda', 'whole milk'), ('bottled beer', 'tropical fruit', 'whole milk'), ('bottled beer', 'whole milk', 'yogurt'), ('bottled water', 'brown bread', 'whole milk'), ('bottled water', 'canned beer', 'whole milk'), ('bottled water', 'citrus fruit', 'other vegetables'), ('bottled water', 'citrus fruit', 'whole milk'), ('bottled water', 'curd', 'whole milk'), ('bottled water', 'frankfurter', 'whole milk')]\n",
        "My output is correct\n",
        "Total time taken : 43.74179530143738 seconds\n",
        "My point is 6\n",
        "```"
      ]
    },
    {
      "cell_type": "code",
      "execution_count": null,
      "metadata": {
        "id": "nGed3Qy5wnVa",
        "colab": {
          "base_uri": "https://localhost:8080/"
        },
        "outputId": "997123af-a497-4abb-b779-838f60151e30"
      },
      "outputs": [
        {
          "output_type": "stream",
          "name": "stdout",
          "text": [
            "Linux 98bdc6c38579 6.1.58+ #1 SMP PREEMPT_DYNAMIC Sat Nov 18 15:31:17 UTC 2023 x86_64 x86_64 x86_64 GNU/Linux\n",
            "# of frequent_3_items in case of minsup = 0.01: 1459\n",
            "[('UHT-milk', 'bottled water', 'other vegetables'), ('UHT-milk', 'bottled water', 'whole milk'), ('UHT-milk', 'other vegetables', 'rolls/buns'), ('UHT-milk', 'other vegetables', 'sausage'), ('UHT-milk', 'other vegetables', 'soda'), ('UHT-milk', 'other vegetables', 'whole milk'), ('UHT-milk', 'other vegetables', 'yogurt'), ('UHT-milk', 'pip fruit', 'whole milk'), ('UHT-milk', 'rolls/buns', 'soda'), ('UHT-milk', 'rolls/buns', 'whole milk'), ('UHT-milk', 'rolls/buns', 'yogurt'), ('UHT-milk', 'root vegetables', 'whole milk'), ('UHT-milk', 'sausage', 'whole milk'), ('UHT-milk', 'soda', 'whole milk'), ('UHT-milk', 'tropical fruit', 'whole milk'), ('UHT-milk', 'whole milk', 'yogurt'), ('beef', 'bottled beer', 'whole milk'), ('beef', 'bottled water', 'other vegetables'), ('beef', 'bottled water', 'soda'), ('beef', 'bottled water', 'whole milk'), ('beef', 'butter', 'whole milk'), ('beef', 'canned beer', 'whole milk'), ('beef', 'citrus fruit', 'other vegetables'), ('beef', 'citrus fruit', 'rolls/buns'), ('beef', 'citrus fruit', 'soda'), ('beef', 'citrus fruit', 'whole milk'), ('beef', 'curd', 'whole milk'), ('beef', 'frankfurter', 'whole milk'), ('beef', 'fruit/vegetable juice', 'whole milk'), ('beef', 'newspapers', 'whole milk')]\n",
            "My output is correct\n",
            "Total time taken : 0.8157756328582764 seconds\n",
            "My point is 10\n"
          ]
        }
      ],
      "source": [
        "!uname -a\n",
        "# DO NOT EDIT THIS CELL\n",
        "# RUN THIS CELL\n",
        "\n",
        "import time\n",
        "min_sup=0.01\n",
        "start = time.time()\n",
        "result = sorted(list(gen_frequent_3_itemset(groceries_dataset, min_sup=min_sup)))\n",
        "end = time.time()\n",
        "\n",
        "print(f'# of frequent_3_items in case of minsup = {min_sup}: {len(result)}')\n",
        "print(result[:30])\n",
        "expected = [('UHT-milk', 'bottled water', 'other vegetables'),\n",
        "            ('UHT-milk', 'bottled water', 'whole milk'),\n",
        "            ('UHT-milk', 'other vegetables', 'rolls/buns'),\n",
        "            ('UHT-milk', 'other vegetables', 'sausage'),\n",
        "            ('UHT-milk', 'other vegetables', 'soda'),\n",
        "            ('UHT-milk', 'other vegetables', 'whole milk'),\n",
        "            ('UHT-milk', 'other vegetables', 'yogurt'),\n",
        "            ('UHT-milk', 'pip fruit', 'whole milk'),\n",
        "            ('UHT-milk', 'rolls/buns', 'soda'),\n",
        "            ('UHT-milk', 'rolls/buns', 'whole milk'),\n",
        "            ('UHT-milk', 'rolls/buns', 'yogurt'),\n",
        "            ('UHT-milk', 'root vegetables', 'whole milk'),\n",
        "            ('UHT-milk', 'sausage', 'whole milk'),\n",
        "            ('UHT-milk', 'soda', 'whole milk'),\n",
        "            ('UHT-milk', 'tropical fruit', 'whole milk'),\n",
        "            ('UHT-milk', 'whole milk', 'yogurt'),\n",
        "            ('beef', 'bottled beer', 'whole milk'),\n",
        "            ('beef', 'bottled water', 'other vegetables'),\n",
        "            ('beef', 'bottled water', 'soda'),\n",
        "            ('beef', 'bottled water', 'whole milk'),\n",
        "            ('beef', 'butter', 'whole milk'),\n",
        "            ('beef', 'canned beer', 'whole milk'),\n",
        "            ('beef', 'citrus fruit', 'other vegetables'),\n",
        "            ('beef', 'citrus fruit', 'rolls/buns'),\n",
        "            ('beef', 'citrus fruit', 'soda'),\n",
        "            ('beef', 'citrus fruit', 'whole milk'),\n",
        "            ('beef', 'curd', 'whole milk'),\n",
        "            ('beef', 'frankfurter', 'whole milk'),\n",
        "            ('beef', 'fruit/vegetable juice', 'whole milk'),\n",
        "            ('beef', 'newspapers', 'whole milk')]\n",
        "\n",
        "if expected == result[:30]:\n",
        "    print('My output is correct')\n",
        "else:\n",
        "    print('My output is wrong')\n",
        "\n",
        "lapse = end - start\n",
        "total = 10\n",
        "weight = 1.5\n",
        "grace = 160.0\n",
        "my_point = int(total / (weight ** (lapse // grace)))\n",
        "print(f'Total time taken : {lapse} seconds')\n",
        "print(f'My point is {my_point}')"
      ]
    },
    {
      "cell_type": "markdown",
      "metadata": {
        "id": "b3YgrQycwnVa"
      },
      "source": [
        "**Your output must be like:**\n",
        "```\n",
        "# of frequent_3_items in case of minsup = 0.01: 1459\n",
        "[('UHT-milk', 'bottled water', 'other vegetables'), ('UHT-milk', 'bottled water', 'whole milk'), ('UHT-milk', 'other vegetables', 'rolls/buns'), ('UHT-milk', 'other vegetables', 'sausage'), ('UHT-milk', 'other vegetables', 'soda'), ('UHT-milk', 'other vegetables', 'whole milk'), ('UHT-milk', 'other vegetables', 'yogurt'), ('UHT-milk', 'pip fruit', 'whole milk'), ('UHT-milk', 'rolls/buns', 'soda'), ('UHT-milk', 'rolls/buns', 'whole milk'), ('UHT-milk', 'rolls/buns', 'yogurt'), ('UHT-milk', 'root vegetables', 'whole milk'), ('UHT-milk', 'sausage', 'whole milk'), ('UHT-milk', 'soda', 'whole milk'), ('UHT-milk', 'tropical fruit', 'whole milk'), ('UHT-milk', 'whole milk', 'yogurt'), ('beef', 'bottled beer', 'whole milk'), ('beef', 'bottled water', 'other vegetables'), ('beef', 'bottled water', 'soda'), ('beef', 'bottled water', 'whole milk'), ('beef', 'butter', 'whole milk'), ('beef', 'canned beer', 'whole milk'), ('beef', 'citrus fruit', 'other vegetables'), ('beef', 'citrus fruit', 'rolls/buns'), ('beef', 'citrus fruit', 'soda'), ('beef', 'citrus fruit', 'whole milk'), ('beef', 'curd', 'whole milk'), ('beef', 'frankfurter', 'whole milk'), ('beef', 'fruit/vegetable juice', 'whole milk'), ('beef', 'newspapers', 'whole milk')]\n",
        "My output is correct\n",
        "Total time taken : 117.64721179008484 seconds\n",
        "My point is 10\n",
        "```"
      ]
    },
    {
      "cell_type": "markdown",
      "metadata": {
        "id": "TS0ypCo8wnVa"
      },
      "source": [
        "## Ethics:\n",
        "If you cheat, you will get negative of the total points.\n",
        "If the homework total is 22 and you cheat, you get -22."
      ]
    },
    {
      "cell_type": "markdown",
      "metadata": {
        "id": "UT1paS11wnVa"
      },
      "source": [
        "## What to submit\n",
        "\n",
        "- Run **all cells** after restarting the kernel\n",
        "- The run sequence numbers must be 1, 2, 3, ..., starting from 1.\n",
        "- No late homeworks will be accepted (Google classroom will not accept late homework automatically)\n",
        "- Your homework will be graded on the basis of correctness, performance, and programming skills"
      ]
    }
  ],
  "metadata": {
    "celltoolbar": "Slideshow",
    "colab": {
      "provenance": []
    },
    "hide_input": false,
    "kernelspec": {
      "display_name": "Python 3 (ipykernel)",
      "language": "python",
      "name": "python3"
    },
    "language_info": {
      "codemirror_mode": {
        "name": "ipython",
        "version": 3
      },
      "file_extension": ".py",
      "mimetype": "text/x-python",
      "name": "python",
      "nbconvert_exporter": "python",
      "pygments_lexer": "ipython3",
      "version": "3.9.7"
    },
    "varInspector": {
      "cols": {
        "lenName": 16,
        "lenType": 16,
        "lenVar": 40
      },
      "kernels_config": {
        "python": {
          "delete_cmd_postfix": "",
          "delete_cmd_prefix": "del ",
          "library": "var_list.py",
          "varRefreshCmd": "print(var_dic_list())"
        },
        "r": {
          "delete_cmd_postfix": ") ",
          "delete_cmd_prefix": "rm(",
          "library": "var_list.r",
          "varRefreshCmd": "cat(var_dic_list()) "
        }
      },
      "types_to_exclude": [
        "module",
        "function",
        "builtin_function_or_method",
        "instance",
        "_Feature"
      ],
      "window_display": false
    }
  },
  "nbformat": 4,
  "nbformat_minor": 0
}