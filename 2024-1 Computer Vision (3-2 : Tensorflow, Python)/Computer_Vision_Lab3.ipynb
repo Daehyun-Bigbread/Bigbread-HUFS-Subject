{
  "nbformat": 4,
  "nbformat_minor": 0,
  "metadata": {
    "colab": {
      "provenance": []
    },
    "kernelspec": {
      "name": "python3",
      "display_name": "Python 3"
    },
    "language_info": {
      "name": "python"
    }
  },
  "cells": [
    {
      "cell_type": "markdown",
      "source": [
        "## 1. 강의자료 7장 66쪽에 나와있는 숫자 인식 프로그램을 수행한다. 일단 66쪽 프로그램 을 Jupyter notebook 으로 복사하여 실행시킨다. 프로그램에서는 수업시간에 설명한 바와 같이 to_categorical 함수의 도입 부분을 수정해야 한다."
      ],
      "metadata": {
        "id": "K-cImG66pUy7"
      }
    },
    {
      "cell_type": "markdown",
      "source": [
        "### a. 오일석 교재 283쪽 프로그램을 참조하여 fit 함수 호출시 validation_data 부분을 추가하라."
      ],
      "metadata": {
        "id": "ETRPbd3Wmd0e"
      }
    },
    {
      "cell_type": "code",
      "source": [
        "import tensorflow as tf\n",
        "from sklearn.model_selection import train_test_split\n",
        "\n",
        "from keras.datasets import mnist\n",
        "from keras import models\n",
        "from keras import layers"
      ],
      "metadata": {
        "id": "WeULqWecmwcG"
      },
      "execution_count": null,
      "outputs": []
    },
    {
      "cell_type": "code",
      "source": [
        "# Loading the MNIST dataset\n",
        "(train_images, train_labels), (test_images, test_labels) = mnist.load_data()"
      ],
      "metadata": {
        "colab": {
          "base_uri": "https://localhost:8080/"
        },
        "id": "0pBXlQi8nffW",
        "outputId": "a83597eb-2f71-4fe2-8f26-0369e94e512b"
      },
      "execution_count": null,
      "outputs": [
        {
          "output_type": "stream",
          "name": "stdout",
          "text": [
            "Downloading data from https://storage.googleapis.com/tensorflow/tf-keras-datasets/mnist.npz\n",
            "11490434/11490434 [==============================] - 0s 0us/step\n"
          ]
        }
      ]
    },
    {
      "cell_type": "code",
      "source": [
        "print(train_images.shape, train_labels.shape)"
      ],
      "metadata": {
        "colab": {
          "base_uri": "https://localhost:8080/"
        },
        "id": "6odZrIQ-nwzn",
        "outputId": "2ac1dded-55b8-4e3f-8cfa-afb5f7e5ac9e"
      },
      "execution_count": null,
      "outputs": [
        {
          "output_type": "stream",
          "name": "stdout",
          "text": [
            "(60000, 28, 28) (60000,)\n"
          ]
        }
      ]
    },
    {
      "cell_type": "code",
      "source": [
        "train_images, valid_images, train_labels, valid_labels = \\\n",
        "    train_test_split(train_images, train_labels, test_size=0.1, shuffle=True)"
      ],
      "metadata": {
        "id": "U5ZLs7RupMlX"
      },
      "execution_count": null,
      "outputs": []
    },
    {
      "cell_type": "code",
      "source": [
        "print(train_images.shape, train_labels.shape)"
      ],
      "metadata": {
        "colab": {
          "base_uri": "https://localhost:8080/"
        },
        "id": "EUSVrncUpQtq",
        "outputId": "4356b06f-3710-4a3b-e08f-47acab1f2f20"
      },
      "execution_count": null,
      "outputs": [
        {
          "output_type": "stream",
          "name": "stdout",
          "text": [
            "(54000, 28, 28) (54000,)\n"
          ]
        }
      ]
    },
    {
      "cell_type": "code",
      "source": [
        "print(valid_images.shape, valid_labels.shape)"
      ],
      "metadata": {
        "colab": {
          "base_uri": "https://localhost:8080/"
        },
        "id": "qbETd_annxQm",
        "outputId": "9c41deb1-9600-47ff-addf-d2efba2f3e57"
      },
      "execution_count": null,
      "outputs": [
        {
          "output_type": "stream",
          "name": "stdout",
          "text": [
            "(6000, 28, 28) (6000,)\n"
          ]
        }
      ]
    },
    {
      "cell_type": "code",
      "source": [
        "print(test_images.shape, test_labels.shape)"
      ],
      "metadata": {
        "colab": {
          "base_uri": "https://localhost:8080/"
        },
        "id": "k6pnXy5ToMAn",
        "outputId": "af75c47c-8450-433a-8867-bc734c8646e0"
      },
      "execution_count": null,
      "outputs": [
        {
          "output_type": "stream",
          "name": "stdout",
          "text": [
            "(10000, 28, 28) (10000,)\n"
          ]
        }
      ]
    },
    {
      "cell_type": "code",
      "execution_count": null,
      "metadata": {
        "id": "mi05w8M8mUJd"
      },
      "outputs": [],
      "source": [
        "# Network architecture\n",
        "network = models.Sequential()\n",
        "network.add(layers.Dense(512, activation='relu', input_shape=(28 * 28,)))\n",
        "network.add(layers.Dense(10, activation='softmax'))\n",
        "\n",
        "# Preparing image data\n",
        "train_images = train_images.reshape((54000, 28 * 28))\n",
        "train_images = train_images.astype('float32') / 255\n",
        "\n",
        "valid_images = valid_images.reshape((6000, 28 * 28))\n",
        "valid_images = valid_images.astype('float32') / 255\n",
        "\n",
        "test_images = test_images.reshape((10000, 28 * 28))\n",
        "test_images = test_images.astype('float32') / 255\n",
        "\n",
        "# Preparing the labels\n",
        "from keras.utils import to_categorical\n",
        "train_labels = to_categorical(train_labels)\n",
        "valid_labels = to_categorical(valid_labels)\n",
        "test_labels = to_categorical(test_labels)"
      ]
    },
    {
      "cell_type": "code",
      "source": [
        "print(train_images.shape, train_labels.shape)\n",
        "print(test_images.shape, test_labels.shape)\n",
        "print(valid_images.shape, valid_labels.shape)"
      ],
      "metadata": {
        "colab": {
          "base_uri": "https://localhost:8080/"
        },
        "id": "h6NCwh7Rqa5W",
        "outputId": "2afd96ee-3e03-43bd-d077-466804c54eb9"
      },
      "execution_count": null,
      "outputs": [
        {
          "output_type": "stream",
          "name": "stdout",
          "text": [
            "(54000, 784) (54000, 10)\n",
            "(10000, 784) (10000, 10)\n",
            "(6000, 784) (6000, 10)\n"
          ]
        }
      ]
    },
    {
      "cell_type": "code",
      "source": [
        "# The compilation step\n",
        "network.compile(optimizer='rmsprop',\n",
        "                loss='categorical_crossentropy',\n",
        "                metrics=['accuracy'])"
      ],
      "metadata": {
        "id": "CF6iJW8krWoW"
      },
      "execution_count": null,
      "outputs": []
    },
    {
      "cell_type": "code",
      "source": [
        "# Fit the model to data\n",
        "history = network.fit(train_images, train_labels, epochs=5, batch_size=128, validation_data=(valid_images, valid_labels))"
      ],
      "metadata": {
        "colab": {
          "base_uri": "https://localhost:8080/"
        },
        "id": "tQcoesYbqfi2",
        "outputId": "8ff5ff41-1862-4dbd-d1bd-8789622d30f6"
      },
      "execution_count": null,
      "outputs": [
        {
          "output_type": "stream",
          "name": "stdout",
          "text": [
            "Epoch 1/5\n",
            "422/422 [==============================] - 10s 17ms/step - loss: 0.2756 - accuracy: 0.9204 - val_loss: 0.1413 - val_accuracy: 0.9573\n",
            "Epoch 2/5\n",
            "422/422 [==============================] - 8s 20ms/step - loss: 0.1138 - accuracy: 0.9663 - val_loss: 0.1002 - val_accuracy: 0.9692\n",
            "Epoch 3/5\n",
            "422/422 [==============================] - 4s 8ms/step - loss: 0.0743 - accuracy: 0.9774 - val_loss: 0.0813 - val_accuracy: 0.9757\n",
            "Epoch 4/5\n",
            "422/422 [==============================] - 3s 8ms/step - loss: 0.0543 - accuracy: 0.9836 - val_loss: 0.0803 - val_accuracy: 0.9755\n",
            "Epoch 5/5\n",
            "422/422 [==============================] - 5s 11ms/step - loss: 0.0407 - accuracy: 0.9880 - val_loss: 0.0687 - val_accuracy: 0.9777\n"
          ]
        }
      ]
    },
    {
      "cell_type": "code",
      "source": [
        "network.summary()"
      ],
      "metadata": {
        "colab": {
          "base_uri": "https://localhost:8080/"
        },
        "id": "fD5EDq0bsmGN",
        "outputId": "b09c998d-751d-44e4-94d6-aa9d2960968d"
      },
      "execution_count": null,
      "outputs": [
        {
          "output_type": "stream",
          "name": "stdout",
          "text": [
            "Model: \"sequential\"\n",
            "_________________________________________________________________\n",
            " Layer (type)                Output Shape              Param #   \n",
            "=================================================================\n",
            " dense (Dense)               (None, 512)               401920    \n",
            "                                                                 \n",
            " dense_1 (Dense)             (None, 10)                5130      \n",
            "                                                                 \n",
            "=================================================================\n",
            "Total params: 407050 (1.55 MB)\n",
            "Trainable params: 407050 (1.55 MB)\n",
            "Non-trainable params: 0 (0.00 Byte)\n",
            "_________________________________________________________________\n"
          ]
        }
      ]
    },
    {
      "cell_type": "code",
      "source": [
        "test_loss, test_acc = network.evaluate(test_images, test_labels)"
      ],
      "metadata": {
        "colab": {
          "base_uri": "https://localhost:8080/"
        },
        "id": "F-lQz674stiV",
        "outputId": "602a5b4b-a4b7-4ccb-f141-8fbf27cb366e"
      },
      "execution_count": null,
      "outputs": [
        {
          "output_type": "stream",
          "name": "stdout",
          "text": [
            "313/313 [==============================] - 1s 2ms/step - loss: 0.0643 - accuracy: 0.9816\n"
          ]
        }
      ]
    },
    {
      "cell_type": "markdown",
      "source": [
        "### b. 교재의 287쪽을 참고하여 다음과 같은 history graph를 생성하는 기능을 추가하\n",
        "라."
      ],
      "metadata": {
        "id": "5D5RH5m5mhno"
      }
    },
    {
      "cell_type": "code",
      "source": [
        "import matplotlib.pyplot as plt\n",
        "\n",
        "train_acc = history.history['accuracy']\n",
        "val_acc = history.history['val_accuracy']\n",
        "\n",
        "epochs = range(0, len(train_acc))\n",
        "\n",
        "# 정확도 그래프 그리기\n",
        "plt.plot(epochs, train_acc, 'r', label='Training acc')\n",
        "plt.plot(epochs, val_acc, 'r--', label='Validation acc')\n",
        "plt.xlabel('Epochs')\n",
        "plt.ylabel('Accuracy')\n",
        "\n",
        "plt.show()"
      ],
      "metadata": {
        "id": "3y5pKaYhmiLU",
        "colab": {
          "base_uri": "https://localhost:8080/",
          "height": 449
        },
        "outputId": "8af2bfc6-7c7f-4c13-fbcf-5c4afff7d0f1"
      },
      "execution_count": null,
      "outputs": [
        {
          "output_type": "display_data",
          "data": {
            "text/plain": [
              "<Figure size 640x480 with 1 Axes>"
            ],
            "image/png": "[encoded data removed]"
          },
          "metadata": {}
        }
      ]
    },
    {
      "cell_type": "markdown",
      "source": [
        "### c. 프로그램에서 hidden 영역을 다음과 같이 수정한다. 첫번째 부분은 128개의 뉴런 으로 이루어지게 수정한다. 32개의 뉴런으로 구성된 두번째 부분을 추가한다. 출력부분은 원래대로 유지한다. 수정된 프로그램으로 history graph를 생성하는 결과를 구하라."
      ],
      "metadata": {
        "id": "E2LGKyU-vUn5"
      }
    },
    {
      "cell_type": "code",
      "source": [
        "# Network architecture\n",
        "network = models.Sequential()\n",
        "network.add(layers.Dense(128, activation='relu', input_shape=(28 * 28,)))\n",
        "network.add(layers.Dense(32, activation='relu'))\n",
        "network.add(layers.Dense(10, activation='softmax'))"
      ],
      "metadata": {
        "id": "wwnZfZbmvXc2"
      },
      "execution_count": null,
      "outputs": []
    },
    {
      "cell_type": "code",
      "source": [
        "# The compilation step\n",
        "network.compile(optimizer='rmsprop',\n",
        "                loss='categorical_crossentropy',\n",
        "                metrics=['accuracy'])\n",
        "\n",
        "# Preparing image data\n",
        "train_images = train_images.reshape((54000, 28 * 28))\n",
        "train_images = train_images.astype('float32') / 255\n",
        "\n",
        "valid_images = valid_images.reshape((6000, 28 * 28))\n",
        "valid_images = valid_images.astype('float32') / 255\n",
        "\n",
        "test_images = test_images.reshape((10000, 28 * 28))\n",
        "test_images = test_images.astype('float32') / 255\n",
        "\n",
        "# Preparing the labels\n",
        "from keras.utils import to_categorical\n",
        "train_labels = to_categorical(train_labels)\n",
        "valid_labels = to_categorical(valid_labels)\n",
        "test_labels = to_categorical(test_labels)"
      ],
      "metadata": {
        "id": "thB2ltYSz_zw"
      },
      "execution_count": null,
      "outputs": []
    },
    {
      "cell_type": "code",
      "source": [
        "print(train_images.shape, train_labels.shape)\n",
        "print(test_images.shape, test_labels.shape)\n",
        "print(valid_images.shape, valid_labels.shape)"
      ],
      "metadata": {
        "colab": {
          "base_uri": "https://localhost:8080/"
        },
        "id": "dDE0KwjTvvBC",
        "outputId": "8d6599a3-520f-42dc-b9b9-1fde38d30933"
      },
      "execution_count": null,
      "outputs": [
        {
          "output_type": "stream",
          "name": "stdout",
          "text": [
            "(54000, 784) (54000, 10)\n",
            "(10000, 784) (10000, 10)\n",
            "(6000, 784) (6000, 10)\n"
          ]
        }
      ]
    },
    {
      "cell_type": "code",
      "source": [
        "# The compilation step\n",
        "network.compile(optimizer='rmsprop',\n",
        "                loss='categorical_crossentropy',\n",
        "                metrics=['accuracy'])"
      ],
      "metadata": {
        "id": "2dyCo7gU0HaJ"
      },
      "execution_count": null,
      "outputs": []
    },
    {
      "cell_type": "code",
      "source": [
        "# Fit the model to data\n",
        "history = network.fit(train_images, train_labels, epochs=5, batch_size=128, validation_data=(valid_images, valid_labels))"
      ],
      "metadata": {
        "colab": {
          "base_uri": "https://localhost:8080/"
        },
        "id": "CU-ozZ6Pv7CZ",
        "outputId": "235b547f-dc55-44b9-98bb-eb9328aeded1"
      },
      "execution_count": null,
      "outputs": [
        {
          "output_type": "stream",
          "name": "stdout",
          "text": [
            "Epoch 1/5\n",
            "422/422 [==============================] - 3s 5ms/step - loss: 0.3592 - accuracy: 0.8987 - val_loss: 0.1970 - val_accuracy: 0.9433\n",
            "Epoch 2/5\n",
            "422/422 [==============================] - 2s 5ms/step - loss: 0.1511 - accuracy: 0.9557 - val_loss: 0.1371 - val_accuracy: 0.9565\n",
            "Epoch 3/5\n",
            "422/422 [==============================] - 4s 8ms/step - loss: 0.1065 - accuracy: 0.9684 - val_loss: 0.1335 - val_accuracy: 0.9595\n",
            "Epoch 4/5\n",
            "422/422 [==============================] - 2s 4ms/step - loss: 0.0819 - accuracy: 0.9753 - val_loss: 0.0975 - val_accuracy: 0.9700\n",
            "Epoch 5/5\n",
            "422/422 [==============================] - 2s 4ms/step - loss: 0.0659 - accuracy: 0.9800 - val_loss: 0.1051 - val_accuracy: 0.9672\n"
          ]
        }
      ]
    },
    {
      "cell_type": "code",
      "source": [
        "network.summary()"
      ],
      "metadata": {
        "colab": {
          "base_uri": "https://localhost:8080/"
        },
        "id": "rIT3shkN0LTq",
        "outputId": "8ab5ede7-0b31-43c7-96e5-748dcbc3ef4d"
      },
      "execution_count": null,
      "outputs": [
        {
          "output_type": "stream",
          "name": "stdout",
          "text": [
            "Model: \"sequential_1\"\n",
            "_________________________________________________________________\n",
            " Layer (type)                Output Shape              Param #   \n",
            "=================================================================\n",
            " dense_2 (Dense)             (None, 128)               100480    \n",
            "                                                                 \n",
            " dense_3 (Dense)             (None, 32)                4128      \n",
            "                                                                 \n",
            " dense_4 (Dense)             (None, 10)                330       \n",
            "                                                                 \n",
            "=================================================================\n",
            "Total params: 104938 (409.91 KB)\n",
            "Trainable params: 104938 (409.91 KB)\n",
            "Non-trainable params: 0 (0.00 Byte)\n",
            "_________________________________________________________________\n"
          ]
        }
      ]
    },
    {
      "cell_type": "code",
      "source": [
        "test_loss, test_acc = network.evaluate(test_images, test_labels)"
      ],
      "metadata": {
        "colab": {
          "base_uri": "https://localhost:8080/"
        },
        "id": "YOm96aJx0PVT",
        "outputId": "37eb807e-7b32-4c6b-e12e-e4cab2d1354e"
      },
      "execution_count": null,
      "outputs": [
        {
          "output_type": "stream",
          "name": "stdout",
          "text": [
            "313/313 [==============================] - 1s 2ms/step - loss: 0.0995 - accuracy: 0.9697\n"
          ]
        }
      ]
    },
    {
      "cell_type": "code",
      "source": [
        "import matplotlib.pyplot as plt\n",
        "\n",
        "train_acc = history.history['accuracy']\n",
        "val_acc = history.history['val_accuracy']\n",
        "\n",
        "epochs = range(0, len(train_acc))\n",
        "\n",
        "# 정확도 그래프 그리기\n",
        "plt.plot(epochs, train_acc, 'r', label='Training acc')\n",
        "plt.plot(epochs, val_acc, 'r--', label='Validation acc')\n",
        "plt.xlabel('Epochs')\n",
        "plt.ylabel('Accuracy')\n",
        "\n",
        "plt.show()"
      ],
      "metadata": {
        "colab": {
          "base_uri": "https://localhost:8080/",
          "height": 449
        },
        "id": "afqmGhYu0RBB",
        "outputId": "91252fb3-600d-48b9-a7c8-f0c6ab995430"
      },
      "execution_count": null,
      "outputs": [
        {
          "output_type": "display_data",
          "data": {
            "text/plain": [
              "<Figure size 640x480 with 1 Axes>"
            ],
            "image/png": "[encoded data removed]"
          },
          "metadata": {}
        }
      ]
    },
    {
      "cell_type": "markdown",
      "source": [
        "## 2. 강의자료 8장 36~38쪽에 나와있는 Cifar-10 영상 인식 프로그램을 수행한다.\n",
        "### 데이터 읽는 부분을 한번만 수행하도록 36쪽 부분을 먼저 실행시킨 다음, 뒷 부분을 수행시 키는 것이 좋다. 프로그램에서 epochs = 15로 변경하여 수행시킨다."
      ],
      "metadata": {
        "id": "unJlk5-r0dCC"
      }
    },
    {
      "cell_type": "code",
      "source": [
        "import tensorflow as tf\n",
        "from tensorflow import keras\n",
        "from keras import models\n",
        "from keras import layers\n",
        "\n",
        "# 관련 패키지\n",
        "import numpy as np\n",
        "import matplotlib.pyplot as plt\n",
        "\n",
        "# 영상 파일 읽기\n",
        "cifar10 = keras.datasets.cifar10\n",
        "\n",
        "(train_images, train_labels), (test_images, test_labels) = cifar10.load_data()\n",
        "\n",
        "# 영상 데이터를 [0, 1] 범위로 바꾸기\n",
        "train_images = train_images / 255.0\n",
        "test_images = test_images / 255.0"
      ],
      "metadata": {
        "colab": {
          "base_uri": "https://localhost:8080/"
        },
        "id": "by-MFco-0gOt",
        "outputId": "8e2126cf-89e6-4db2-c63e-ad9ef15805e5"
      },
      "execution_count": null,
      "outputs": [
        {
          "output_type": "stream",
          "name": "stdout",
          "text": [
            "Downloading data from https://www.cs.toronto.edu/~kriz/cifar-10-python.tar.gz\n",
            "170498071/170498071 [==============================] - 2s 0us/step\n"
          ]
        }
      ]
    },
    {
      "cell_type": "code",
      "source": [
        "model = models.Sequential()\n",
        "\n",
        "model.add(layers.Conv2D(32, (3,3), padding=\"SAME\", activation='relu', input_shape=(32, 32, 3))) # input, hidden 1\n",
        "model.add(layers.MaxPooling2D((2, 2)))\n",
        "\n",
        "model.add(layers.Conv2D(64, (3,3), padding=\"SAME\", activation='relu')) # hidden 2\n",
        "model.add(layers.MaxPooling2D((2, 2)))\n",
        "\n",
        "model.add(layers.Conv2D(64, (3,3), padding=\"SAME\", activation='relu')) # hidden 3\n",
        "model.add(layers.MaxPooling2D((2, 2)))\n",
        "\n",
        "model.add(layers.Flatten())\n",
        "model.add(layers.Dense(64, activation='relu'))\n",
        "model.add(layers.Dense(10, activation='softmax'))\n",
        "\n",
        "model.compile(optimizer='adam',\n",
        "              loss='sparse_categorical_crossentropy',\n",
        "              metrics=['accuracy'])\n",
        "\n",
        "# 파라미터 수 읽기\n",
        "model.summary()\n"
      ],
      "metadata": {
        "colab": {
          "base_uri": "https://localhost:8080/"
        },
        "id": "3IDbJd-11OyE",
        "outputId": "0e2afb85-317b-4226-af7d-a2dc8bbd777f"
      },
      "execution_count": null,
      "outputs": [
        {
          "output_type": "stream",
          "name": "stdout",
          "text": [
            "Model: \"sequential_2\"\n",
            "_________________________________________________________________\n",
            " Layer (type)                Output Shape              Param #   \n",
            "=================================================================\n",
            " conv2d (Conv2D)             (None, 32, 32, 32)        896       \n",
            "                                                                 \n",
            " max_pooling2d (MaxPooling2  (None, 16, 16, 32)        0         \n",
            " D)                                                              \n",
            "                                                                 \n",
            " conv2d_1 (Conv2D)           (None, 16, 16, 64)        18496     \n",
            "                                                                 \n",
            " max_pooling2d_1 (MaxPoolin  (None, 8, 8, 64)          0         \n",
            " g2D)                                                            \n",
            "                                                                 \n",
            " conv2d_2 (Conv2D)           (None, 8, 8, 64)          36928     \n",
            "                                                                 \n",
            " max_pooling2d_2 (MaxPoolin  (None, 4, 4, 64)          0         \n",
            " g2D)                                                            \n",
            "                                                                 \n",
            " flatten (Flatten)           (None, 1024)              0         \n",
            "                                                                 \n",
            " dense_5 (Dense)             (None, 64)                65600     \n",
            "                                                                 \n",
            " dense_6 (Dense)             (None, 10)                650       \n",
            "                                                                 \n",
            "=================================================================\n",
            "Total params: 122570 (478.79 KB)\n",
            "Trainable params: 122570 (478.79 KB)\n",
            "Non-trainable params: 0 (0.00 Byte)\n",
            "_________________________________________________________________\n"
          ]
        }
      ]
    },
    {
      "cell_type": "code",
      "source": [
        "batch_size = 64\n",
        "early_stop = keras.callbacks.EarlyStopping(monitor='val_loss', patience=10)\n",
        "model.fit(train_images, train_labels,\n",
        "          batch_size=batch_size,\n",
        "          validation_split = 0.1,\n",
        "          epochs=15,\n",
        "          callbacks=[early_stop])\n",
        "\n",
        "test_loss, test_acc = model.evaluate(test_images, test_labels, verbose=2)\n",
        "\n",
        "print('\\n테스트 정확도:', test_acc)"
      ],
      "metadata": {
        "colab": {
          "base_uri": "https://localhost:8080/"
        },
        "id": "BtFjMDJP1ZZM",
        "outputId": "844e6f56-fd75-4f02-f670-8ea665ae3695"
      },
      "execution_count": null,
      "outputs": [
        {
          "output_type": "stream",
          "name": "stdout",
          "text": [
            "Epoch 1/15\n",
            "704/704 [==============================] - 94s 130ms/step - loss: 1.5683 - accuracy: 0.4309 - val_loss: 1.2505 - val_accuracy: 0.5588\n",
            "Epoch 2/15\n",
            "704/704 [==============================] - 90s 128ms/step - loss: 1.1688 - accuracy: 0.5851 - val_loss: 1.0638 - val_accuracy: 0.6262\n",
            "Epoch 3/15\n",
            "704/704 [==============================] - 87s 123ms/step - loss: 1.0062 - accuracy: 0.6465 - val_loss: 0.9343 - val_accuracy: 0.6706\n",
            "Epoch 4/15\n",
            "704/704 [==============================] - 87s 123ms/step - loss: 0.8965 - accuracy: 0.6861 - val_loss: 0.8825 - val_accuracy: 0.7024\n",
            "Epoch 5/15\n",
            "704/704 [==============================] - 87s 123ms/step - loss: 0.8126 - accuracy: 0.7168 - val_loss: 0.8249 - val_accuracy: 0.7248\n",
            "Epoch 6/15\n",
            "704/704 [==============================] - 94s 133ms/step - loss: 0.7574 - accuracy: 0.7372 - val_loss: 0.8413 - val_accuracy: 0.7068\n",
            "Epoch 7/15\n",
            "704/704 [==============================] - 86s 123ms/step - loss: 0.7011 - accuracy: 0.7546 - val_loss: 0.8143 - val_accuracy: 0.7302\n",
            "Epoch 8/15\n",
            "704/704 [==============================] - 86s 123ms/step - loss: 0.6527 - accuracy: 0.7703 - val_loss: 0.7810 - val_accuracy: 0.7366\n",
            "Epoch 9/15\n",
            "704/704 [==============================] - 88s 125ms/step - loss: 0.6093 - accuracy: 0.7850 - val_loss: 0.8127 - val_accuracy: 0.7326\n",
            "Epoch 10/15\n",
            "704/704 [==============================] - 97s 137ms/step - loss: 0.5724 - accuracy: 0.8002 - val_loss: 0.7854 - val_accuracy: 0.7390\n",
            "Epoch 11/15\n",
            "704/704 [==============================] - 96s 136ms/step - loss: 0.5395 - accuracy: 0.8102 - val_loss: 0.7870 - val_accuracy: 0.7406\n",
            "Epoch 12/15\n",
            "704/704 [==============================] - 97s 137ms/step - loss: 0.5056 - accuracy: 0.8219 - val_loss: 0.8026 - val_accuracy: 0.7476\n",
            "Epoch 13/15\n",
            "704/704 [==============================] - 99s 141ms/step - loss: 0.4694 - accuracy: 0.8348 - val_loss: 0.8113 - val_accuracy: 0.7460\n",
            "Epoch 14/15\n",
            "704/704 [==============================] - 88s 126ms/step - loss: 0.4387 - accuracy: 0.8457 - val_loss: 0.8447 - val_accuracy: 0.7386\n",
            "Epoch 15/15\n",
            "704/704 [==============================] - 89s 126ms/step - loss: 0.4052 - accuracy: 0.8564 - val_loss: 0.8776 - val_accuracy: 0.7344\n",
            "313/313 - 6s - loss: 0.9090 - accuracy: 0.7221 - 6s/epoch - 18ms/step\n",
            "\n",
            "테스트 정확도: 0.722100019454956\n"
          ]
        }
      ]
    },
    {
      "cell_type": "markdown",
      "source": [
        "###3. 문제 2의 프로그램을 다음과 같이 확장하여 프로그램을 구현하고 결과의 정확도를 측정하라. Hidden 1과 Hidden 3를 다음 그림과 같이 두 단계로 확장한다.\n",
        "Convolution 을 반복 수행하고, max pooling은 두번째 단계에서만 수행"
      ],
      "metadata": {
        "id": "jVihEQ4n-IfR"
      }
    },
    {
      "cell_type": "code",
      "source": [
        "from keras import models, layers\n",
        "\n",
        "model = models.Sequential()\n",
        "\n",
        "model.add(layers.Conv2D(32, (3,3), padding=\"SAME\", activation='relu', input_shape=(32, 32, 3))) # input, hidden 1\n",
        "model.add(layers.MaxPooling2D((2, 2)))\n",
        "\n",
        "model.add(layers.Conv2D(32, (3,3), padding=\"SAME\", activation='relu')) # hidden 2\n",
        "model.add(layers.MaxPooling2D((2, 2)))\n",
        "\n",
        "model.add(layers.Conv2D(64, (3, 3), padding=\"SAME\", activation='relu')) # hidden 3\n",
        "model.add(layers.MaxPooling2D((2, 2)))\n",
        "\n",
        "model.add(layers.Conv2D(64, (3, 3), padding=\"SAME\", activation='relu')) # hidden 4\n",
        "\n",
        "# Flatten\n",
        "model.add(layers.Flatten())\n",
        "model.add(layers.Dense(64, activation='relu'))\n",
        "model.add(layers.Dense(10, activation='softmax'))\n",
        "\n",
        "# 모델 컴파일\n",
        "model.compile(optimizer='adam',\n",
        "              loss='sparse_categorical_crossentropy',\n",
        "              metrics=['accuracy'])\n",
        "\n",
        "# 모델 구조 출력\n",
        "model.summary()\n"
      ],
      "metadata": {
        "id": "-Jo_FZj9_dEJ",
        "colab": {
          "base_uri": "https://localhost:8080/"
        },
        "outputId": "8001c9e3-e16c-4d6d-e8c8-30585c697380"
      },
      "execution_count": null,
      "outputs": [
        {
          "output_type": "stream",
          "name": "stdout",
          "text": [
            "Model: \"sequential_4\"\n",
            "_________________________________________________________________\n",
            " Layer (type)                Output Shape              Param #   \n",
            "=================================================================\n",
            " conv2d_7 (Conv2D)           (None, 32, 32, 32)        896       \n",
            "                                                                 \n",
            " max_pooling2d_7 (MaxPoolin  (None, 16, 16, 32)        0         \n",
            " g2D)                                                            \n",
            "                                                                 \n",
            " conv2d_8 (Conv2D)           (None, 16, 16, 32)        9248      \n",
            "                                                                 \n",
            " max_pooling2d_8 (MaxPoolin  (None, 8, 8, 32)          0         \n",
            " g2D)                                                            \n",
            "                                                                 \n",
            " conv2d_9 (Conv2D)           (None, 8, 8, 64)          18496     \n",
            "                                                                 \n",
            " max_pooling2d_9 (MaxPoolin  (None, 4, 4, 64)          0         \n",
            " g2D)                                                            \n",
            "                                                                 \n",
            " conv2d_10 (Conv2D)          (None, 4, 4, 64)          36928     \n",
            "                                                                 \n",
            " flatten_2 (Flatten)         (None, 1024)              0         \n",
            "                                                                 \n",
            " dense_9 (Dense)             (None, 64)                65600     \n",
            "                                                                 \n",
            " dense_10 (Dense)            (None, 10)                650       \n",
            "                                                                 \n",
            "=================================================================\n",
            "Total params: 131818 (514.91 KB)\n",
            "Trainable params: 131818 (514.91 KB)\n",
            "Non-trainable params: 0 (0.00 Byte)\n",
            "_________________________________________________________________\n"
          ]
        }
      ]
    },
    {
      "cell_type": "code",
      "source": [
        "batch_size = 64\n",
        "early_stop = keras.callbacks.EarlyStopping(monitor='val_loss', patience=10)\n",
        "model.fit(train_images, train_labels,\n",
        "          batch_size=batch_size,\n",
        "          validation_split = 0.1,\n",
        "          epochs=15,\n",
        "          callbacks=[early_stop])\n",
        "\n",
        "test_loss, test_acc = model.evaluate(test_images, test_labels, verbose=2)\n",
        "\n",
        "print('\\n테스트 정확도:', test_acc)"
      ],
      "metadata": {
        "colab": {
          "base_uri": "https://localhost:8080/"
        },
        "id": "RQyyhvhX6eu8",
        "outputId": "05c49cc4-79a1-4669-c62f-3ae58e4b67d9"
      },
      "execution_count": null,
      "outputs": [
        {
          "output_type": "stream",
          "name": "stdout",
          "text": [
            "Epoch 1/15\n",
            "704/704 [==============================] - 73s 101ms/step - loss: 1.5957 - accuracy: 0.4148 - val_loss: 1.2840 - val_accuracy: 0.5360\n",
            "Epoch 2/15\n",
            "704/704 [==============================] - 73s 104ms/step - loss: 1.1949 - accuracy: 0.5728 - val_loss: 1.2260 - val_accuracy: 0.5660\n",
            "Epoch 3/15\n",
            "704/704 [==============================] - 70s 100ms/step - loss: 1.0274 - accuracy: 0.6361 - val_loss: 1.0063 - val_accuracy: 0.6484\n",
            "Epoch 4/15\n",
            "704/704 [==============================] - 72s 102ms/step - loss: 0.9067 - accuracy: 0.6787 - val_loss: 0.9053 - val_accuracy: 0.6812\n",
            "Epoch 5/15\n",
            "704/704 [==============================] - 70s 99ms/step - loss: 0.8223 - accuracy: 0.7124 - val_loss: 0.8713 - val_accuracy: 0.7000\n",
            "Epoch 6/15\n",
            "704/704 [==============================] - 69s 98ms/step - loss: 0.7594 - accuracy: 0.7348 - val_loss: 0.9086 - val_accuracy: 0.6908\n",
            "Epoch 7/15\n",
            "704/704 [==============================] - 70s 99ms/step - loss: 0.6907 - accuracy: 0.7585 - val_loss: 0.8243 - val_accuracy: 0.7206\n",
            "Epoch 8/15\n",
            "704/704 [==============================] - 70s 100ms/step - loss: 0.6414 - accuracy: 0.7749 - val_loss: 0.7999 - val_accuracy: 0.7310\n",
            "Epoch 9/15\n",
            "704/704 [==============================] - 72s 103ms/step - loss: 0.5936 - accuracy: 0.7930 - val_loss: 0.8337 - val_accuracy: 0.7212\n",
            "Epoch 10/15\n",
            "704/704 [==============================] - 70s 100ms/step - loss: 0.5483 - accuracy: 0.8073 - val_loss: 0.8254 - val_accuracy: 0.7342\n",
            "Epoch 11/15\n",
            "704/704 [==============================] - 72s 102ms/step - loss: 0.5041 - accuracy: 0.8211 - val_loss: 0.8546 - val_accuracy: 0.7298\n",
            "Epoch 12/15\n",
            "704/704 [==============================] - 71s 101ms/step - loss: 0.4629 - accuracy: 0.8374 - val_loss: 0.8491 - val_accuracy: 0.7278\n",
            "Epoch 13/15\n",
            "704/704 [==============================] - 71s 100ms/step - loss: 0.4275 - accuracy: 0.8496 - val_loss: 0.8792 - val_accuracy: 0.7354\n",
            "Epoch 14/15\n",
            "704/704 [==============================] - 70s 100ms/step - loss: 0.3974 - accuracy: 0.8588 - val_loss: 0.9808 - val_accuracy: 0.7122\n",
            "Epoch 15/15\n",
            "704/704 [==============================] - 69s 97ms/step - loss: 0.3644 - accuracy: 0.8703 - val_loss: 0.9381 - val_accuracy: 0.7242\n",
            "313/313 - 4s - loss: 0.9710 - accuracy: 0.7159 - 4s/epoch - 13ms/step\n",
            "\n",
            "테스트 정확도: 0.7159000039100647\n"
          ]
        }
      ]
    },
    {
      "cell_type": "code",
      "source": [
        "import matplotlib.pyplot as plt\n",
        "\n",
        "train_acc = history.history['accuracy']\n",
        "val_acc = history.history['val_accuracy']\n",
        "\n",
        "epochs = range(0, len(train_acc))\n",
        "\n",
        "# 정확도 그래프 그리기\n",
        "plt.plot(epochs, train_acc, 'r', label='Training acc')\n",
        "plt.plot(epochs, val_acc, 'r--', label='Validation acc')\n",
        "plt.xlabel('Epochs')\n",
        "plt.ylabel('Accuracy')\n",
        "\n",
        "plt.show()"
      ],
      "metadata": {
        "id": "cnJY0UfoXEUu"
      },
      "execution_count": null,
      "outputs": []
    }
  ]
}